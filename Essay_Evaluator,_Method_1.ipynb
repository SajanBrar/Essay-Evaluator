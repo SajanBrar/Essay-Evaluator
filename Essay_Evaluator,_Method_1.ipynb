{
  "nbformat": 4,
  "nbformat_minor": 0,
  "metadata": {
    "colab": {
      "provenance": []
    },
    "kernelspec": {
      "name": "python3",
      "display_name": "Python 3"
    },
    "language_info": {
      "name": "python"
    }
  },
  "cells": [
    {
      "cell_type": "code",
      "source": [
        "%pip install language-tool-python"
      ],
      "metadata": {
        "colab": {
          "base_uri": "https://localhost:8080/"
        },
        "id": "l9kpkb-H7U-j",
        "outputId": "e67aa58c-836b-4abd-c21b-4fd761a2020f"
      },
      "execution_count": null,
      "outputs": [
        {
          "output_type": "stream",
          "name": "stdout",
          "text": [
            "Collecting language-tool-python\n",
            "  Downloading language_tool_python-2.7.1-py3-none-any.whl (34 kB)\n",
            "Requirement already satisfied: requests in /usr/local/lib/python3.10/dist-packages (from language-tool-python) (2.27.1)\n",
            "Requirement already satisfied: tqdm in /usr/local/lib/python3.10/dist-packages (from language-tool-python) (4.65.0)\n",
            "Requirement already satisfied: urllib3<1.27,>=1.21.1 in /usr/local/lib/python3.10/dist-packages (from requests->language-tool-python) (1.26.16)\n",
            "Requirement already satisfied: certifi>=2017.4.17 in /usr/local/lib/python3.10/dist-packages (from requests->language-tool-python) (2023.5.7)\n",
            "Requirement already satisfied: charset-normalizer~=2.0.0 in /usr/local/lib/python3.10/dist-packages (from requests->language-tool-python) (2.0.12)\n",
            "Requirement already satisfied: idna<4,>=2.5 in /usr/local/lib/python3.10/dist-packages (from requests->language-tool-python) (3.4)\n",
            "Installing collected packages: language-tool-python\n",
            "Successfully installed language-tool-python-2.7.1\n"
          ]
        }
      ]
    },
    {
      "cell_type": "code",
      "source": [
        "import language_tool_python\n",
        "\n",
        "my_tool = language_tool_python.LanguageTool('en-US')\n",
        "my_text = \"\"\"A quick broun fox jumpps over a a little lazy dog.\"\"\"\n",
        "my_matches = my_tool.check(my_text)\n",
        "correct_text = my_tool.correct(my_text)\n",
        "\n",
        "print(\"Original Text:\", my_text)\n",
        "print(\"Corrected Text:\", correct_text, end='\\n\\n')\n",
        "# print(my_matches)\n",
        "\n",
        "import yaml\n",
        "print(yaml.dump(my_matches))\n",
        "\n",
        "print(\"Number of Mistakes:\", len(my_matches))"
      ],
      "metadata": {
        "colab": {
          "base_uri": "https://localhost:8080/"
        },
        "id": "KtKA-kX37ckP",
        "outputId": "357abfbe-392b-41cf-965d-b4db7c2a1351"
      },
      "execution_count": null,
      "outputs": [
        {
          "output_type": "stream",
          "name": "stderr",
          "text": [
            "Downloading LanguageTool 5.7: 100%|██████████| 225M/225M [00:03<00:00, 70.7MB/s]\n",
            "INFO:language_tool_python.download_lt:Unzipping /tmp/tmpx4jjc880.zip to /root/.cache/language_tool_python.\n",
            "INFO:language_tool_python.download_lt:Downloaded https://www.languagetool.org/download/LanguageTool-5.7.zip to /root/.cache/language_tool_python.\n"
          ]
        },
        {
          "output_type": "stream",
          "name": "stdout",
          "text": [
            "Original Text: A quick broun fox jumpps over a a little lazy dog.\n",
            "Corrected Text: A quick brown fox jumps over a little lazy dog.\n",
            "\n",
            "- !!python/object:language_tool_python.match.Match\n",
            "  category: TYPOS\n",
            "  context: A quick broun fox jumpps over a a little lazy dog.\n",
            "  errorLength: 5\n",
            "  message: Possible spelling mistake found.\n",
            "  offset: 8\n",
            "  offsetInContext: 8\n",
            "  replacements:\n",
            "  - brown\n",
            "  - Brown\n",
            "  - Braun\n",
            "  ruleId: MORFOLOGIK_RULE_EN_US\n",
            "  ruleIssueType: misspelling\n",
            "  sentence: A quick broun fox jumpps over a a little lazy dog.\n",
            "- !!python/object:language_tool_python.match.Match\n",
            "  category: TYPOS\n",
            "  context: A quick broun fox jumpps over a a little lazy dog.\n",
            "  errorLength: 6\n",
            "  message: Possible spelling mistake found.\n",
            "  offset: 18\n",
            "  offsetInContext: 18\n",
            "  replacements:\n",
            "  - jumps\n",
            "  ruleId: MORFOLOGIK_RULE_EN_US\n",
            "  ruleIssueType: misspelling\n",
            "  sentence: A quick broun fox jumpps over a a little lazy dog.\n",
            "- !!python/object:language_tool_python.match.Match\n",
            "  category: MISC\n",
            "  context: A quick broun fox jumpps over a a little lazy dog.\n",
            "  errorLength: 3\n",
            "  message: 'Possible typo: you repeated a word'\n",
            "  offset: 30\n",
            "  offsetInContext: 30\n",
            "  replacements:\n",
            "  - a\n",
            "  ruleId: ENGLISH_WORD_REPEAT_RULE\n",
            "  ruleIssueType: duplication\n",
            "  sentence: A quick broun fox jumpps over a a little lazy dog.\n",
            "\n",
            "Number of Mistakes: 3\n"
          ]
        }
      ]
    },
    {
      "cell_type": "code",
      "source": [
        "import language_tool_python\n",
        "\n",
        "def evaluate_essay(essay):\n",
        "    tool = language_tool_python.LanguageTool('en-US')\n",
        "    matches = tool.check(essay)\n",
        "    total_marks = 20\n",
        "\n",
        "    deduction_per_typos_mistake = 0.5\n",
        "    deduction_per_grammar_mistake = 2\n",
        "    deduction_per_casing_mistake = 1\n",
        "    deduction_per_confused_words_mistake = 0.5\n",
        "    deduction_per_misc_mistake = 1\n",
        "    deduction_per_redundancy_mistake = 0.5\n",
        "    deduction_per_semantics_mistake = 1\n",
        "    deduction_per_other_mistake = 0.5\n",
        "\n",
        "    typos_mistakes = 0\n",
        "    grammar_mistakes = 0\n",
        "    casing_mistakes = 0\n",
        "    confused_words_mistakes = 0\n",
        "    misc_mistakes = 0\n",
        "    redundancy_mistakes = 0\n",
        "    semantics_mistakes = 0\n",
        "    other_mistakes = 0\n",
        "\n",
        "    word_count = len(essay.split())\n",
        "    word_count_deduction = 0\n",
        "    if word_count > 200 and word_count < 250:\n",
        "        word_count_deduction = 1;\n",
        "    elif word_count > 250 and word_count < 300:\n",
        "        word_count_deduction = 2;\n",
        "    elif word_count > 300:\n",
        "        word_count_deduction = 5\n",
        "    elif word_count > 75 and word_count < 100:\n",
        "        word_count_deduction = 1\n",
        "    elif word_count > 50 and word_count < 75:\n",
        "        word_count_deduction = 2\n",
        "    elif word_count < 50:\n",
        "        word_count_deduction = 5\n",
        "\n",
        "    print(\"Number of words:\", word_count)\n",
        "\n",
        "    for match in matches:\n",
        "        stringnew = essay[match.offset : match.errorLength + match.offset]\n",
        "        print(\"Mistake Type:\", match.category, \"; Error:\", match.ruleIssueType, \"; Correction:\", match.replacements, \"; Previous:\", stringnew)\n",
        "\n",
        "        if match.category == 'TYPOS':\n",
        "            typos_mistakes += 1\n",
        "        elif match.category == 'GRAMMAR':\n",
        "            grammar_mistakes += 1\n",
        "        elif match.category == 'CASING':\n",
        "            casing_mistakes += 1\n",
        "        elif match.category == 'CONFUSED_WORDS':\n",
        "            confused_words_mistakes += 1\n",
        "        elif match.category == 'MISC':\n",
        "            misc_mistakes += 1\n",
        "        elif match.category == 'REDUNDANCY':\n",
        "            redundancy_mistakes += 1\n",
        "        elif match.category == 'SEMANTICS':\n",
        "            semantics_mistakes += 1\n",
        "        else:\n",
        "            other_mistakes += 1\n",
        "\n",
        "    total_deduction = (deduction_per_typos_mistake*typos_mistakes +\n",
        "                       deduction_per_grammar_mistake*grammar_mistakes +\n",
        "                       deduction_per_casing_mistake*casing_mistakes +\n",
        "                       deduction_per_confused_words_mistake*confused_words_mistakes +\n",
        "                       deduction_per_misc_mistake*misc_mistakes +\n",
        "                       deduction_per_redundancy_mistake*redundancy_mistakes +\n",
        "                       deduction_per_semantics_mistake*semantics_mistakes +\n",
        "                       deduction_per_other_mistake*other_mistakes +\n",
        "                       word_count_deduction)\n",
        "\n",
        "    marks = max(total_marks - total_deduction, 4)\n",
        "    correct_text = tool.correct(essay)\n",
        "    print(\"\\nOriginal Text:\", essay)\n",
        "    print(\"Corrected Text:\", correct_text, end='\\n\\n')\n",
        "    print(matches, end='\\n\\n')\n",
        "    print(\"No of mistakes:\", len(matches), end='\\n\\n')\n",
        "    return marks\n",
        "\n",
        "essay = \"\"\"LanguageTool offers spell and grammar checking. Just paste your text here and click the 'Check Text' button. Click the colored phrases for details on potential errors. or use this text too see an few of of the problems that LanguageTool can detecd. What do you thinks of grammar checkers? Please not that they are not perfect. Style issues get a blue marker: It's 5 P.M. in the afternoon. The weather was nice on Thursday, 27 June 2017\"\"\"\n",
        "marks = evaluate_essay(essay)\n",
        "print(f\"The marks obtained are: {marks}\")"
      ],
      "metadata": {
        "id": "Kntr53NKHKxh",
        "colab": {
          "base_uri": "https://localhost:8080/"
        },
        "outputId": "002dcf59-c870-4ba2-f76e-7c59438acb10"
      },
      "execution_count": null,
      "outputs": [
        {
          "output_type": "stream",
          "name": "stdout",
          "text": [
            "Number of words: 77\n",
            "Mistake Type: CASING ; Error: typographical ; Correction: ['Or'] ; Previous: or\n",
            "Mistake Type: CONFUSED_WORDS ; Error: misspelling ; Correction: ['to see'] ; Previous: too see\n",
            "Mistake Type: MISC ; Error: misspelling ; Correction: ['a'] ; Previous: an\n",
            "Mistake Type: MISC ; Error: duplication ; Correction: ['of'] ; Previous: of of\n",
            "Mistake Type: TYPOS ; Error: misspelling ; Correction: ['detect'] ; Previous: detecd\n",
            "Mistake Type: GRAMMAR ; Error: grammar ; Correction: ['think'] ; Previous: thinks\n",
            "Mistake Type: TYPOS ; Error: misspelling ; Correction: ['note'] ; Previous: not\n",
            "Mistake Type: REDUNDANCY ; Error: style ; Correction: ['P.M.'] ; Previous: P.M. in the afternoon\n",
            "Mistake Type: SEMANTICS ; Error: inconsistency ; Correction: [] ; Previous: Thursday, 27 June 2017\n",
            "\n",
            "Original Text: LanguageTool offers spell and grammar checking. Just paste your text here and click the 'Check Text' button. Click the colored phrases for details on potential errors. or use this text too see an few of of the problems that LanguageTool can detecd. What do you thinks of grammar checkers? Please not that they are not perfect. Style issues get a blue marker: It's 5 P.M. in the afternoon. The weather was nice on Thursday, 27 June 2017\n",
            "Corrected Text: LanguageTool offers spell and grammar checking. Just paste your text here and click the 'Check Text' button. Click the colored phrases for details on potential errors. Or use this text to see a few of the problems that LanguageTool can detect. What do you think of grammar checkers? Please note that they are not perfect. Style issues get a blue marker: It's 5 P.M.. The weather was nice on Thursday, 27 June 2017\n",
            "\n",
            "[Match({'ruleId': 'UPPERCASE_SENTENCE_START', 'message': 'This sentence does not start with an uppercase letter.', 'replacements': ['Or'], 'offsetInContext': 43, 'context': '...hrases for details on potential errors. or use this text too see an few of of the ...', 'offset': 168, 'errorLength': 2, 'category': 'CASING', 'ruleIssueType': 'typographical', 'sentence': 'or use this text too see an few of of the problems that LanguageTool can detecd.'}), Match({'ruleId': 'TOO_TO', 'message': 'Did you mean “to see”?', 'replacements': ['to see'], 'offsetInContext': 43, 'context': '...s on potential errors. or use this text too see an few of of the problems that Language...', 'offset': 185, 'errorLength': 7, 'category': 'CONFUSED_WORDS', 'ruleIssueType': 'misspelling', 'sentence': 'or use this text too see an few of of the problems that LanguageTool can detecd.'}), Match({'ruleId': 'EN_A_VS_AN', 'message': 'Use “a” instead of ‘an’ if the following word doesn’t start with a vowel sound, e.g. ‘a sentence’, ‘a university’.', 'replacements': ['a'], 'offsetInContext': 43, 'context': '...ential errors. or use this text too see an few of of the problems that LanguageToo...', 'offset': 193, 'errorLength': 2, 'category': 'MISC', 'ruleIssueType': 'misspelling', 'sentence': 'or use this text too see an few of of the problems that LanguageTool can detecd.'}), Match({'ruleId': 'ENGLISH_WORD_REPEAT_RULE', 'message': 'Possible typo: you repeated a word', 'replacements': ['of'], 'offsetInContext': 43, 'context': '...errors. or use this text too see an few of of the problems that LanguageTool can dete...', 'offset': 200, 'errorLength': 5, 'category': 'MISC', 'ruleIssueType': 'duplication', 'sentence': 'or use this text too see an few of of the problems that LanguageTool can detecd.'}), Match({'ruleId': 'MORFOLOGIK_RULE_EN_US', 'message': 'Possible spelling mistake found.', 'replacements': ['detect'], 'offsetInContext': 43, 'context': '...f of the problems that LanguageTool can detecd. What do you thinks of grammar checkers...', 'offset': 241, 'errorLength': 6, 'category': 'TYPOS', 'ruleIssueType': 'misspelling', 'sentence': 'or use this text too see an few of of the problems that LanguageTool can detecd.'}), Match({'ruleId': 'DO_VBZ', 'message': 'After the auxiliary verb ‘do’, use the base form of the main verb. Did you mean “think”?', 'replacements': ['think'], 'offsetInContext': 43, 'context': '...at LanguageTool can detecd. What do you thinks of grammar checkers? Please not that th...', 'offset': 261, 'errorLength': 6, 'category': 'GRAMMAR', 'ruleIssueType': 'grammar', 'sentence': 'What do you thinks of grammar checkers?'}), Match({'ruleId': 'PLEASE_NOT_THAT', 'message': 'Did you mean “note”?', 'replacements': ['note'], 'offsetInContext': 43, 'context': '... you thinks of grammar checkers? Please not that they are not perfect. Style issues...', 'offset': 296, 'errorLength': 3, 'category': 'TYPOS', 'ruleIssueType': 'misspelling', 'sentence': 'Please not that they are not perfect.'}), Match({'ruleId': 'PM_IN_THE_EVENING', 'message': 'This is redundant. Consider using “P.M.”', 'replacements': ['P.M.'], 'offsetInContext': 43, 'context': \"... Style issues get a blue marker: It's 5 P.M. in the afternoon. The weather was nice on Thursday, 27 J...\", 'offset': 366, 'errorLength': 21, 'category': 'REDUNDANCY', 'ruleIssueType': 'style', 'sentence': \"Style issues get a blue marker: It's 5 P.M. in the afternoon.\"}), Match({'ruleId': 'DATE_WEEKDAY', 'message': 'The date 27 June 2017 is not a Thursday, but a Tuesday.', 'replacements': [], 'offsetInContext': 43, 'context': '... the afternoon. The weather was nice on Thursday, 27 June 2017', 'offset': 413, 'errorLength': 22, 'category': 'SEMANTICS', 'ruleIssueType': 'inconsistency', 'sentence': 'The weather was nice on Thursday, 27 June 2017'})]\n",
            "\n",
            "No of mistakes: 9\n",
            "\n",
            "The marks obtained are: 11.0\n"
          ]
        }
      ]
    },
    {
      "cell_type": "code",
      "source": [],
      "metadata": {
        "id": "aVqdNZr2e1tB"
      },
      "execution_count": null,
      "outputs": []
    }
  ]
}