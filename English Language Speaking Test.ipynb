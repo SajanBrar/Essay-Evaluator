{
  "nbformat": 4,
  "nbformat_minor": 0,
  "metadata": {
    "colab": {
      "provenance": [],
      "collapsed_sections": [
        "E1BTweX0UrYk",
        "qvzI2V-PUw4S",
        "pXFL0vJpaIDH"
      ]
    },
    "kernelspec": {
      "name": "python3",
      "display_name": "Python 3"
    },
    "language_info": {
      "name": "python"
    }
  },
  "cells": [
    {
      "cell_type": "markdown",
      "source": [
        "### Essay Evaluator"
      ],
      "metadata": {
        "id": "E1BTweX0UrYk"
      }
    },
    {
      "cell_type": "code",
      "source": [
        "%pip install language-tool-python"
      ],
      "metadata": {
        "colab": {
          "base_uri": "https://localhost:8080/"
        },
        "id": "l9kpkb-H7U-j",
        "outputId": "795c24aa-c45b-47e6-d9d4-a747854d0d94"
      },
      "execution_count": null,
      "outputs": [
        {
          "output_type": "stream",
          "name": "stdout",
          "text": [
            "Collecting language-tool-python\n",
            "  Downloading language_tool_python-2.7.1-py3-none-any.whl (34 kB)\n",
            "Requirement already satisfied: requests in /usr/local/lib/python3.10/dist-packages (from language-tool-python) (2.27.1)\n",
            "Requirement already satisfied: tqdm in /usr/local/lib/python3.10/dist-packages (from language-tool-python) (4.65.0)\n",
            "Requirement already satisfied: urllib3<1.27,>=1.21.1 in /usr/local/lib/python3.10/dist-packages (from requests->language-tool-python) (1.26.16)\n",
            "Requirement already satisfied: certifi>=2017.4.17 in /usr/local/lib/python3.10/dist-packages (from requests->language-tool-python) (2023.5.7)\n",
            "Requirement already satisfied: charset-normalizer~=2.0.0 in /usr/local/lib/python3.10/dist-packages (from requests->language-tool-python) (2.0.12)\n",
            "Requirement already satisfied: idna<4,>=2.5 in /usr/local/lib/python3.10/dist-packages (from requests->language-tool-python) (3.4)\n",
            "Installing collected packages: language-tool-python\n",
            "Successfully installed language-tool-python-2.7.1\n"
          ]
        }
      ]
    },
    {
      "cell_type": "code",
      "source": [
        "import language_tool_python\n",
        "\n",
        "my_tool = language_tool_python.LanguageTool('en-US')\n",
        "my_text = \"\"\"A quick broun fox jumpps over a a little lazy dog.\"\"\"\n",
        "my_matches = my_tool.check(my_text)\n",
        "correct_text = my_tool.correct(my_text)\n",
        "\n",
        "print(\"Original Text:\", my_text)\n",
        "print(\"Corrected Text:\", correct_text, end='\\n\\n')\n",
        "# print(my_matches)\n",
        "\n",
        "import yaml\n",
        "print(yaml.dump(my_matches))\n",
        "\n",
        "print(\"Number of Mistakes:\", len(my_matches))"
      ],
      "metadata": {
        "colab": {
          "base_uri": "https://localhost:8080/"
        },
        "id": "KtKA-kX37ckP",
        "outputId": "b266058d-0e60-4a8d-ae13-d046f702c0c1"
      },
      "execution_count": null,
      "outputs": [
        {
          "output_type": "stream",
          "name": "stderr",
          "text": [
            "Downloading LanguageTool 5.7: 100%|██████████| 225M/225M [00:14<00:00, 15.8MB/s]\n",
            "INFO:language_tool_python.download_lt:Unzipping /tmp/tmpzdul8so7.zip to /root/.cache/language_tool_python.\n",
            "INFO:language_tool_python.download_lt:Downloaded https://www.languagetool.org/download/LanguageTool-5.7.zip to /root/.cache/language_tool_python.\n"
          ]
        },
        {
          "output_type": "stream",
          "name": "stdout",
          "text": [
            "Original Text: A quick broun fox jumpps over a a little lazy dog.\n",
            "Corrected Text: A quick brown fox jumps over a little lazy dog.\n",
            "\n",
            "- !!python/object:language_tool_python.match.Match\n",
            "  category: TYPOS\n",
            "  context: A quick broun fox jumpps over a a little lazy dog.\n",
            "  errorLength: 5\n",
            "  message: Possible spelling mistake found.\n",
            "  offset: 8\n",
            "  offsetInContext: 8\n",
            "  replacements:\n",
            "  - brown\n",
            "  - Brown\n",
            "  - Braun\n",
            "  ruleId: MORFOLOGIK_RULE_EN_US\n",
            "  ruleIssueType: misspelling\n",
            "  sentence: A quick broun fox jumpps over a a little lazy dog.\n",
            "- !!python/object:language_tool_python.match.Match\n",
            "  category: TYPOS\n",
            "  context: A quick broun fox jumpps over a a little lazy dog.\n",
            "  errorLength: 6\n",
            "  message: Possible spelling mistake found.\n",
            "  offset: 18\n",
            "  offsetInContext: 18\n",
            "  replacements:\n",
            "  - jumps\n",
            "  ruleId: MORFOLOGIK_RULE_EN_US\n",
            "  ruleIssueType: misspelling\n",
            "  sentence: A quick broun fox jumpps over a a little lazy dog.\n",
            "- !!python/object:language_tool_python.match.Match\n",
            "  category: MISC\n",
            "  context: A quick broun fox jumpps over a a little lazy dog.\n",
            "  errorLength: 3\n",
            "  message: 'Possible typo: you repeated a word'\n",
            "  offset: 30\n",
            "  offsetInContext: 30\n",
            "  replacements:\n",
            "  - a\n",
            "  ruleId: ENGLISH_WORD_REPEAT_RULE\n",
            "  ruleIssueType: duplication\n",
            "  sentence: A quick broun fox jumpps over a a little lazy dog.\n",
            "\n",
            "Number of Mistakes: 3\n"
          ]
        }
      ]
    },
    {
      "cell_type": "code",
      "source": [
        "import language_tool_python\n",
        "\n",
        "def evaluate_essay(essay):\n",
        "    tool = language_tool_python.LanguageTool('en-US')\n",
        "    matches = tool.check(essay)\n",
        "    total_marks = 20\n",
        "\n",
        "    deduction_per_typos_mistake = 0.5\n",
        "    deduction_per_grammar_mistake = 2\n",
        "    deduction_per_casing_mistake = 1\n",
        "    deduction_per_confused_words_mistake = 0.5\n",
        "    deduction_per_misc_mistake = 1\n",
        "    deduction_per_redundancy_mistake = 0.5\n",
        "    deduction_per_semantics_mistake = 1\n",
        "    deduction_per_other_mistake = 0.5\n",
        "\n",
        "    typos_mistakes = 0\n",
        "    grammar_mistakes = 0\n",
        "    casing_mistakes = 0\n",
        "    confused_words_mistakes = 0\n",
        "    misc_mistakes = 0\n",
        "    redundancy_mistakes = 0\n",
        "    semantics_mistakes = 0\n",
        "    other_mistakes = 0\n",
        "\n",
        "    word_count = len(essay.split())\n",
        "    word_count_deduction = 0\n",
        "    if word_count > 200 and word_count < 250:\n",
        "        word_count_deduction = 1;\n",
        "    elif word_count > 250 and word_count < 300:\n",
        "        word_count_deduction = 2;\n",
        "    elif word_count > 300:\n",
        "        word_count_deduction = 5\n",
        "    elif word_count > 75 and word_count < 100:\n",
        "        word_count_deduction = 1\n",
        "    elif word_count > 50 and word_count < 75:\n",
        "        word_count_deduction = 2\n",
        "    elif word_count < 50:\n",
        "        word_count_deduction = 5\n",
        "\n",
        "    print(\"Number of words:\", word_count)\n",
        "\n",
        "    for match in matches:\n",
        "        stringnew = essay[match.offset : match.errorLength + match.offset]\n",
        "        print(\"Mistake Type:\", match.category, \"; Error:\", match.ruleIssueType, \"; Correction:\", match.replacements, \"; Previous:\", stringnew)\n",
        "\n",
        "        if match.category == 'TYPOS':\n",
        "            typos_mistakes += 0.25\n",
        "        elif match.category == 'GRAMMAR':\n",
        "            grammar_mistakes += 1\n",
        "        elif match.category == 'CASING':\n",
        "            casing_mistakes += 1\n",
        "        elif match.category == 'CONFUSED_WORDS':\n",
        "            confused_words_mistakes += 1\n",
        "        elif match.category == 'MISC':\n",
        "            misc_mistakes += 1\n",
        "        elif match.category == 'REDUNDANCY':\n",
        "            redundancy_mistakes += 1\n",
        "        elif match.category == 'SEMANTICS':\n",
        "            semantics_mistakes += 1\n",
        "        else:\n",
        "            other_mistakes += 1\n",
        "\n",
        "    total_deduction = (deduction_per_typos_mistake*typos_mistakes +\n",
        "                       deduction_per_grammar_mistake*grammar_mistakes +\n",
        "                       deduction_per_casing_mistake*casing_mistakes +\n",
        "                       deduction_per_confused_words_mistake*confused_words_mistakes +\n",
        "                       deduction_per_misc_mistake*misc_mistakes +\n",
        "                       deduction_per_redundancy_mistake*redundancy_mistakes +\n",
        "                       deduction_per_semantics_mistake*semantics_mistakes +\n",
        "                       deduction_per_other_mistake*other_mistakes +\n",
        "                       word_count_deduction)\n",
        "\n",
        "    marks = max(total_marks - total_deduction, 4)\n",
        "    correct_text = tool.correct(essay)\n",
        "    print(\"\\nOriginal Text:\", essay)\n",
        "    print(\"Corrected Text:\", correct_text, end='\\n\\n')\n",
        "    print(matches, end='\\n\\n')\n",
        "    print(\"No of mistakes:\", len(matches), end='\\n\\n')\n",
        "    return marks\n",
        "\n",
        "essay1 = \"\"\"LanguageTool offers spell and grammar checking. Just paste your text here and click the 'Check Text' button. Click the colored phrases for details on potential errors. or use this text too see an few of of the problems that LanguageTool can detecd. What do you thinks of grammar checkers? Please not that they are not perfect. Style issues get a blue marker: It's 5 P.M. in the afternoon. The weather was nice on Thursday, 27 June 2017\"\"\"\n",
        "marks = evaluate_essay(essay1)\n",
        "print(f\"The marks obtained are: {marks}\")"
      ],
      "metadata": {
        "id": "Kntr53NKHKxh",
        "colab": {
          "base_uri": "https://localhost:8080/"
        },
        "outputId": "dc1bf64f-2316-4934-b730-332157071788"
      },
      "execution_count": null,
      "outputs": [
        {
          "output_type": "stream",
          "name": "stdout",
          "text": [
            "Number of words: 77\n",
            "Mistake Type: CASING ; Error: typographical ; Correction: ['Or'] ; Previous: or\n",
            "Mistake Type: CONFUSED_WORDS ; Error: misspelling ; Correction: ['to see'] ; Previous: too see\n",
            "Mistake Type: MISC ; Error: misspelling ; Correction: ['a'] ; Previous: an\n",
            "Mistake Type: MISC ; Error: duplication ; Correction: ['of'] ; Previous: of of\n",
            "Mistake Type: TYPOS ; Error: misspelling ; Correction: ['detect'] ; Previous: detecd\n",
            "Mistake Type: GRAMMAR ; Error: grammar ; Correction: ['think'] ; Previous: thinks\n",
            "Mistake Type: TYPOS ; Error: misspelling ; Correction: ['note'] ; Previous: not\n",
            "Mistake Type: REDUNDANCY ; Error: style ; Correction: ['P.M.'] ; Previous: P.M. in the afternoon\n",
            "Mistake Type: SEMANTICS ; Error: inconsistency ; Correction: [] ; Previous: Thursday, 27 June 2017\n",
            "\n",
            "Original Text: LanguageTool offers spell and grammar checking. Just paste your text here and click the 'Check Text' button. Click the colored phrases for details on potential errors. or use this text too see an few of of the problems that LanguageTool can detecd. What do you thinks of grammar checkers? Please not that they are not perfect. Style issues get a blue marker: It's 5 P.M. in the afternoon. The weather was nice on Thursday, 27 June 2017\n",
            "Corrected Text: LanguageTool offers spell and grammar checking. Just paste your text here and click the 'Check Text' button. Click the colored phrases for details on potential errors. Or use this text to see a few of the problems that LanguageTool can detect. What do you think of grammar checkers? Please note that they are not perfect. Style issues get a blue marker: It's 5 P.M.. The weather was nice on Thursday, 27 June 2017\n",
            "\n",
            "[Match({'ruleId': 'UPPERCASE_SENTENCE_START', 'message': 'This sentence does not start with an uppercase letter.', 'replacements': ['Or'], 'offsetInContext': 43, 'context': '...hrases for details on potential errors. or use this text too see an few of of the ...', 'offset': 168, 'errorLength': 2, 'category': 'CASING', 'ruleIssueType': 'typographical', 'sentence': 'or use this text too see an few of of the problems that LanguageTool can detecd.'}), Match({'ruleId': 'TOO_TO', 'message': 'Did you mean “to see”?', 'replacements': ['to see'], 'offsetInContext': 43, 'context': '...s on potential errors. or use this text too see an few of of the problems that Language...', 'offset': 185, 'errorLength': 7, 'category': 'CONFUSED_WORDS', 'ruleIssueType': 'misspelling', 'sentence': 'or use this text too see an few of of the problems that LanguageTool can detecd.'}), Match({'ruleId': 'EN_A_VS_AN', 'message': 'Use “a” instead of ‘an’ if the following word doesn’t start with a vowel sound, e.g. ‘a sentence’, ‘a university’.', 'replacements': ['a'], 'offsetInContext': 43, 'context': '...ential errors. or use this text too see an few of of the problems that LanguageToo...', 'offset': 193, 'errorLength': 2, 'category': 'MISC', 'ruleIssueType': 'misspelling', 'sentence': 'or use this text too see an few of of the problems that LanguageTool can detecd.'}), Match({'ruleId': 'ENGLISH_WORD_REPEAT_RULE', 'message': 'Possible typo: you repeated a word', 'replacements': ['of'], 'offsetInContext': 43, 'context': '...errors. or use this text too see an few of of the problems that LanguageTool can dete...', 'offset': 200, 'errorLength': 5, 'category': 'MISC', 'ruleIssueType': 'duplication', 'sentence': 'or use this text too see an few of of the problems that LanguageTool can detecd.'}), Match({'ruleId': 'MORFOLOGIK_RULE_EN_US', 'message': 'Possible spelling mistake found.', 'replacements': ['detect'], 'offsetInContext': 43, 'context': '...f of the problems that LanguageTool can detecd. What do you thinks of grammar checkers...', 'offset': 241, 'errorLength': 6, 'category': 'TYPOS', 'ruleIssueType': 'misspelling', 'sentence': 'or use this text too see an few of of the problems that LanguageTool can detecd.'}), Match({'ruleId': 'DO_VBZ', 'message': 'After the auxiliary verb ‘do’, use the base form of the main verb. Did you mean “think”?', 'replacements': ['think'], 'offsetInContext': 43, 'context': '...at LanguageTool can detecd. What do you thinks of grammar checkers? Please not that th...', 'offset': 261, 'errorLength': 6, 'category': 'GRAMMAR', 'ruleIssueType': 'grammar', 'sentence': 'What do you thinks of grammar checkers?'}), Match({'ruleId': 'PLEASE_NOT_THAT', 'message': 'Did you mean “note”?', 'replacements': ['note'], 'offsetInContext': 43, 'context': '... you thinks of grammar checkers? Please not that they are not perfect. Style issues...', 'offset': 296, 'errorLength': 3, 'category': 'TYPOS', 'ruleIssueType': 'misspelling', 'sentence': 'Please not that they are not perfect.'}), Match({'ruleId': 'PM_IN_THE_EVENING', 'message': 'This is redundant. Consider using “P.M.”', 'replacements': ['P.M.'], 'offsetInContext': 43, 'context': \"... Style issues get a blue marker: It's 5 P.M. in the afternoon. The weather was nice on Thursday, 27 J...\", 'offset': 366, 'errorLength': 21, 'category': 'REDUNDANCY', 'ruleIssueType': 'style', 'sentence': \"Style issues get a blue marker: It's 5 P.M. in the afternoon.\"}), Match({'ruleId': 'DATE_WEEKDAY', 'message': 'The date 27 June 2017 is not a Thursday, but a Tuesday.', 'replacements': [], 'offsetInContext': 43, 'context': '... the afternoon. The weather was nice on Thursday, 27 June 2017', 'offset': 413, 'errorLength': 22, 'category': 'SEMANTICS', 'ruleIssueType': 'inconsistency', 'sentence': 'The weather was nice on Thursday, 27 June 2017'})]\n",
            "\n",
            "No of mistakes: 9\n",
            "\n",
            "The marks obtained are: 11.0\n"
          ]
        }
      ]
    },
    {
      "cell_type": "code",
      "source": [],
      "metadata": {
        "id": "1167yP9daGHZ"
      },
      "execution_count": null,
      "outputs": []
    },
    {
      "cell_type": "markdown",
      "source": [
        "### Text to Speech and Speech to Text"
      ],
      "metadata": {
        "id": "qvzI2V-PUw4S"
      }
    },
    {
      "cell_type": "code",
      "source": [
        "%pip install gtts"
      ],
      "metadata": {
        "colab": {
          "base_uri": "https://localhost:8080/"
        },
        "id": "VH10GMy4OwNK",
        "outputId": "651c2e6a-d451-464a-a4d4-d781a4b3a29f"
      },
      "execution_count": null,
      "outputs": [
        {
          "output_type": "stream",
          "name": "stdout",
          "text": [
            "Collecting gtts\n",
            "  Downloading gTTS-2.3.2-py3-none-any.whl (28 kB)\n",
            "Requirement already satisfied: requests<3,>=2.27 in /usr/local/lib/python3.10/dist-packages (from gtts) (2.27.1)\n",
            "Requirement already satisfied: click<8.2,>=7.1 in /usr/local/lib/python3.10/dist-packages (from gtts) (8.1.3)\n",
            "Requirement already satisfied: urllib3<1.27,>=1.21.1 in /usr/local/lib/python3.10/dist-packages (from requests<3,>=2.27->gtts) (1.26.16)\n",
            "Requirement already satisfied: certifi>=2017.4.17 in /usr/local/lib/python3.10/dist-packages (from requests<3,>=2.27->gtts) (2023.5.7)\n",
            "Requirement already satisfied: charset-normalizer~=2.0.0 in /usr/local/lib/python3.10/dist-packages (from requests<3,>=2.27->gtts) (2.0.12)\n",
            "Requirement already satisfied: idna<4,>=2.5 in /usr/local/lib/python3.10/dist-packages (from requests<3,>=2.27->gtts) (3.4)\n",
            "Installing collected packages: gtts\n",
            "Successfully installed gtts-2.3.2\n"
          ]
        }
      ]
    },
    {
      "cell_type": "code",
      "source": [
        "from gtts import gTTS\n",
        "import os\n",
        "mytext = 'This is an English Language Test'\n",
        "language = 'en'\n",
        "\n",
        "myobj = gTTS(text=mytext, lang=language, slow=False)\n",
        "myobj.save(\"phrase1.mp3\")"
      ],
      "metadata": {
        "id": "aVqdNZr2e1tB"
      },
      "execution_count": null,
      "outputs": []
    },
    {
      "cell_type": "code",
      "source": [
        "from IPython.display import Audio, display\n",
        "display(Audio('/content/phrase1.mp3', autoplay=True))"
      ],
      "metadata": {
        "colab": {
          "base_uri": "https://localhost:8080/",
          "height": 75
        },
        "id": "8xKqeqFJO7gl",
        "outputId": "a596c9d5-3db9-4923-9925-b5d38e9d4f8f"
      },
      "execution_count": null,
      "outputs": [
        {
          "output_type": "display_data",
          "data": {
            "text/plain": [
              "<IPython.lib.display.Audio object>"
            ],
            "text/html": [
              "\n",
              "                <audio  controls=\"controls\" autoplay=\"autoplay\">\n",
              "                    <source src=\"data:audio/mpeg;base64,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\" type=\"audio/mpeg\" />\n",
              "                    Your browser does not support the audio element.\n",
              "                </audio>\n",
              "              "
            ]
          },
          "metadata": {}
        }
      ]
    },
    {
      "cell_type": "code",
      "source": [
        "%pip install SpeechRecognition pydub"
      ],
      "metadata": {
        "colab": {
          "base_uri": "https://localhost:8080/"
        },
        "id": "uWQEX84vQaZ7",
        "outputId": "f6bc1532-eec5-4ffe-ca69-18f69ca4b717"
      },
      "execution_count": null,
      "outputs": [
        {
          "output_type": "stream",
          "name": "stdout",
          "text": [
            "Requirement already satisfied: SpeechRecognition in /usr/local/lib/python3.10/dist-packages (3.10.0)\n",
            "Collecting pydub\n",
            "  Downloading pydub-0.25.1-py2.py3-none-any.whl (32 kB)\n",
            "Requirement already satisfied: requests>=2.26.0 in /usr/local/lib/python3.10/dist-packages (from SpeechRecognition) (2.27.1)\n",
            "Requirement already satisfied: urllib3<1.27,>=1.21.1 in /usr/local/lib/python3.10/dist-packages (from requests>=2.26.0->SpeechRecognition) (1.26.16)\n",
            "Requirement already satisfied: certifi>=2017.4.17 in /usr/local/lib/python3.10/dist-packages (from requests>=2.26.0->SpeechRecognition) (2023.5.7)\n",
            "Requirement already satisfied: charset-normalizer~=2.0.0 in /usr/local/lib/python3.10/dist-packages (from requests>=2.26.0->SpeechRecognition) (2.0.12)\n",
            "Requirement already satisfied: idna<4,>=2.5 in /usr/local/lib/python3.10/dist-packages (from requests>=2.26.0->SpeechRecognition) (3.4)\n",
            "Installing collected packages: pydub\n",
            "Successfully installed pydub-0.25.1\n"
          ]
        }
      ]
    },
    {
      "cell_type": "code",
      "source": [
        "from os import path\n",
        "from pydub import AudioSegment\n",
        "input_file = \"/content/Audio_1.mp3\"\n",
        "output_file = \"/content/Audio_1.wav\"\n",
        "sound = AudioSegment.from_mp3(input_file)\n",
        "sound.export(output_file, format=\"wav\")"
      ],
      "metadata": {
        "colab": {
          "base_uri": "https://localhost:8080/"
        },
        "id": "f8hxl9dLRCNM",
        "outputId": "3011367c-4b1e-4500-84c7-9867b897f42b"
      },
      "execution_count": null,
      "outputs": [
        {
          "output_type": "execute_result",
          "data": {
            "text/plain": [
              "<_io.BufferedRandom name='/content/Audio_1.wav'>"
            ]
          },
          "metadata": {},
          "execution_count": 36
        }
      ]
    },
    {
      "cell_type": "code",
      "source": [
        "from IPython.display import Audio, display\n",
        "display(Audio('/content/Audio_1.wav', autoplay=True))"
      ],
      "metadata": {
        "id": "EOVfUemfT2yc"
      },
      "execution_count": null,
      "outputs": []
    },
    {
      "cell_type": "code",
      "source": [
        "import speech_recognition as sr\n",
        "recognizer = sr.Recognizer()\n",
        "audio_ex = sr.AudioFile('/content/audio_sample_1.wav')\n",
        "type(audio_ex)\n",
        "\n",
        "with audio_ex as source:\n",
        "    audiodata = recognizer.record(audio_ex)\n",
        "type(audiodata)\n",
        "\n",
        "text = recognizer.recognize_google(audio_data=audiodata, language='en-US')\n",
        "print(text)"
      ],
      "metadata": {
        "colab": {
          "base_uri": "https://localhost:8080/"
        },
        "id": "2oy3ehJKTUte",
        "outputId": "28346dfa-b161-42c2-bac8-3bb3a2f0f4c5"
      },
      "execution_count": null,
      "outputs": [
        {
          "output_type": "stream",
          "name": "stdout",
          "text": [
            "I believe you are just talking nonsense\n"
          ]
        }
      ]
    },
    {
      "cell_type": "code",
      "source": [
        "import speech_recognition as sr\n",
        "import os\n",
        "from pydub import AudioSegment\n",
        "from pydub.silence import split_on_silence\n",
        "\n",
        "r = sr.Recognizer()\n",
        "\n",
        "def transcribe_audio(path):\n",
        "    with sr.AudioFile(path) as source:\n",
        "        audio_listened = r.record(source)\n",
        "        text = r.recognize_google(audio_listened)\n",
        "    return text\n",
        "\n",
        "def get_large_audio_transcription_on_silence(path):\n",
        "    sound = AudioSegment.from_file(path)\n",
        "    chunks = split_on_silence(sound,\n",
        "        min_silence_len = 500,\n",
        "        silence_thresh = sound.dBFS-14,\n",
        "        keep_silence=500,\n",
        "    )\n",
        "    folder_name = \"audio-chunks\"\n",
        "    if not os.path.isdir(folder_name):\n",
        "        os.mkdir(folder_name)\n",
        "    whole_text = \"\"\n",
        "    for i, audio_chunk in enumerate(chunks, start=1):\n",
        "        chunk_filename = os.path.join(folder_name, f\"chunk{i}.wav\")\n",
        "        audio_chunk.export(chunk_filename, format=\"wav\")\n",
        "        try:\n",
        "            text = transcribe_audio(chunk_filename)\n",
        "        except sr.UnknownValueError as e:\n",
        "            print(\"Error:\", str(e))\n",
        "        else:\n",
        "            text = f\"{text.capitalize()}. \"\n",
        "            print(chunk_filename, \":\", text)\n",
        "            whole_text += text\n",
        "    return whole_text\n",
        "\n",
        "def get_large_audio_transcription_fixed_interval(path, minutes=5):\n",
        "    sound = AudioSegment.from_file(path)\n",
        "    chunk_length_ms = int(1000 * 60 * minutes)\n",
        "    chunks = [sound[i:i + chunk_length_ms] for i in range(0, len(sound), chunk_length_ms)]\n",
        "    folder_name = \"audio-fixed-chunks\"\n",
        "    if not os.path.isdir(folder_name):\n",
        "        os.mkdir(folder_name)\n",
        "    whole_text = \"\"\n",
        "    for i, audio_chunk in enumerate(chunks, start=1):\n",
        "        chunk_filename = os.path.join(folder_name, f\"chunk{i}.wav\")\n",
        "        audio_chunk.export(chunk_filename, format=\"wav\")\n",
        "        try:\n",
        "            text = transcribe_audio(chunk_filename)\n",
        "        except sr.UnknownValueError as e:\n",
        "            print(\"Error:\", str(e))\n",
        "        else:\n",
        "            text = f\"{text.capitalize()}. \"\n",
        "            print(chunk_filename, \":\", text)\n",
        "            whole_text += text\n",
        "    return whole_text\n",
        "\n",
        "\n",
        "if __name__ == '__main__':\n",
        "    import sys\n",
        "    path = sys.argv[1]\n",
        "    print(\"\\nFull text:\", get_large_audio_transcription_on_silence('/content/Audio_1.wav'))\n",
        "    print(\"=\"*50)\n",
        "    print(\"\\nFull text:\", get_large_audio_transcription_fixed_interval('/content/Audio_1.wav', minutes=1/6))\n"
      ],
      "metadata": {
        "colab": {
          "base_uri": "https://localhost:8080/"
        },
        "id": "yW9ewMuDWPLS",
        "outputId": "bfb9024b-2008-469c-eba4-da38dd5fae11"
      },
      "execution_count": null,
      "outputs": [
        {
          "output_type": "stream",
          "name": "stdout",
          "text": [
            "Error: \n",
            "audio-chunks/chunk2.wav : In 1667 a danish scientist finally concluded that certain mysterious stones prized to their supposed medicinal powers hadn't fallen from the sky during lunar eclipses and weren't serpent times. \n",
            "audio-chunks/chunk3.wav : In fact they were fossilized. \n",
            "Error: \n",
            "audio-chunks/chunk5.wav : Mini belonging to a prehistoric species that would come to be called megalodon the biggest shark to ever live so what was it like when megalodon ruled the seas and what brought this formidable predator to extinction. \n",
            "audio-chunks/chunk6.wav : Cartilaginous what remains of megalodons are mostly scattered clues like some isolated vertebrae and lots of their enamel protected teeth like many sharks megalodons could shed and replace thousands of teeth over the course of their lives interestingly some fossil sites harbor is specially high numbers of small megalodon teeth experts believe these were nurseries that supported countless generations of shelters before becoming unrivaled adult marine hunters looking at the similarities with great white shark teeth scientists estimate that megalodons might have stretched up to 20 meters three times longer than great white wine which began around 20 million years ago megalodons and the ocean's had no shortage of high energy edible options nitrogen isotopes accumulated in their tissues including the enamel of the teeth analyzing megalodon teeth scientists confirmed that they were eight packs predators. \n",
            "audio-chunks/chunk7.wav : In addition to megalodons teeth researchers have access to one exceptionally well preserved spinal column that comprises 141 vertebrae of a 46 year old megalodon. \n",
            "audio-chunks/chunk8.wav : A 3d model of the megalodon's body suggests that its stomach could reach volumes of almost 10,000 l big enough to fit an entire orca reconstructing their jaws researchers think megalodons could eat a now extinct 7 m sperm whale in as few as four bites and the fossilized bones of ancient cetaceans do indeed show evidence of megalodon bite marks including some that healed over confirming that megalodon's pursued live prey but if megalodons were so powerful why did they go extinct. \n",
            "audio-chunks/chunk9.wav : It seems there were a few contributing factors by the time they disappeared around three and a half million years ago the global climate had cooled causing more glaciers to form and the sea level to drop this dried up many coastal habitats meaning some of the world's most resource-rich marine science were lost about a third of all marine megafauna eventually went extinct so fewer were available and megalodons already faced high energetic demands because of their size and the mechanism they likely used to regulate their body temperature which allowed them to navigate cold waters and attack prey with bursts of speed environmental changes may have made megalodon's vulnerable and increasingly put them in competition with other predators including the great white shark a relative newcomer because megalodons were highly mobile predators their extinction had global consequences the end of their long-distance travels probably disrupted nutrient transport between different ecosystems and many animals were suddenly released from the immense predatory pressure of their bite interestingly some marine mammals dramatically increase in size afterwards which was perhaps partially afforded because there were no longer dealing with such a mega existential threat knowing that the decline of apex predators can destabilize entire ecosystems conservationists are working to prevent today's sharks from facing a similar fate this time because of humans and meanwhile the megalodon remains a colossal testament to ecological millions of years of bones and waters while wandered a sense of all and reverence but what makes these magnificent creatures such formidable hunters and vital components of the marine ecosystem get to know these ancient and powerful creatures with these videos. \n",
            "\n",
            "Full text: In 1667 a danish scientist finally concluded that certain mysterious stones prized to their supposed medicinal powers hadn't fallen from the sky during lunar eclipses and weren't serpent times. In fact they were fossilized. Mini belonging to a prehistoric species that would come to be called megalodon the biggest shark to ever live so what was it like when megalodon ruled the seas and what brought this formidable predator to extinction. Cartilaginous what remains of megalodons are mostly scattered clues like some isolated vertebrae and lots of their enamel protected teeth like many sharks megalodons could shed and replace thousands of teeth over the course of their lives interestingly some fossil sites harbor is specially high numbers of small megalodon teeth experts believe these were nurseries that supported countless generations of shelters before becoming unrivaled adult marine hunters looking at the similarities with great white shark teeth scientists estimate that megalodons might have stretched up to 20 meters three times longer than great white wine which began around 20 million years ago megalodons and the ocean's had no shortage of high energy edible options nitrogen isotopes accumulated in their tissues including the enamel of the teeth analyzing megalodon teeth scientists confirmed that they were eight packs predators. In addition to megalodons teeth researchers have access to one exceptionally well preserved spinal column that comprises 141 vertebrae of a 46 year old megalodon. A 3d model of the megalodon's body suggests that its stomach could reach volumes of almost 10,000 l big enough to fit an entire orca reconstructing their jaws researchers think megalodons could eat a now extinct 7 m sperm whale in as few as four bites and the fossilized bones of ancient cetaceans do indeed show evidence of megalodon bite marks including some that healed over confirming that megalodon's pursued live prey but if megalodons were so powerful why did they go extinct. It seems there were a few contributing factors by the time they disappeared around three and a half million years ago the global climate had cooled causing more glaciers to form and the sea level to drop this dried up many coastal habitats meaning some of the world's most resource-rich marine science were lost about a third of all marine megafauna eventually went extinct so fewer were available and megalodons already faced high energetic demands because of their size and the mechanism they likely used to regulate their body temperature which allowed them to navigate cold waters and attack prey with bursts of speed environmental changes may have made megalodon's vulnerable and increasingly put them in competition with other predators including the great white shark a relative newcomer because megalodons were highly mobile predators their extinction had global consequences the end of their long-distance travels probably disrupted nutrient transport between different ecosystems and many animals were suddenly released from the immense predatory pressure of their bite interestingly some marine mammals dramatically increase in size afterwards which was perhaps partially afforded because there were no longer dealing with such a mega existential threat knowing that the decline of apex predators can destabilize entire ecosystems conservationists are working to prevent today's sharks from facing a similar fate this time because of humans and meanwhile the megalodon remains a colossal testament to ecological millions of years of bones and waters while wandered a sense of all and reverence but what makes these magnificent creatures such formidable hunters and vital components of the marine ecosystem get to know these ancient and powerful creatures with these videos. \n",
            "==================================================\n",
            "audio-fixed-chunks/chunk1.wav : In 1667 a danish scientist. \n",
            "audio-fixed-chunks/chunk2.wav : Any concluded that certain mysterious stones prized to their supposed medicinal powers hadn't fallen from the sky during lunar eclipses and. \n",
            "audio-fixed-chunks/chunk3.wav : In fact they were fossilized teeth many belonging to a prehistoric species that would come to be called megalodon. \n",
            "audio-fixed-chunks/chunk4.wav : What's the biggest shark to ever live so what was it like when megalodon ruled the seas and what brought this formidable. \n",
            "audio-fixed-chunks/chunk5.wav : What remains of megalodons are mostly scattered clues like some isolated. \n",
            "audio-fixed-chunks/chunk6.wav : Like many sharks megalodons could shed and replace thousands of teeth over the course of their lives. \n",
            "audio-fixed-chunks/chunk7.wav : Interestingly some fossil sites harbor especially high numbers of small megalodon teeth experts believe these were nurseries that supported. \n",
            "audio-fixed-chunks/chunk8.wav : Countless generations of budding megalodons they grew up in sheltered and food packed shallow waters before becoming unrivaled adult marine. \n",
            "audio-fixed-chunks/chunk9.wav : Looking at the similarities with great white shark teeth scientists estimate that megalodons might have stretched up to 20 m. \n",
            "audio-fixed-chunks/chunk10.wav : Times longer than great whites and during their reign which began around 20 million years ago megalodons lived just about everywhere with individ. \n",
            "audio-fixed-chunks/chunk11.wav : Oceanic migrations the world was warmer and the ocean was brimming with life otters. \n",
            "audio-fixed-chunks/chunk12.wav : Newly formed kelp forests and baleen whales were their most diverse megalodons had no shortage of high energy edible. \n",
            "audio-fixed-chunks/chunk13.wav : And it seems they were ambitious eaters generally as carnivores consume protein-rich meet certain nitrogen isotopes accumulate in. \n",
            "audio-fixed-chunks/chunk14.wav : What is including the enamel of their teeth analyzing megalodon teeth scientists confirmed they were apex predators that not only. \n",
            "audio-fixed-chunks/chunk15.wav : I ate large prey species but also of the predators perhaps even each other in addition to megalodons teeth. \n",
            "audio-fixed-chunks/chunk16.wav : Just have access to one exceptionally well preserved spinal column that comprises 141 vertebrae of a 46 year old. \n",
            "audio-fixed-chunks/chunk17.wav : A 3d model of the megalodon's body suggests that its stomach could reach volumes of almost 10,000 l big enough to. \n",
            "audio-fixed-chunks/chunk18.wav : Reconstructing their jaws researchers think megalodons could eat a now extinct 7 m sperm whale in as few. \n",
            "audio-fixed-chunks/chunk19.wav : All lights and the fossilized bones of ancient cetaceans do indeed show evidence of megalodon bite marks including some that healed over. \n",
            "audio-fixed-chunks/chunk20.wav : Megalodons pursued live prey but if megalodons were so powerful why did they go extinct it seems there were a few. \n",
            "audio-fixed-chunks/chunk21.wav : Contributing factors by the time they disappeared around 3 and a half million years ago the global climate had cooled causing more glaciers to form and the sea. \n",
            "audio-fixed-chunks/chunk22.wav : Meaning some of the world's most resource-rich marine sites were lost about a third of all marine me. \n",
            "audio-fixed-chunks/chunk23.wav : Moana eventually went extinct so if you are prey species were available and megalodons already faced high energetic demands because of their size and the mechanism. \n",
            "audio-fixed-chunks/chunk24.wav : Which allowed them to navigate cold waters and attack prey with bursts of speed environmental changes. \n",
            "audio-fixed-chunks/chunk25.wav : Vulnerable and increasingly put them in competition with other predators including the great white shark a relative newcomer. \n",
            "audio-fixed-chunks/chunk26.wav : What does megalodons were highly mobile predators their extinction had global consequences the end of their long-distance travels probably disrupted nutrient transport between. \n",
            "audio-fixed-chunks/chunk27.wav : Play ecosystems and many animals were suddenly released from the immense predatory pressure of their bite interestingly some marine mammals dramatically. \n",
            "audio-fixed-chunks/chunk28.wav : Partially afforded because there were no longer dealing with such a mega existential threat knowing that the. \n",
            "audio-fixed-chunks/chunk29.wav : Ecosystems conservationists are working to prevent today's shards from facing a similar fate this time. \n",
            "audio-fixed-chunks/chunk30.wav : The megalodon remains a colossal testament to ecological interdependence and millions of years of bones well bitten. \n",
            "audio-fixed-chunks/chunk31.wav : And reverence but what makes these magn. \n",
            "audio-fixed-chunks/chunk32.wav : Vital components of the marine ecosystem get to know these ancient and powerful creatures with these videos. \n",
            "Error: \n",
            "\n",
            "Full text: In 1667 a danish scientist. Any concluded that certain mysterious stones prized to their supposed medicinal powers hadn't fallen from the sky during lunar eclipses and. In fact they were fossilized teeth many belonging to a prehistoric species that would come to be called megalodon. What's the biggest shark to ever live so what was it like when megalodon ruled the seas and what brought this formidable. What remains of megalodons are mostly scattered clues like some isolated. Like many sharks megalodons could shed and replace thousands of teeth over the course of their lives. Interestingly some fossil sites harbor especially high numbers of small megalodon teeth experts believe these were nurseries that supported. Countless generations of budding megalodons they grew up in sheltered and food packed shallow waters before becoming unrivaled adult marine. Looking at the similarities with great white shark teeth scientists estimate that megalodons might have stretched up to 20 m. Times longer than great whites and during their reign which began around 20 million years ago megalodons lived just about everywhere with individ. Oceanic migrations the world was warmer and the ocean was brimming with life otters. Newly formed kelp forests and baleen whales were their most diverse megalodons had no shortage of high energy edible. And it seems they were ambitious eaters generally as carnivores consume protein-rich meet certain nitrogen isotopes accumulate in. What is including the enamel of their teeth analyzing megalodon teeth scientists confirmed they were apex predators that not only. I ate large prey species but also of the predators perhaps even each other in addition to megalodons teeth. Just have access to one exceptionally well preserved spinal column that comprises 141 vertebrae of a 46 year old. A 3d model of the megalodon's body suggests that its stomach could reach volumes of almost 10,000 l big enough to. Reconstructing their jaws researchers think megalodons could eat a now extinct 7 m sperm whale in as few. All lights and the fossilized bones of ancient cetaceans do indeed show evidence of megalodon bite marks including some that healed over. Megalodons pursued live prey but if megalodons were so powerful why did they go extinct it seems there were a few. Contributing factors by the time they disappeared around 3 and a half million years ago the global climate had cooled causing more glaciers to form and the sea. Meaning some of the world's most resource-rich marine sites were lost about a third of all marine me. Moana eventually went extinct so if you are prey species were available and megalodons already faced high energetic demands because of their size and the mechanism. Which allowed them to navigate cold waters and attack prey with bursts of speed environmental changes. Vulnerable and increasingly put them in competition with other predators including the great white shark a relative newcomer. What does megalodons were highly mobile predators their extinction had global consequences the end of their long-distance travels probably disrupted nutrient transport between. Play ecosystems and many animals were suddenly released from the immense predatory pressure of their bite interestingly some marine mammals dramatically. Partially afforded because there were no longer dealing with such a mega existential threat knowing that the. Ecosystems conservationists are working to prevent today's shards from facing a similar fate this time. The megalodon remains a colossal testament to ecological interdependence and millions of years of bones well bitten. And reverence but what makes these magn. Vital components of the marine ecosystem get to know these ancient and powerful creatures with these videos. \n"
          ]
        }
      ]
    },
    {
      "cell_type": "code",
      "source": [
        "essay_speech = get_large_audio_transcription_on_silence('/content/Audio_1.wav')"
      ],
      "metadata": {
        "colab": {
          "base_uri": "https://localhost:8080/"
        },
        "id": "gxrs2E7xW6Au",
        "outputId": "d9b1da68-7413-4335-cfeb-3cef8d4e4b84"
      },
      "execution_count": null,
      "outputs": [
        {
          "output_type": "stream",
          "name": "stdout",
          "text": [
            "Error: \n",
            "audio-chunks/chunk2.wav : In 1667 a danish scientist finally concluded that certain mysterious stones prized to their supposed medicinal powers hadn't fallen from the sky during lunar eclipses and weren't serpent times. \n",
            "audio-chunks/chunk3.wav : In fact they were fossilized. \n",
            "Error: \n",
            "audio-chunks/chunk5.wav : Mini belonging to a prehistoric species that would come to be called megalodon the biggest shark to ever live so what was it like when megalodon ruled the seas and what brought this formidable predator to extinction. \n",
            "audio-chunks/chunk6.wav : Cartilaginous what remains of megalodons are mostly scattered clues like some isolated vertebrae and lots of their enamel protected teeth like many sharks megalodons could shed and replace thousands of teeth over the course of their lives interestingly some fossil sites harbor is specially high numbers of small megalodon teeth experts believe these were nurseries that supported countless generations of shelters before becoming unrivaled adult marine hunters looking at the similarities with great white shark teeth scientists estimate that megalodons might have stretched up to 20 meters three times longer than great white wine which began around 20 million years ago megalodons and the ocean's had no shortage of high energy edible options nitrogen isotopes accumulated in their tissues including the enamel of the teeth analyzing megalodon teeth scientists confirmed that they were eight packs predators. \n",
            "audio-chunks/chunk7.wav : In addition to megalodons teeth researchers have access to one exceptionally well preserved spinal column that comprises 141 vertebrae of a 46 year old megalodon. \n",
            "audio-chunks/chunk8.wav : A 3d model of the megalodon's body suggests that its stomach could reach volumes of almost 10,000 l big enough to fit an entire orca reconstructing their jaws researchers think megalodons could eat a now extinct 7 m sperm whale in as few as four bites and the fossilized bones of ancient cetaceans do indeed show evidence of megalodon bite marks including some that healed over confirming that megalodon's pursued live prey but if megalodons were so powerful why did they go extinct. \n",
            "audio-chunks/chunk9.wav : It seems there were a few contributing factors by the time they disappeared around three and a half million years ago the global climate had cooled causing more glaciers to form and the sea level to drop this dried up many coastal habitats meaning some of the world's most resource-rich marine science were lost about a third of all marine megafauna eventually went extinct so fewer were available and megalodons already faced high energetic demands because of their size and the mechanism they likely used to regulate their body temperature which allowed them to navigate cold waters and attack prey with bursts of speed environmental changes may have made megalodon's vulnerable and increasingly put them in competition with other predators including the great white shark a relative newcomer because megalodons were highly mobile predators their extinction had global consequences the end of their long-distance travels probably disrupted nutrient transport between different ecosystems and many animals were suddenly released from the immense predatory pressure of their bite interestingly some marine mammals dramatically increase in size afterwards which was perhaps partially afforded because there were no longer dealing with such a mega existential threat knowing that the decline of apex predators can destabilize entire ecosystems conservationists are working to prevent today's sharks from facing a similar fate this time because of humans and meanwhile the megalodon remains a colossal testament to ecological millions of years of bones and waters while wandered a sense of all and reverence but what makes these magnificent creatures such formidable hunters and vital components of the marine ecosystem get to know these ancient and powerful creatures with these videos. \n"
          ]
        }
      ]
    },
    {
      "cell_type": "code",
      "source": [
        "print(essay_speech)"
      ],
      "metadata": {
        "colab": {
          "base_uri": "https://localhost:8080/"
        },
        "id": "o9UxV8bwZgrA",
        "outputId": "fcaf42a2-bf5b-43ee-8722-16518d454e01"
      },
      "execution_count": null,
      "outputs": [
        {
          "output_type": "stream",
          "name": "stdout",
          "text": [
            "In 1667 a danish scientist finally concluded that certain mysterious stones prized to their supposed medicinal powers hadn't fallen from the sky during lunar eclipses and weren't serpent times. In fact they were fossilized. Mini belonging to a prehistoric species that would come to be called megalodon the biggest shark to ever live so what was it like when megalodon ruled the seas and what brought this formidable predator to extinction. Cartilaginous what remains of megalodons are mostly scattered clues like some isolated vertebrae and lots of their enamel protected teeth like many sharks megalodons could shed and replace thousands of teeth over the course of their lives interestingly some fossil sites harbor is specially high numbers of small megalodon teeth experts believe these were nurseries that supported countless generations of shelters before becoming unrivaled adult marine hunters looking at the similarities with great white shark teeth scientists estimate that megalodons might have stretched up to 20 meters three times longer than great white wine which began around 20 million years ago megalodons and the ocean's had no shortage of high energy edible options nitrogen isotopes accumulated in their tissues including the enamel of the teeth analyzing megalodon teeth scientists confirmed that they were eight packs predators. In addition to megalodons teeth researchers have access to one exceptionally well preserved spinal column that comprises 141 vertebrae of a 46 year old megalodon. A 3d model of the megalodon's body suggests that its stomach could reach volumes of almost 10,000 l big enough to fit an entire orca reconstructing their jaws researchers think megalodons could eat a now extinct 7 m sperm whale in as few as four bites and the fossilized bones of ancient cetaceans do indeed show evidence of megalodon bite marks including some that healed over confirming that megalodon's pursued live prey but if megalodons were so powerful why did they go extinct. It seems there were a few contributing factors by the time they disappeared around three and a half million years ago the global climate had cooled causing more glaciers to form and the sea level to drop this dried up many coastal habitats meaning some of the world's most resource-rich marine science were lost about a third of all marine megafauna eventually went extinct so fewer were available and megalodons already faced high energetic demands because of their size and the mechanism they likely used to regulate their body temperature which allowed them to navigate cold waters and attack prey with bursts of speed environmental changes may have made megalodon's vulnerable and increasingly put them in competition with other predators including the great white shark a relative newcomer because megalodons were highly mobile predators their extinction had global consequences the end of their long-distance travels probably disrupted nutrient transport between different ecosystems and many animals were suddenly released from the immense predatory pressure of their bite interestingly some marine mammals dramatically increase in size afterwards which was perhaps partially afforded because there were no longer dealing with such a mega existential threat knowing that the decline of apex predators can destabilize entire ecosystems conservationists are working to prevent today's sharks from facing a similar fate this time because of humans and meanwhile the megalodon remains a colossal testament to ecological millions of years of bones and waters while wandered a sense of all and reverence but what makes these magnificent creatures such formidable hunters and vital components of the marine ecosystem get to know these ancient and powerful creatures with these videos. \n"
          ]
        }
      ]
    },
    {
      "cell_type": "code",
      "source": [
        "marks = evaluate_essay(essay_speech)\n",
        "print(f\"The marks obtained are: {marks}\")"
      ],
      "metadata": {
        "colab": {
          "base_uri": "https://localhost:8080/"
        },
        "id": "vpO7GdybYGXo",
        "outputId": "46458f54-58e8-4db7-96b5-aec7c1f7d305"
      },
      "execution_count": null,
      "outputs": [
        {
          "output_type": "stream",
          "name": "stdout",
          "text": [
            "Number of words: 587\n",
            "Mistake Type: PUNCTUATION ; Error: typographical ; Correction: ['fact,'] ; Previous: fact\n",
            "Mistake Type: TYPOS ; Error: misspelling ; Correction: ['Megalodon', 'Megalodons'] ; Previous: megalodon\n",
            "Mistake Type: TYPOS ; Error: misspelling ; Correction: ['Megalodon', 'Megalodons'] ; Previous: megalodon\n",
            "Mistake Type: TYPOS ; Error: misspelling ; Correction: ['Megalodons', 'Megalodon'] ; Previous: megalodons\n",
            "Mistake Type: TYPOS ; Error: misspelling ; Correction: ['Megalodons', 'Megalodon'] ; Previous: megalodons\n",
            "Mistake Type: TYPOS ; Error: misspelling ; Correction: ['Megalodon', 'Megalodons'] ; Previous: megalodon\n",
            "Mistake Type: TYPOS ; Error: misspelling ; Correction: ['Megalodons', 'Megalodon'] ; Previous: megalodons\n",
            "Mistake Type: TYPOS ; Error: misspelling ; Correction: ['Megalodons', 'Megalodon'] ; Previous: megalodons\n",
            "Mistake Type: TYPOS ; Error: misspelling ; Correction: ['Megalodon', 'Megalodons'] ; Previous: megalodon\n",
            "Mistake Type: TYPOS ; Error: misspelling ; Correction: ['Megalodons', 'Megalodon'] ; Previous: megalodons\n",
            "Mistake Type: MISC ; Error: misspelling ; Correction: ['well-preserved'] ; Previous: well preserved\n",
            "Mistake Type: PUNCTUATION ; Error: typographical ; Correction: ['46-year-old'] ; Previous: 46 year old\n",
            "Mistake Type: TYPOS ; Error: misspelling ; Correction: ['Megalodon', 'Megalodons'] ; Previous: megalodon\n",
            "Mistake Type: TYPOS ; Error: misspelling ; Correction: ['Megalodon', 'Megalodons'] ; Previous: megalodon\n",
            "Mistake Type: TYPOS ; Error: misspelling ; Correction: ['Megalodons', 'Megalodon'] ; Previous: megalodons\n",
            "Mistake Type: TYPOS ; Error: misspelling ; Correction: ['Megalodon', 'Megalodons'] ; Previous: megalodon\n",
            "Mistake Type: TYPOS ; Error: misspelling ; Correction: ['Megalodon', 'Megalodons'] ; Previous: megalodon\n",
            "Mistake Type: TYPOS ; Error: misspelling ; Correction: ['Megalodons', 'Megalodon'] ; Previous: megalodons\n",
            "Mistake Type: TYPOS ; Error: misspelling ; Correction: ['Megalodons', 'Megalodon'] ; Previous: megalodons\n",
            "Mistake Type: TYPOS ; Error: misspelling ; Correction: ['Megalodon', 'Megalodons'] ; Previous: megalodon\n",
            "Mistake Type: TYPOS ; Error: misspelling ; Correction: ['Megalodons', 'Megalodon'] ; Previous: megalodons\n",
            "Mistake Type: TYPOS ; Error: misspelling ; Correction: ['Megalodon', 'Megalodons'] ; Previous: megalodon\n",
            "\n",
            "Original Text: In 1667 a danish scientist finally concluded that certain mysterious stones prized to their supposed medicinal powers hadn't fallen from the sky during lunar eclipses and weren't serpent times. In fact they were fossilized. Mini belonging to a prehistoric species that would come to be called megalodon the biggest shark to ever live so what was it like when megalodon ruled the seas and what brought this formidable predator to extinction. Cartilaginous what remains of megalodons are mostly scattered clues like some isolated vertebrae and lots of their enamel protected teeth like many sharks megalodons could shed and replace thousands of teeth over the course of their lives interestingly some fossil sites harbor is specially high numbers of small megalodon teeth experts believe these were nurseries that supported countless generations of shelters before becoming unrivaled adult marine hunters looking at the similarities with great white shark teeth scientists estimate that megalodons might have stretched up to 20 meters three times longer than great white wine which began around 20 million years ago megalodons and the ocean's had no shortage of high energy edible options nitrogen isotopes accumulated in their tissues including the enamel of the teeth analyzing megalodon teeth scientists confirmed that they were eight packs predators. In addition to megalodons teeth researchers have access to one exceptionally well preserved spinal column that comprises 141 vertebrae of a 46 year old megalodon. A 3d model of the megalodon's body suggests that its stomach could reach volumes of almost 10,000 l big enough to fit an entire orca reconstructing their jaws researchers think megalodons could eat a now extinct 7 m sperm whale in as few as four bites and the fossilized bones of ancient cetaceans do indeed show evidence of megalodon bite marks including some that healed over confirming that megalodon's pursued live prey but if megalodons were so powerful why did they go extinct. It seems there were a few contributing factors by the time they disappeared around three and a half million years ago the global climate had cooled causing more glaciers to form and the sea level to drop this dried up many coastal habitats meaning some of the world's most resource-rich marine science were lost about a third of all marine megafauna eventually went extinct so fewer were available and megalodons already faced high energetic demands because of their size and the mechanism they likely used to regulate their body temperature which allowed them to navigate cold waters and attack prey with bursts of speed environmental changes may have made megalodon's vulnerable and increasingly put them in competition with other predators including the great white shark a relative newcomer because megalodons were highly mobile predators their extinction had global consequences the end of their long-distance travels probably disrupted nutrient transport between different ecosystems and many animals were suddenly released from the immense predatory pressure of their bite interestingly some marine mammals dramatically increase in size afterwards which was perhaps partially afforded because there were no longer dealing with such a mega existential threat knowing that the decline of apex predators can destabilize entire ecosystems conservationists are working to prevent today's sharks from facing a similar fate this time because of humans and meanwhile the megalodon remains a colossal testament to ecological millions of years of bones and waters while wandered a sense of all and reverence but what makes these magnificent creatures such formidable hunters and vital components of the marine ecosystem get to know these ancient and powerful creatures with these videos. \n",
            "Corrected Text: In 1667 a danish scientist finally concluded that certain mysterious stones prized to their supposed medicinal powers hadn't fallen from the sky during lunar eclipses and weren't serpent times. In fact, they were fossilized. Mini belonging to a prehistoric species that would come to be called Megalodon the biggest shark to ever live so what was it like when Megalodon ruled the seas and what brought this formidable predator to extinction. Cartilaginous what remains of Megalodons are mostly scattered clues like some isolated vertebrae and lots of their enamel protected teeth like many sharks Megalodons could shed and replace thousands of teeth over the course of their lives interestingly some fossil sites harbor is specially high numbers of small Megalodon teeth experts believe these were nurseries that supported countless generations of shelters before becoming unrivaled adult marine hunters looking at the similarities with great white shark teeth scientists estimate that Megalodons might have stretched up to 20 meters three times longer than great white wine which began around 20 million years ago Megalodons and the ocean's had no shortage of high energy edible options nitrogen isotopes accumulated in their tissues including the enamel of the teeth analyzing Megalodon teeth scientists confirmed that they were eight packs predators. In addition to Megalodons teeth researchers have access to one exceptionally well-preserved spinal column that comprises 141 vertebrae of a 46-year-old Megalodon. A 3d model of the Megalodon's body suggests that its stomach could reach volumes of almost 10,000 l big enough to fit an entire orca reconstructing their jaws researchers think Megalodons could eat a now extinct 7 m sperm whale in as few as four bites and the fossilized bones of ancient cetaceans do indeed show evidence of Megalodon bite marks including some that healed over confirming that Megalodon's pursued live prey but if Megalodons were so powerful why did they go extinct. It seems there were a few contributing factors by the time they disappeared around three and a half million years ago the global climate had cooled causing more glaciers to form and the sea level to drop this dried up many coastal habitats meaning some of the world's most resource-rich marine science were lost about a third of all marine megafauna eventually went extinct so fewer were available and Megalodons already faced high energetic demands because of their size and the mechanism they likely used to regulate their body temperature which allowed them to navigate cold waters and attack prey with bursts of speed environmental changes may have made Megalodon's vulnerable and increasingly put them in competition with other predators including the great white shark a relative newcomer because Megalodons were highly mobile predators their extinction had global consequences the end of their long-distance travels probably disrupted nutrient transport between different ecosystems and many animals were suddenly released from the immense predatory pressure of their bite interestingly some marine mammals dramatically increase in size afterwards which was perhaps partially afforded because there were no longer dealing with such a mega existential threat knowing that the decline of apex predators can destabilize entire ecosystems conservationists are working to prevent today's sharks from facing a similar fate this time because of humans and meanwhile the Megalodon remains a colossal testament to ecological millions of years of bones and waters while wandered a sense of all and reverence but what makes these magnificent creatures such formidable hunters and vital components of the marine ecosystem get to know these ancient and powerful creatures with these videos. \n",
            "\n",
            "[Match({'ruleId': 'MISSING_COMMA_AFTER_INTRODUCTORY_PHRASE', 'message': 'A comma is probably missing here.', 'replacements': ['fact,'], 'offsetInContext': 43, 'context': \"... eclipses and weren't serpent times. In fact they were fossilized. Mini belonging to...\", 'offset': 197, 'errorLength': 4, 'category': 'PUNCTUATION', 'ruleIssueType': 'typographical', 'sentence': 'In fact they were fossilized.'}), Match({'ruleId': 'MORFOLOGIK_RULE_EN_US', 'message': 'Possible spelling mistake found.', 'replacements': ['Megalodon', 'Megalodons'], 'offsetInContext': 43, 'context': '...ic species that would come to be called megalodon the biggest shark to ever live so what ...', 'offset': 293, 'errorLength': 9, 'category': 'TYPOS', 'ruleIssueType': 'misspelling', 'sentence': 'Mini belonging to a prehistoric species that would come to be called megalodon the biggest shark to ever live so what was it like when megalodon ruled the seas and what brought this formidable predator to extinction.'}), Match({'ruleId': 'MORFOLOGIK_RULE_EN_US', 'message': 'Possible spelling mistake found.', 'replacements': ['Megalodon', 'Megalodons'], 'offsetInContext': 43, 'context': '...k to ever live so what was it like when megalodon ruled the seas and what brought this fo...', 'offset': 359, 'errorLength': 9, 'category': 'TYPOS', 'ruleIssueType': 'misspelling', 'sentence': 'Mini belonging to a prehistoric species that would come to be called megalodon the biggest shark to ever live so what was it like when megalodon ruled the seas and what brought this formidable predator to extinction.'}), Match({'ruleId': 'MORFOLOGIK_RULE_EN_US', 'message': 'Possible spelling mistake found.', 'replacements': ['Megalodons', 'Megalodon'], 'offsetInContext': 43, 'context': '...tinction. Cartilaginous what remains of megalodons are mostly scattered clues like some is...', 'offset': 471, 'errorLength': 10, 'category': 'TYPOS', 'ruleIssueType': 'misspelling', 'sentence': \"Cartilaginous what remains of megalodons are mostly scattered clues like some isolated vertebrae and lots of their enamel protected teeth like many sharks megalodons could shed and replace thousands of teeth over the course of their lives interestingly some fossil sites harbor is specially high numbers of small megalodon teeth experts believe these were nurseries that supported countless generations of shelters before becoming unrivaled adult marine hunters looking at the similarities with great white shark teeth scientists estimate that megalodons might have stretched up to 20 meters three times longer than great white wine which began around 20 million years ago megalodons and the ocean's had no shortage of high energy edible options nitrogen isotopes accumulated in their tissues including the enamel of the teeth analyzing megalodon teeth scientists confirmed that they were eight packs predators.\"}), Match({'ruleId': 'MORFOLOGIK_RULE_EN_US', 'message': 'Possible spelling mistake found.', 'replacements': ['Megalodons', 'Megalodon'], 'offsetInContext': 43, 'context': '...enamel protected teeth like many sharks megalodons could shed and replace thousands of tee...', 'offset': 596, 'errorLength': 10, 'category': 'TYPOS', 'ruleIssueType': 'misspelling', 'sentence': \"Cartilaginous what remains of megalodons are mostly scattered clues like some isolated vertebrae and lots of their enamel protected teeth like many sharks megalodons could shed and replace thousands of teeth over the course of their lives interestingly some fossil sites harbor is specially high numbers of small megalodon teeth experts believe these were nurseries that supported countless generations of shelters before becoming unrivaled adult marine hunters looking at the similarities with great white shark teeth scientists estimate that megalodons might have stretched up to 20 meters three times longer than great white wine which began around 20 million years ago megalodons and the ocean's had no shortage of high energy edible options nitrogen isotopes accumulated in their tissues including the enamel of the teeth analyzing megalodon teeth scientists confirmed that they were eight packs predators.\"}), Match({'ruleId': 'MORFOLOGIK_RULE_EN_US', 'message': 'Possible spelling mistake found.', 'replacements': ['Megalodon', 'Megalodons'], 'offsetInContext': 43, 'context': '...rbor is specially high numbers of small megalodon teeth experts believe these were nurser...', 'offset': 754, 'errorLength': 9, 'category': 'TYPOS', 'ruleIssueType': 'misspelling', 'sentence': \"Cartilaginous what remains of megalodons are mostly scattered clues like some isolated vertebrae and lots of their enamel protected teeth like many sharks megalodons could shed and replace thousands of teeth over the course of their lives interestingly some fossil sites harbor is specially high numbers of small megalodon teeth experts believe these were nurseries that supported countless generations of shelters before becoming unrivaled adult marine hunters looking at the similarities with great white shark teeth scientists estimate that megalodons might have stretched up to 20 meters three times longer than great white wine which began around 20 million years ago megalodons and the ocean's had no shortage of high energy edible options nitrogen isotopes accumulated in their tissues including the enamel of the teeth analyzing megalodon teeth scientists confirmed that they were eight packs predators.\"}), Match({'ruleId': 'MORFOLOGIK_RULE_EN_US', 'message': 'Possible spelling mistake found.', 'replacements': ['Megalodons', 'Megalodon'], 'offsetInContext': 43, 'context': '...te shark teeth scientists estimate that megalodons might have stretched up to 20 meters th...', 'offset': 985, 'errorLength': 10, 'category': 'TYPOS', 'ruleIssueType': 'misspelling', 'sentence': \"Cartilaginous what remains of megalodons are mostly scattered clues like some isolated vertebrae and lots of their enamel protected teeth like many sharks megalodons could shed and replace thousands of teeth over the course of their lives interestingly some fossil sites harbor is specially high numbers of small megalodon teeth experts believe these were nurseries that supported countless generations of shelters before becoming unrivaled adult marine hunters looking at the similarities with great white shark teeth scientists estimate that megalodons might have stretched up to 20 meters three times longer than great white wine which began around 20 million years ago megalodons and the ocean's had no shortage of high energy edible options nitrogen isotopes accumulated in their tissues including the enamel of the teeth analyzing megalodon teeth scientists confirmed that they were eight packs predators.\"}), Match({'ruleId': 'MORFOLOGIK_RULE_EN_US', 'message': 'Possible spelling mistake found.', 'replacements': ['Megalodons', 'Megalodon'], 'offsetInContext': 43, 'context': \"...which began around 20 million years ago megalodons and the ocean's had no shortage of high...\", 'offset': 1114, 'errorLength': 10, 'category': 'TYPOS', 'ruleIssueType': 'misspelling', 'sentence': \"Cartilaginous what remains of megalodons are mostly scattered clues like some isolated vertebrae and lots of their enamel protected teeth like many sharks megalodons could shed and replace thousands of teeth over the course of their lives interestingly some fossil sites harbor is specially high numbers of small megalodon teeth experts believe these were nurseries that supported countless generations of shelters before becoming unrivaled adult marine hunters looking at the similarities with great white shark teeth scientists estimate that megalodons might have stretched up to 20 meters three times longer than great white wine which began around 20 million years ago megalodons and the ocean's had no shortage of high energy edible options nitrogen isotopes accumulated in their tissues including the enamel of the teeth analyzing megalodon teeth scientists confirmed that they were eight packs predators.\"}), Match({'ruleId': 'MORFOLOGIK_RULE_EN_US', 'message': 'Possible spelling mistake found.', 'replacements': ['Megalodon', 'Megalodons'], 'offsetInContext': 43, 'context': '...uding the enamel of the teeth analyzing megalodon teeth scientists confirmed that they we...', 'offset': 1278, 'errorLength': 9, 'category': 'TYPOS', 'ruleIssueType': 'misspelling', 'sentence': \"Cartilaginous what remains of megalodons are mostly scattered clues like some isolated vertebrae and lots of their enamel protected teeth like many sharks megalodons could shed and replace thousands of teeth over the course of their lives interestingly some fossil sites harbor is specially high numbers of small megalodon teeth experts believe these were nurseries that supported countless generations of shelters before becoming unrivaled adult marine hunters looking at the similarities with great white shark teeth scientists estimate that megalodons might have stretched up to 20 meters three times longer than great white wine which began around 20 million years ago megalodons and the ocean's had no shortage of high energy edible options nitrogen isotopes accumulated in their tissues including the enamel of the teeth analyzing megalodon teeth scientists confirmed that they were eight packs predators.\"}), Match({'ruleId': 'MORFOLOGIK_RULE_EN_US', 'message': 'Possible spelling mistake found.', 'replacements': ['Megalodons', 'Megalodon'], 'offsetInContext': 43, 'context': '...e eight packs predators. In addition to megalodons teeth researchers have access to one ex...', 'offset': 1368, 'errorLength': 10, 'category': 'TYPOS', 'ruleIssueType': 'misspelling', 'sentence': 'In addition to megalodons teeth researchers have access to one exceptionally well preserved spinal column that comprises 141 vertebrae of a 46 year old megalodon.'}), Match({'ruleId': 'EN_COMPOUNDS', 'message': 'This word is normally spelled with a hyphen.', 'replacements': ['well-preserved'], 'offsetInContext': 43, 'context': '...rchers have access to one exceptionally well preserved spinal column that comprises 141 verteb...', 'offset': 1430, 'errorLength': 14, 'category': 'MISC', 'ruleIssueType': 'misspelling', 'sentence': 'In addition to megalodons teeth researchers have access to one exceptionally well preserved spinal column that comprises 141 vertebrae of a 46 year old megalodon.'}), Match({'ruleId': 'YEAR_OLD_HYPHEN', 'message': 'It seems that hyphens are missing.', 'replacements': ['46-year-old'], 'offsetInContext': 43, 'context': \"...olumn that comprises 141 vertebrae of a 46 year old megalodon. A 3d model of the megalodon'...\", 'offset': 1493, 'errorLength': 11, 'category': 'PUNCTUATION', 'ruleIssueType': 'typographical', 'sentence': 'In addition to megalodons teeth researchers have access to one exceptionally well preserved spinal column that comprises 141 vertebrae of a 46 year old megalodon.'}), Match({'ruleId': 'MORFOLOGIK_RULE_EN_US', 'message': 'Possible spelling mistake found.', 'replacements': ['Megalodon', 'Megalodons'], 'offsetInContext': 43, 'context': \"...omprises 141 vertebrae of a 46 year old megalodon. A 3d model of the megalodon's body sug...\", 'offset': 1505, 'errorLength': 9, 'category': 'TYPOS', 'ruleIssueType': 'misspelling', 'sentence': 'In addition to megalodons teeth researchers have access to one exceptionally well preserved spinal column that comprises 141 vertebrae of a 46 year old megalodon.'}), Match({'ruleId': 'MORFOLOGIK_RULE_EN_US', 'message': 'Possible spelling mistake found.', 'replacements': ['Megalodon', 'Megalodons'], 'offsetInContext': 43, 'context': \"...6 year old megalodon. A 3d model of the megalodon's body suggests that its stomach could ...\", 'offset': 1534, 'errorLength': 9, 'category': 'TYPOS', 'ruleIssueType': 'misspelling', 'sentence': \"A 3d model of the megalodon's body suggests that its stomach could reach volumes of almost 10,000 l big enough to fit an entire orca reconstructing their jaws researchers think megalodons could eat a now extinct 7 m sperm whale in as few as four bites and the fossilized bones of ancient cetaceans do indeed show evidence of megalodon bite marks including some that healed over confirming that megalodon's pursued live prey but if megalodons were so powerful why did they go extinct.\"}), Match({'ruleId': 'MORFOLOGIK_RULE_EN_US', 'message': 'Possible spelling mistake found.', 'replacements': ['Megalodons', 'Megalodon'], 'offsetInContext': 43, 'context': '...nstructing their jaws researchers think megalodons could eat a now extinct 7 m sperm whale...', 'offset': 1693, 'errorLength': 10, 'category': 'TYPOS', 'ruleIssueType': 'misspelling', 'sentence': \"A 3d model of the megalodon's body suggests that its stomach could reach volumes of almost 10,000 l big enough to fit an entire orca reconstructing their jaws researchers think megalodons could eat a now extinct 7 m sperm whale in as few as four bites and the fossilized bones of ancient cetaceans do indeed show evidence of megalodon bite marks including some that healed over confirming that megalodon's pursued live prey but if megalodons were so powerful why did they go extinct.\"}), Match({'ruleId': 'MORFOLOGIK_RULE_EN_US', 'message': 'Possible spelling mistake found.', 'replacements': ['Megalodon', 'Megalodons'], 'offsetInContext': 43, 'context': '...nt cetaceans do indeed show evidence of megalodon bite marks including some that healed o...', 'offset': 1841, 'errorLength': 9, 'category': 'TYPOS', 'ruleIssueType': 'misspelling', 'sentence': \"A 3d model of the megalodon's body suggests that its stomach could reach volumes of almost 10,000 l big enough to fit an entire orca reconstructing their jaws researchers think megalodons could eat a now extinct 7 m sperm whale in as few as four bites and the fossilized bones of ancient cetaceans do indeed show evidence of megalodon bite marks including some that healed over confirming that megalodon's pursued live prey but if megalodons were so powerful why did they go extinct.\"}), Match({'ruleId': 'MORFOLOGIK_RULE_EN_US', 'message': 'Possible spelling mistake found.', 'replacements': ['Megalodon', 'Megalodons'], 'offsetInContext': 43, 'context': \"...g some that healed over confirming that megalodon's pursued live prey but if megalodons w...\", 'offset': 1910, 'errorLength': 9, 'category': 'TYPOS', 'ruleIssueType': 'misspelling', 'sentence': \"A 3d model of the megalodon's body suggests that its stomach could reach volumes of almost 10,000 l big enough to fit an entire orca reconstructing their jaws researchers think megalodons could eat a now extinct 7 m sperm whale in as few as four bites and the fossilized bones of ancient cetaceans do indeed show evidence of megalodon bite marks including some that healed over confirming that megalodon's pursued live prey but if megalodons were so powerful why did they go extinct.\"}), Match({'ruleId': 'MORFOLOGIK_RULE_EN_US', 'message': 'Possible spelling mistake found.', 'replacements': ['Megalodons', 'Megalodon'], 'offsetInContext': 43, 'context': \"...at megalodon's pursued live prey but if megalodons were so powerful why did they go extinc...\", 'offset': 1947, 'errorLength': 10, 'category': 'TYPOS', 'ruleIssueType': 'misspelling', 'sentence': \"A 3d model of the megalodon's body suggests that its stomach could reach volumes of almost 10,000 l big enough to fit an entire orca reconstructing their jaws researchers think megalodons could eat a now extinct 7 m sperm whale in as few as four bites and the fossilized bones of ancient cetaceans do indeed show evidence of megalodon bite marks including some that healed over confirming that megalodon's pursued live prey but if megalodons were so powerful why did they go extinct.\"}), Match({'ruleId': 'MORFOLOGIK_RULE_EN_US', 'message': 'Possible spelling mistake found.', 'replacements': ['Megalodons', 'Megalodon'], 'offsetInContext': 43, 'context': '...ent extinct so fewer were available and megalodons already faced high energetic demands be...', 'offset': 2402, 'errorLength': 10, 'category': 'TYPOS', 'ruleIssueType': 'misspelling', 'sentence': \"It seems there were a few contributing factors by the time they disappeared around three and a half million years ago the global climate had cooled causing more glaciers to form and the sea level to drop this dried up many coastal habitats meaning some of the world's most resource-rich marine science were lost about a third of all marine megafauna eventually went extinct so fewer were available and megalodons already faced high energetic demands because of their size and the mechanism they likely used to regulate their body temperature which allowed them to navigate cold waters and attack prey with bursts of speed environmental changes may have made megalodon's vulnerable and increasingly put them in competition with other predators including the great white shark a relative newcomer because megalodons were highly mobile predators their extinction had global consequences the end of their long-distance travels probably disrupted nutrient transport between different ecosystems and many animals were suddenly released from the immense predatory pressure of their bite interestingly some marine mammals dramatically increase in size afterwards which was perhaps partially afforded because there were no longer dealing with such a mega existential threat knowing that the decline of apex predators can destabilize entire ecosystems conservationists are working to prevent today's sharks from facing a similar fate this time because of humans and meanwhile the megalodon remains a colossal testament to ecological millions of years of bones and waters while wandered a sense of all and reverence but what makes these magnificent creatures such formidable hunters and vital components of the marine ecosystem get to know these ancient and powerful creatures with these videos.\"}), Match({'ruleId': 'MORFOLOGIK_RULE_EN_US', 'message': 'Possible spelling mistake found.', 'replacements': ['Megalodon', 'Megalodons'], 'offsetInContext': 43, 'context': \"...eed environmental changes may have made megalodon's vulnerable and increasingly put them ...\", 'offset': 2658, 'errorLength': 9, 'category': 'TYPOS', 'ruleIssueType': 'misspelling', 'sentence': \"It seems there were a few contributing factors by the time they disappeared around three and a half million years ago the global climate had cooled causing more glaciers to form and the sea level to drop this dried up many coastal habitats meaning some of the world's most resource-rich marine science were lost about a third of all marine megafauna eventually went extinct so fewer were available and megalodons already faced high energetic demands because of their size and the mechanism they likely used to regulate their body temperature which allowed them to navigate cold waters and attack prey with bursts of speed environmental changes may have made megalodon's vulnerable and increasingly put them in competition with other predators including the great white shark a relative newcomer because megalodons were highly mobile predators their extinction had global consequences the end of their long-distance travels probably disrupted nutrient transport between different ecosystems and many animals were suddenly released from the immense predatory pressure of their bite interestingly some marine mammals dramatically increase in size afterwards which was perhaps partially afforded because there were no longer dealing with such a mega existential threat knowing that the decline of apex predators can destabilize entire ecosystems conservationists are working to prevent today's sharks from facing a similar fate this time because of humans and meanwhile the megalodon remains a colossal testament to ecological millions of years of bones and waters while wandered a sense of all and reverence but what makes these magnificent creatures such formidable hunters and vital components of the marine ecosystem get to know these ancient and powerful creatures with these videos.\"}), Match({'ruleId': 'MORFOLOGIK_RULE_EN_US', 'message': 'Possible spelling mistake found.', 'replacements': ['Megalodons', 'Megalodon'], 'offsetInContext': 43, 'context': '...white shark a relative newcomer because megalodons were highly mobile predators their exti...', 'offset': 2803, 'errorLength': 10, 'category': 'TYPOS', 'ruleIssueType': 'misspelling', 'sentence': \"It seems there were a few contributing factors by the time they disappeared around three and a half million years ago the global climate had cooled causing more glaciers to form and the sea level to drop this dried up many coastal habitats meaning some of the world's most resource-rich marine science were lost about a third of all marine megafauna eventually went extinct so fewer were available and megalodons already faced high energetic demands because of their size and the mechanism they likely used to regulate their body temperature which allowed them to navigate cold waters and attack prey with bursts of speed environmental changes may have made megalodon's vulnerable and increasingly put them in competition with other predators including the great white shark a relative newcomer because megalodons were highly mobile predators their extinction had global consequences the end of their long-distance travels probably disrupted nutrient transport between different ecosystems and many animals were suddenly released from the immense predatory pressure of their bite interestingly some marine mammals dramatically increase in size afterwards which was perhaps partially afforded because there were no longer dealing with such a mega existential threat knowing that the decline of apex predators can destabilize entire ecosystems conservationists are working to prevent today's sharks from facing a similar fate this time because of humans and meanwhile the megalodon remains a colossal testament to ecological millions of years of bones and waters while wandered a sense of all and reverence but what makes these magnificent creatures such formidable hunters and vital components of the marine ecosystem get to know these ancient and powerful creatures with these videos.\"}), Match({'ruleId': 'MORFOLOGIK_RULE_EN_US', 'message': 'Possible spelling mistake found.', 'replacements': ['Megalodon', 'Megalodons'], 'offsetInContext': 43, 'context': '...ime because of humans and meanwhile the megalodon remains a colossal testament to ecologi...', 'offset': 3470, 'errorLength': 9, 'category': 'TYPOS', 'ruleIssueType': 'misspelling', 'sentence': \"It seems there were a few contributing factors by the time they disappeared around three and a half million years ago the global climate had cooled causing more glaciers to form and the sea level to drop this dried up many coastal habitats meaning some of the world's most resource-rich marine science were lost about a third of all marine megafauna eventually went extinct so fewer were available and megalodons already faced high energetic demands because of their size and the mechanism they likely used to regulate their body temperature which allowed them to navigate cold waters and attack prey with bursts of speed environmental changes may have made megalodon's vulnerable and increasingly put them in competition with other predators including the great white shark a relative newcomer because megalodons were highly mobile predators their extinction had global consequences the end of their long-distance travels probably disrupted nutrient transport between different ecosystems and many animals were suddenly released from the immense predatory pressure of their bite interestingly some marine mammals dramatically increase in size afterwards which was perhaps partially afforded because there were no longer dealing with such a mega existential threat knowing that the decline of apex predators can destabilize entire ecosystems conservationists are working to prevent today's sharks from facing a similar fate this time because of humans and meanwhile the megalodon remains a colossal testament to ecological millions of years of bones and waters while wandered a sense of all and reverence but what makes these magnificent creatures such formidable hunters and vital components of the marine ecosystem get to know these ancient and powerful creatures with these videos.\"})]\n",
            "\n",
            "No of mistakes: 22\n",
            "\n",
            "The marks obtained are: 4\n"
          ]
        }
      ]
    },
    {
      "cell_type": "code",
      "source": [],
      "metadata": {
        "id": "FuluiT6XZtdb"
      },
      "execution_count": null,
      "outputs": []
    },
    {
      "cell_type": "markdown",
      "source": [
        "### Recording Live Audio"
      ],
      "metadata": {
        "id": "pXFL0vJpaIDH"
      }
    },
    {
      "cell_type": "code",
      "source": [
        "%pip install ffmpeg-python"
      ],
      "metadata": {
        "colab": {
          "base_uri": "https://localhost:8080/"
        },
        "id": "jUJD8_QyaKua",
        "outputId": "2ddb9a5a-ad33-44f6-b903-b2a0fce0fd78"
      },
      "execution_count": null,
      "outputs": [
        {
          "output_type": "stream",
          "name": "stdout",
          "text": [
            "Collecting ffmpeg-python\n",
            "  Downloading ffmpeg_python-0.2.0-py3-none-any.whl (25 kB)\n",
            "Requirement already satisfied: future in /usr/local/lib/python3.10/dist-packages (from ffmpeg-python) (0.18.3)\n",
            "Installing collected packages: ffmpeg-python\n",
            "Successfully installed ffmpeg-python-0.2.0\n"
          ]
        }
      ]
    },
    {
      "cell_type": "code",
      "metadata": {
        "id": "RtMcXr3o6gxN"
      },
      "source": [
        "from IPython.display import HTML, Audio\n",
        "from google.colab.output import eval_js\n",
        "from base64 import b64decode\n",
        "import numpy as np\n",
        "from scipy.io.wavfile import read as wav_read\n",
        "import io\n",
        "import ffmpeg\n",
        "\n",
        "AUDIO_HTML = \"\"\"\n",
        "<script>\n",
        "var my_div = document.createElement(\"DIV\");\n",
        "var my_p = document.createElement(\"P\");\n",
        "var my_btn = document.createElement(\"BUTTON\");\n",
        "var t = document.createTextNode(\"Press to start recording\");\n",
        "\n",
        "my_btn.appendChild(t);\n",
        "//my_p.appendChild(my_btn);\n",
        "my_div.appendChild(my_btn);\n",
        "document.body.appendChild(my_div);\n",
        "\n",
        "var base64data = 0;\n",
        "var reader;\n",
        "var recorder, gumStream;\n",
        "var recordButton = my_btn;\n",
        "\n",
        "var handleSuccess = function(stream) {\n",
        "  gumStream = stream;\n",
        "  var options = {\n",
        "    //bitsPerSecond: 8000, //chrome seems to ignore, always 48k\n",
        "    mimeType : 'audio/webm;codecs=opus'\n",
        "    //mimeType : 'audio/webm;codecs=pcm'\n",
        "  };\n",
        "  //recorder = new MediaRecorder(stream, options);\n",
        "  recorder = new MediaRecorder(stream);\n",
        "  recorder.ondataavailable = function(e) {\n",
        "    var url = URL.createObjectURL(e.data);\n",
        "    var preview = document.createElement('audio');\n",
        "    preview.controls = true;\n",
        "    preview.src = url;\n",
        "    document.body.appendChild(preview);\n",
        "\n",
        "    reader = new FileReader();\n",
        "    reader.readAsDataURL(e.data);\n",
        "    reader.onloadend = function() {\n",
        "      base64data = reader.result;\n",
        "      //console.log(\"Inside FileReader:\" + base64data);\n",
        "    }\n",
        "  };\n",
        "  recorder.start();\n",
        "  };\n",
        "\n",
        "recordButton.innerText = \"Recording... press to stop\";\n",
        "\n",
        "navigator.mediaDevices.getUserMedia({audio: true}).then(handleSuccess);\n",
        "\n",
        "\n",
        "function toggleRecording() {\n",
        "  if (recorder && recorder.state == \"recording\") {\n",
        "      recorder.stop();\n",
        "      gumStream.getAudioTracks()[0].stop();\n",
        "      recordButton.innerText = \"Saving the recording... pls wait!\"\n",
        "  }\n",
        "}\n",
        "\n",
        "// https://stackoverflow.com/a/951057\n",
        "function sleep(ms) {\n",
        "  return new Promise(resolve => setTimeout(resolve, ms));\n",
        "}\n",
        "\n",
        "var data = new Promise(resolve=>{\n",
        "//recordButton.addEventListener(\"click\", toggleRecording);\n",
        "recordButton.onclick = ()=>{\n",
        "toggleRecording()\n",
        "\n",
        "sleep(2000).then(() => {\n",
        "  // wait 2000ms for the data to be available...\n",
        "  // ideally this should use something like await...\n",
        "  //console.log(\"Inside data:\" + base64data)\n",
        "  resolve(base64data.toString())\n",
        "\n",
        "});\n",
        "\n",
        "}\n",
        "});\n",
        "\n",
        "</script>\n",
        "\"\"\"\n",
        "\n",
        "def get_audio():\n",
        "  display(HTML(AUDIO_HTML))\n",
        "  data = eval_js(\"data\")\n",
        "  binary = b64decode(data.split(',')[1])\n",
        "  process = (ffmpeg\n",
        "    .input('pipe:0')\n",
        "    .output('pipe:1', format='wav')\n",
        "    .run_async(pipe_stdin=True, pipe_stdout=True, pipe_stderr=True, quiet=True, overwrite_output=True)\n",
        "  )\n",
        "  output, err = process.communicate(input=binary)\n",
        "  riff_chunk_size = len(output) - 8\n",
        "  q = riff_chunk_size\n",
        "  b = []\n",
        "  for i in range(4):\n",
        "      q, r = divmod(q, 256)\n",
        "      b.append(r)\n",
        "  riff = output[:4] + bytes(b) + output[8:]\n",
        "  sr, audio = wav_read(io.BytesIO(riff))\n",
        "  return audio, sr"
      ],
      "execution_count": null,
      "outputs": []
    },
    {
      "cell_type": "code",
      "metadata": {
        "id": "57xW3GSb6gv0",
        "colab": {
          "base_uri": "https://localhost:8080/",
          "height": 97
        },
        "outputId": "72b91ded-4107-441c-c093-191f3f1fb7b4"
      },
      "source": [
        "audio, sr = get_audio()"
      ],
      "execution_count": null,
      "outputs": [
        {
          "output_type": "display_data",
          "data": {
            "text/plain": [
              "<IPython.core.display.HTML object>"
            ],
            "text/html": [
              "\n",
              "<script>\n",
              "var my_div = document.createElement(\"DIV\");\n",
              "var my_p = document.createElement(\"P\");\n",
              "var my_btn = document.createElement(\"BUTTON\");\n",
              "var t = document.createTextNode(\"Press to start recording\");\n",
              "\n",
              "my_btn.appendChild(t);\n",
              "//my_p.appendChild(my_btn);\n",
              "my_div.appendChild(my_btn);\n",
              "document.body.appendChild(my_div);\n",
              "\n",
              "var base64data = 0;\n",
              "var reader;\n",
              "var recorder, gumStream;\n",
              "var recordButton = my_btn;\n",
              "\n",
              "var handleSuccess = function(stream) {\n",
              "  gumStream = stream;\n",
              "  var options = {\n",
              "    //bitsPerSecond: 8000, //chrome seems to ignore, always 48k\n",
              "    mimeType : 'audio/webm;codecs=opus'\n",
              "    //mimeType : 'audio/webm;codecs=pcm'\n",
              "  };\n",
              "  //recorder = new MediaRecorder(stream, options);\n",
              "  recorder = new MediaRecorder(stream);\n",
              "  recorder.ondataavailable = function(e) {\n",
              "    var url = URL.createObjectURL(e.data);\n",
              "    var preview = document.createElement('audio');\n",
              "    preview.controls = true;\n",
              "    preview.src = url;\n",
              "    document.body.appendChild(preview);\n",
              "\n",
              "    reader = new FileReader();\n",
              "    reader.readAsDataURL(e.data);\n",
              "    reader.onloadend = function() {\n",
              "      base64data = reader.result;\n",
              "      //console.log(\"Inside FileReader:\" + base64data);\n",
              "    }\n",
              "  };\n",
              "  recorder.start();\n",
              "  };\n",
              "\n",
              "recordButton.innerText = \"Recording... press to stop\";\n",
              "\n",
              "navigator.mediaDevices.getUserMedia({audio: true}).then(handleSuccess);\n",
              "\n",
              "\n",
              "function toggleRecording() {\n",
              "  if (recorder && recorder.state == \"recording\") {\n",
              "      recorder.stop();\n",
              "      gumStream.getAudioTracks()[0].stop();\n",
              "      recordButton.innerText = \"Saving the recording... pls wait!\"\n",
              "  }\n",
              "}\n",
              "\n",
              "// https://stackoverflow.com/a/951057\n",
              "function sleep(ms) {\n",
              "  return new Promise(resolve => setTimeout(resolve, ms));\n",
              "}\n",
              "\n",
              "var data = new Promise(resolve=>{\n",
              "//recordButton.addEventListener(\"click\", toggleRecording);\n",
              "recordButton.onclick = ()=>{\n",
              "toggleRecording()\n",
              "\n",
              "sleep(2000).then(() => {\n",
              "  // wait 2000ms for the data to be available...\n",
              "  // ideally this should use something like await...\n",
              "  //console.log(\"Inside data:\" + base64data)\n",
              "  resolve(base64data.toString())\n",
              "\n",
              "});\n",
              "\n",
              "}\n",
              "});\n",
              "\n",
              "</script>\n"
            ]
          },
          "metadata": {}
        }
      ]
    },
    {
      "cell_type": "code",
      "metadata": {
        "id": "-YilAhGr6gtZ"
      },
      "source": [
        "import scipy\n",
        "scipy.io.wavfile.write('recording.wav', sr, audio)"
      ],
      "execution_count": null,
      "outputs": []
    },
    {
      "cell_type": "code",
      "source": [],
      "metadata": {
        "id": "bMxKCMamaa7C"
      },
      "execution_count": null,
      "outputs": []
    }
  ]
}