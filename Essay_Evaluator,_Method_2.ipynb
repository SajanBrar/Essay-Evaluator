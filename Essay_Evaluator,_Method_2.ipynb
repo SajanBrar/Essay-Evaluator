{
  "cells": [
    {
      "cell_type": "code",
      "execution_count": null,
      "id": "2bf9a73d",
      "metadata": {
        "execution": {
          "iopub.execute_input": "2023-06-22T19:12:29.241051Z",
          "iopub.status.busy": "2023-06-22T19:12:29.240601Z",
          "iopub.status.idle": "2023-06-22T19:12:43.983360Z",
          "shell.execute_reply": "2023-06-22T19:12:43.981978Z"
        },
        "papermill": {
          "duration": 14.756572,
          "end_time": "2023-06-22T19:12:43.986172",
          "exception": false,
          "start_time": "2023-06-22T19:12:29.229600",
          "status": "completed"
        },
        "tags": [],
        "colab": {
          "base_uri": "https://localhost:8080/"
        },
        "id": "2bf9a73d",
        "outputId": "a091aa97-04e8-4df2-a39c-534955db63ae"
      },
      "outputs": [
        {
          "output_type": "stream",
          "name": "stdout",
          "text": [
            "Collecting word2number\n",
            "  Downloading word2number-1.1.zip (9.7 kB)\n",
            "  Preparing metadata (setup.py) ... \u001b[?25l\u001b[?25hdone\n",
            "Building wheels for collected packages: word2number\n",
            "  Building wheel for word2number (setup.py) ... \u001b[?25l\u001b[?25hdone\n",
            "  Created wheel for word2number: filename=word2number-1.1-py3-none-any.whl size=5569 sha256=af962dcd30cc8edc671244cf7f507759f47ac81c50bc134657701a942f7bafc8\n",
            "  Stored in directory: /root/.cache/pip/wheels/84/ff/26/d3cfbd971e96c5aa3737ecfced81628830d7359b55fbb8ca3b\n",
            "Successfully built word2number\n",
            "Installing collected packages: word2number\n",
            "Successfully installed word2number-1.1\n"
          ]
        }
      ],
      "source": [
        "!pip install word2number"
      ]
    },
    {
      "cell_type": "code",
      "execution_count": null,
      "id": "518cadf4",
      "metadata": {
        "execution": {
          "iopub.execute_input": "2023-06-22T19:12:44.009869Z",
          "iopub.status.busy": "2023-06-22T19:12:44.009386Z",
          "iopub.status.idle": "2023-06-22T19:12:55.725686Z",
          "shell.execute_reply": "2023-06-22T19:12:55.724303Z"
        },
        "papermill": {
          "duration": 11.731243,
          "end_time": "2023-06-22T19:12:55.728148",
          "exception": false,
          "start_time": "2023-06-22T19:12:43.996905",
          "status": "completed"
        },
        "tags": [],
        "id": "518cadf4"
      },
      "outputs": [],
      "source": [
        "import nltk\n",
        "import csv\n",
        "import numpy as np\n",
        "import pandas as pd\n",
        "import datetime as dt\n",
        "import seaborn as sns\n",
        "from word2number import w2n\n",
        "from nltk.corpus import stopwords\n",
        "from nltk.stem import PorterStemmer\n",
        "from nltk.tokenize import word_tokenize\n",
        "from nltk.stem import WordNetLemmatizer\n",
        "from nltk import word_tokenize, pos_tag, pos_tag_sents\n",
        "from wordcloud import WordCloud, STOPWORDS\n",
        "import tensorflow_hub as hub\n",
        "from keras.models import Sequential\n",
        "from keras.layers import Dense, Flatten\n",
        "from tensorflow.keras.models import Model\n",
        "from tensorflow.keras.layers import LSTM, Dense, Embedding, Input, dot\n",
        "from sklearn.metrics import f1_score\n",
        "from sklearn.metrics import accuracy_score\n",
        "from sklearn.multiclass import OneVsRestClassifier\n",
        "from sklearn.metrics import confusion_matrix\n",
        "from sklearn.naive_bayes import MultinomialNB\n",
        "from sklearn.linear_model import LogisticRegression\n",
        "from sklearn.preprocessing import MultiLabelBinarizer\n",
        "from sklearn import model_selection, naive_bayes, svm\n",
        "from sklearn.model_selection import train_test_split\n",
        "from sklearn.feature_extraction.text import TfidfVectorizer\n",
        "from sklearn.feature_extraction.text import CountVectorizer"
      ]
    },
    {
      "cell_type": "code",
      "execution_count": null,
      "id": "ec3f680a",
      "metadata": {
        "execution": {
          "iopub.execute_input": "2023-06-22T19:12:55.751884Z",
          "iopub.status.busy": "2023-06-22T19:12:55.751079Z",
          "iopub.status.idle": "2023-06-22T19:13:05.946108Z",
          "shell.execute_reply": "2023-06-22T19:13:05.944746Z"
        },
        "papermill": {
          "duration": 10.209746,
          "end_time": "2023-06-22T19:13:05.948921",
          "exception": false,
          "start_time": "2023-06-22T19:12:55.739175",
          "status": "completed"
        },
        "tags": [],
        "colab": {
          "base_uri": "https://localhost:8080/"
        },
        "id": "ec3f680a",
        "outputId": "e8ce5951-9f6d-49f7-d4d0-d424b62d6062"
      },
      "outputs": [
        {
          "output_type": "stream",
          "name": "stdout",
          "text": [
            "Name: tensorflow\n",
            "Version: 2.12.0\n",
            "Summary: TensorFlow is an open source machine learning framework for everyone.\n",
            "Home-page: https://www.tensorflow.org/\n",
            "Author: Google Inc.\n",
            "Author-email: packages@tensorflow.org\n",
            "License: Apache 2.0\n",
            "Location: /usr/local/lib/python3.10/dist-packages\n",
            "Requires: absl-py, astunparse, flatbuffers, gast, google-pasta, grpcio, h5py, jax, keras, libclang, numpy, opt-einsum, packaging, protobuf, setuptools, six, tensorboard, tensorflow-estimator, tensorflow-io-gcs-filesystem, termcolor, typing-extensions, wrapt\n",
            "Required-by: dopamine-rl\n"
          ]
        }
      ],
      "source": [
        "!pip3 show tensorflow"
      ]
    },
    {
      "cell_type": "code",
      "execution_count": null,
      "id": "f5e2c9c4",
      "metadata": {
        "execution": {
          "iopub.execute_input": "2023-06-22T19:13:05.992833Z",
          "iopub.status.busy": "2023-06-22T19:13:05.992449Z",
          "iopub.status.idle": "2023-06-22T19:13:06.236283Z",
          "shell.execute_reply": "2023-06-22T19:13:06.235326Z"
        },
        "papermill": {
          "duration": 0.258994,
          "end_time": "2023-06-22T19:13:06.239379",
          "exception": false,
          "start_time": "2023-06-22T19:13:05.980385",
          "status": "completed"
        },
        "tags": [],
        "id": "f5e2c9c4"
      },
      "outputs": [],
      "source": [
        "import csv\n",
        "train_df = pd.read_csv('/content/train.csv')\n",
        "test_df = pd.read_csv('/content/test.csv')"
      ]
    },
    {
      "cell_type": "code",
      "execution_count": null,
      "id": "a292fb31",
      "metadata": {
        "execution": {
          "iopub.execute_input": "2023-06-22T19:13:06.265251Z",
          "iopub.status.busy": "2023-06-22T19:13:06.264701Z",
          "iopub.status.idle": "2023-06-22T19:13:06.315390Z",
          "shell.execute_reply": "2023-06-22T19:13:06.313928Z"
        },
        "papermill": {
          "duration": 0.066713,
          "end_time": "2023-06-22T19:13:06.319324",
          "exception": false,
          "start_time": "2023-06-22T19:13:06.252611",
          "status": "completed"
        },
        "tags": [],
        "colab": {
          "base_uri": "https://localhost:8080/",
          "height": 206
        },
        "id": "a292fb31",
        "outputId": "66280fa0-9dc0-4616-f16d-929d5d02dc90"
      },
      "outputs": [
        {
          "output_type": "execute_result",
          "data": {
            "text/plain": [
              "        text_id                                          full_text  cohesion  \\\n",
              "0  0016926B079C  I think that students would benefit from learn...       3.5   \n",
              "1  0022683E9EA5  When a problem is a change you have to let it ...       2.5   \n",
              "2  00299B378633  Dear, Principal\\n\\nIf u change the school poli...       3.0   \n",
              "3  003885A45F42  The best time in life is when you become yours...       4.5   \n",
              "4  0049B1DF5CCC  Small act of kindness can impact in other peop...       2.5   \n",
              "\n",
              "   syntax  vocabulary  phraseology  grammar  conventions  \n",
              "0     3.5         3.0          3.0      4.0          3.0  \n",
              "1     2.5         3.0          2.0      2.0          2.5  \n",
              "2     3.5         3.0          3.0      3.0          2.5  \n",
              "3     4.5         4.5          4.5      4.0          5.0  \n",
              "4     3.0         3.0          3.0      2.5          2.5  "
            ],
            "text/html": [
              "\n",
              "  <div id=\"df-58d4024b-6751-4db3-95db-59de0cff73b4\">\n",
              "    <div class=\"colab-df-container\">\n",
              "      <div>\n",
              "<style scoped>\n",
              "    .dataframe tbody tr th:only-of-type {\n",
              "        vertical-align: middle;\n",
              "    }\n",
              "\n",
              "    .dataframe tbody tr th {\n",
              "        vertical-align: top;\n",
              "    }\n",
              "\n",
              "    .dataframe thead th {\n",
              "        text-align: right;\n",
              "    }\n",
              "</style>\n",
              "<table border=\"1\" class=\"dataframe\">\n",
              "  <thead>\n",
              "    <tr style=\"text-align: right;\">\n",
              "      <th></th>\n",
              "      <th>text_id</th>\n",
              "      <th>full_text</th>\n",
              "      <th>cohesion</th>\n",
              "      <th>syntax</th>\n",
              "      <th>vocabulary</th>\n",
              "      <th>phraseology</th>\n",
              "      <th>grammar</th>\n",
              "      <th>conventions</th>\n",
              "    </tr>\n",
              "  </thead>\n",
              "  <tbody>\n",
              "    <tr>\n",
              "      <th>0</th>\n",
              "      <td>0016926B079C</td>\n",
              "      <td>I think that students would benefit from learn...</td>\n",
              "      <td>3.5</td>\n",
              "      <td>3.5</td>\n",
              "      <td>3.0</td>\n",
              "      <td>3.0</td>\n",
              "      <td>4.0</td>\n",
              "      <td>3.0</td>\n",
              "    </tr>\n",
              "    <tr>\n",
              "      <th>1</th>\n",
              "      <td>0022683E9EA5</td>\n",
              "      <td>When a problem is a change you have to let it ...</td>\n",
              "      <td>2.5</td>\n",
              "      <td>2.5</td>\n",
              "      <td>3.0</td>\n",
              "      <td>2.0</td>\n",
              "      <td>2.0</td>\n",
              "      <td>2.5</td>\n",
              "    </tr>\n",
              "    <tr>\n",
              "      <th>2</th>\n",
              "      <td>00299B378633</td>\n",
              "      <td>Dear, Principal\\n\\nIf u change the school poli...</td>\n",
              "      <td>3.0</td>\n",
              "      <td>3.5</td>\n",
              "      <td>3.0</td>\n",
              "      <td>3.0</td>\n",
              "      <td>3.0</td>\n",
              "      <td>2.5</td>\n",
              "    </tr>\n",
              "    <tr>\n",
              "      <th>3</th>\n",
              "      <td>003885A45F42</td>\n",
              "      <td>The best time in life is when you become yours...</td>\n",
              "      <td>4.5</td>\n",
              "      <td>4.5</td>\n",
              "      <td>4.5</td>\n",
              "      <td>4.5</td>\n",
              "      <td>4.0</td>\n",
              "      <td>5.0</td>\n",
              "    </tr>\n",
              "    <tr>\n",
              "      <th>4</th>\n",
              "      <td>0049B1DF5CCC</td>\n",
              "      <td>Small act of kindness can impact in other peop...</td>\n",
              "      <td>2.5</td>\n",
              "      <td>3.0</td>\n",
              "      <td>3.0</td>\n",
              "      <td>3.0</td>\n",
              "      <td>2.5</td>\n",
              "      <td>2.5</td>\n",
              "    </tr>\n",
              "  </tbody>\n",
              "</table>\n",
              "</div>\n",
              "      <button class=\"colab-df-convert\" onclick=\"convertToInteractive('df-58d4024b-6751-4db3-95db-59de0cff73b4')\"\n",
              "              title=\"Convert this dataframe to an interactive table.\"\n",
              "              style=\"display:none;\">\n",
              "        \n",
              "  <svg xmlns=\"http://www.w3.org/2000/svg\" height=\"24px\"viewBox=\"0 0 24 24\"\n",
              "       width=\"24px\">\n",
              "    <path d=\"M0 0h24v24H0V0z\" fill=\"none\"/>\n",
              "    <path d=\"M18.56 5.44l.94 2.06.94-2.06 2.06-.94-2.06-.94-.94-2.06-.94 2.06-2.06.94zm-11 1L8.5 8.5l.94-2.06 2.06-.94-2.06-.94L8.5 2.5l-.94 2.06-2.06.94zm10 10l.94 2.06.94-2.06 2.06-.94-2.06-.94-.94-2.06-.94 2.06-2.06.94z\"/><path d=\"M17.41 7.96l-1.37-1.37c-.4-.4-.92-.59-1.43-.59-.52 0-1.04.2-1.43.59L10.3 9.45l-7.72 7.72c-.78.78-.78 2.05 0 2.83L4 21.41c.39.39.9.59 1.41.59.51 0 1.02-.2 1.41-.59l7.78-7.78 2.81-2.81c.8-.78.8-2.07 0-2.86zM5.41 20L4 18.59l7.72-7.72 1.47 1.35L5.41 20z\"/>\n",
              "  </svg>\n",
              "      </button>\n",
              "      \n",
              "  <style>\n",
              "    .colab-df-container {\n",
              "      display:flex;\n",
              "      flex-wrap:wrap;\n",
              "      gap: 12px;\n",
              "    }\n",
              "\n",
              "    .colab-df-convert {\n",
              "      background-color: #E8F0FE;\n",
              "      border: none;\n",
              "      border-radius: 50%;\n",
              "      cursor: pointer;\n",
              "      display: none;\n",
              "      fill: #1967D2;\n",
              "      height: 32px;\n",
              "      padding: 0 0 0 0;\n",
              "      width: 32px;\n",
              "    }\n",
              "\n",
              "    .colab-df-convert:hover {\n",
              "      background-color: #E2EBFA;\n",
              "      box-shadow: 0px 1px 2px rgba(60, 64, 67, 0.3), 0px 1px 3px 1px rgba(60, 64, 67, 0.15);\n",
              "      fill: #174EA6;\n",
              "    }\n",
              "\n",
              "    [theme=dark] .colab-df-convert {\n",
              "      background-color: #3B4455;\n",
              "      fill: #D2E3FC;\n",
              "    }\n",
              "\n",
              "    [theme=dark] .colab-df-convert:hover {\n",
              "      background-color: #434B5C;\n",
              "      box-shadow: 0px 1px 3px 1px rgba(0, 0, 0, 0.15);\n",
              "      filter: drop-shadow(0px 1px 2px rgba(0, 0, 0, 0.3));\n",
              "      fill: #FFFFFF;\n",
              "    }\n",
              "  </style>\n",
              "\n",
              "      <script>\n",
              "        const buttonEl =\n",
              "          document.querySelector('#df-58d4024b-6751-4db3-95db-59de0cff73b4 button.colab-df-convert');\n",
              "        buttonEl.style.display =\n",
              "          google.colab.kernel.accessAllowed ? 'block' : 'none';\n",
              "\n",
              "        async function convertToInteractive(key) {\n",
              "          const element = document.querySelector('#df-58d4024b-6751-4db3-95db-59de0cff73b4');\n",
              "          const dataTable =\n",
              "            await google.colab.kernel.invokeFunction('convertToInteractive',\n",
              "                                                     [key], {});\n",
              "          if (!dataTable) return;\n",
              "\n",
              "          const docLinkHtml = 'Like what you see? Visit the ' +\n",
              "            '<a target=\"_blank\" href=https://colab.research.google.com/notebooks/data_table.ipynb>data table notebook</a>'\n",
              "            + ' to learn more about interactive tables.';\n",
              "          element.innerHTML = '';\n",
              "          dataTable['output_type'] = 'display_data';\n",
              "          await google.colab.output.renderOutput(dataTable, element);\n",
              "          const docLink = document.createElement('div');\n",
              "          docLink.innerHTML = docLinkHtml;\n",
              "          element.appendChild(docLink);\n",
              "        }\n",
              "      </script>\n",
              "    </div>\n",
              "  </div>\n",
              "  "
            ]
          },
          "metadata": {},
          "execution_count": 9
        }
      ],
      "source": [
        "train_df.head()"
      ]
    },
    {
      "cell_type": "code",
      "execution_count": null,
      "id": "26fe8d68",
      "metadata": {
        "execution": {
          "iopub.execute_input": "2023-06-22T19:13:06.350122Z",
          "iopub.status.busy": "2023-06-22T19:13:06.349514Z",
          "iopub.status.idle": "2023-06-22T19:13:06.366211Z",
          "shell.execute_reply": "2023-06-22T19:13:06.365056Z"
        },
        "papermill": {
          "duration": 0.035392,
          "end_time": "2023-06-22T19:13:06.369401",
          "exception": false,
          "start_time": "2023-06-22T19:13:06.334009",
          "status": "completed"
        },
        "tags": [],
        "colab": {
          "base_uri": "https://localhost:8080/"
        },
        "id": "26fe8d68",
        "outputId": "d1c1e95e-b4d0-40f5-973c-101ca50d1d18"
      },
      "outputs": [
        {
          "output_type": "execute_result",
          "data": {
            "text/plain": [
              "(3911, 8)"
            ]
          },
          "metadata": {},
          "execution_count": 10
        }
      ],
      "source": [
        "train_df.shape"
      ]
    },
    {
      "cell_type": "code",
      "execution_count": null,
      "id": "811f5808",
      "metadata": {
        "execution": {
          "iopub.execute_input": "2023-06-22T19:13:06.397863Z",
          "iopub.status.busy": "2023-06-22T19:13:06.397486Z",
          "iopub.status.idle": "2023-06-22T19:13:06.439603Z",
          "shell.execute_reply": "2023-06-22T19:13:06.438670Z"
        },
        "papermill": {
          "duration": 0.057342,
          "end_time": "2023-06-22T19:13:06.442331",
          "exception": false,
          "start_time": "2023-06-22T19:13:06.384989",
          "status": "completed"
        },
        "tags": [],
        "colab": {
          "base_uri": "https://localhost:8080/",
          "height": 300
        },
        "id": "811f5808",
        "outputId": "46168552-3fbb-4554-9954-950fde2dcaa3"
      },
      "outputs": [
        {
          "output_type": "execute_result",
          "data": {
            "text/plain": [
              "          cohesion       syntax   vocabulary  phraseology      grammar  \\\n",
              "count  3911.000000  3911.000000  3911.000000  3911.000000  3911.000000   \n",
              "mean      3.127077     3.028254     3.235745     3.116850     3.032856   \n",
              "std       0.662542     0.644399     0.583148     0.655997     0.699841   \n",
              "min       1.000000     1.000000     1.000000     1.000000     1.000000   \n",
              "25%       2.500000     2.500000     3.000000     2.500000     2.500000   \n",
              "50%       3.000000     3.000000     3.000000     3.000000     3.000000   \n",
              "75%       3.500000     3.500000     3.500000     3.500000     3.500000   \n",
              "max       5.000000     5.000000     5.000000     5.000000     5.000000   \n",
              "\n",
              "       conventions  \n",
              "count  3911.000000  \n",
              "mean      3.081053  \n",
              "std       0.671450  \n",
              "min       1.000000  \n",
              "25%       2.500000  \n",
              "50%       3.000000  \n",
              "75%       3.500000  \n",
              "max       5.000000  "
            ],
            "text/html": [
              "\n",
              "  <div id=\"df-996d0d97-11af-4d3c-9e54-cf1130c0b073\">\n",
              "    <div class=\"colab-df-container\">\n",
              "      <div>\n",
              "<style scoped>\n",
              "    .dataframe tbody tr th:only-of-type {\n",
              "        vertical-align: middle;\n",
              "    }\n",
              "\n",
              "    .dataframe tbody tr th {\n",
              "        vertical-align: top;\n",
              "    }\n",
              "\n",
              "    .dataframe thead th {\n",
              "        text-align: right;\n",
              "    }\n",
              "</style>\n",
              "<table border=\"1\" class=\"dataframe\">\n",
              "  <thead>\n",
              "    <tr style=\"text-align: right;\">\n",
              "      <th></th>\n",
              "      <th>cohesion</th>\n",
              "      <th>syntax</th>\n",
              "      <th>vocabulary</th>\n",
              "      <th>phraseology</th>\n",
              "      <th>grammar</th>\n",
              "      <th>conventions</th>\n",
              "    </tr>\n",
              "  </thead>\n",
              "  <tbody>\n",
              "    <tr>\n",
              "      <th>count</th>\n",
              "      <td>3911.000000</td>\n",
              "      <td>3911.000000</td>\n",
              "      <td>3911.000000</td>\n",
              "      <td>3911.000000</td>\n",
              "      <td>3911.000000</td>\n",
              "      <td>3911.000000</td>\n",
              "    </tr>\n",
              "    <tr>\n",
              "      <th>mean</th>\n",
              "      <td>3.127077</td>\n",
              "      <td>3.028254</td>\n",
              "      <td>3.235745</td>\n",
              "      <td>3.116850</td>\n",
              "      <td>3.032856</td>\n",
              "      <td>3.081053</td>\n",
              "    </tr>\n",
              "    <tr>\n",
              "      <th>std</th>\n",
              "      <td>0.662542</td>\n",
              "      <td>0.644399</td>\n",
              "      <td>0.583148</td>\n",
              "      <td>0.655997</td>\n",
              "      <td>0.699841</td>\n",
              "      <td>0.671450</td>\n",
              "    </tr>\n",
              "    <tr>\n",
              "      <th>min</th>\n",
              "      <td>1.000000</td>\n",
              "      <td>1.000000</td>\n",
              "      <td>1.000000</td>\n",
              "      <td>1.000000</td>\n",
              "      <td>1.000000</td>\n",
              "      <td>1.000000</td>\n",
              "    </tr>\n",
              "    <tr>\n",
              "      <th>25%</th>\n",
              "      <td>2.500000</td>\n",
              "      <td>2.500000</td>\n",
              "      <td>3.000000</td>\n",
              "      <td>2.500000</td>\n",
              "      <td>2.500000</td>\n",
              "      <td>2.500000</td>\n",
              "    </tr>\n",
              "    <tr>\n",
              "      <th>50%</th>\n",
              "      <td>3.000000</td>\n",
              "      <td>3.000000</td>\n",
              "      <td>3.000000</td>\n",
              "      <td>3.000000</td>\n",
              "      <td>3.000000</td>\n",
              "      <td>3.000000</td>\n",
              "    </tr>\n",
              "    <tr>\n",
              "      <th>75%</th>\n",
              "      <td>3.500000</td>\n",
              "      <td>3.500000</td>\n",
              "      <td>3.500000</td>\n",
              "      <td>3.500000</td>\n",
              "      <td>3.500000</td>\n",
              "      <td>3.500000</td>\n",
              "    </tr>\n",
              "    <tr>\n",
              "      <th>max</th>\n",
              "      <td>5.000000</td>\n",
              "      <td>5.000000</td>\n",
              "      <td>5.000000</td>\n",
              "      <td>5.000000</td>\n",
              "      <td>5.000000</td>\n",
              "      <td>5.000000</td>\n",
              "    </tr>\n",
              "  </tbody>\n",
              "</table>\n",
              "</div>\n",
              "      <button class=\"colab-df-convert\" onclick=\"convertToInteractive('df-996d0d97-11af-4d3c-9e54-cf1130c0b073')\"\n",
              "              title=\"Convert this dataframe to an interactive table.\"\n",
              "              style=\"display:none;\">\n",
              "        \n",
              "  <svg xmlns=\"http://www.w3.org/2000/svg\" height=\"24px\"viewBox=\"0 0 24 24\"\n",
              "       width=\"24px\">\n",
              "    <path d=\"M0 0h24v24H0V0z\" fill=\"none\"/>\n",
              "    <path d=\"M18.56 5.44l.94 2.06.94-2.06 2.06-.94-2.06-.94-.94-2.06-.94 2.06-2.06.94zm-11 1L8.5 8.5l.94-2.06 2.06-.94-2.06-.94L8.5 2.5l-.94 2.06-2.06.94zm10 10l.94 2.06.94-2.06 2.06-.94-2.06-.94-.94-2.06-.94 2.06-2.06.94z\"/><path d=\"M17.41 7.96l-1.37-1.37c-.4-.4-.92-.59-1.43-.59-.52 0-1.04.2-1.43.59L10.3 9.45l-7.72 7.72c-.78.78-.78 2.05 0 2.83L4 21.41c.39.39.9.59 1.41.59.51 0 1.02-.2 1.41-.59l7.78-7.78 2.81-2.81c.8-.78.8-2.07 0-2.86zM5.41 20L4 18.59l7.72-7.72 1.47 1.35L5.41 20z\"/>\n",
              "  </svg>\n",
              "      </button>\n",
              "      \n",
              "  <style>\n",
              "    .colab-df-container {\n",
              "      display:flex;\n",
              "      flex-wrap:wrap;\n",
              "      gap: 12px;\n",
              "    }\n",
              "\n",
              "    .colab-df-convert {\n",
              "      background-color: #E8F0FE;\n",
              "      border: none;\n",
              "      border-radius: 50%;\n",
              "      cursor: pointer;\n",
              "      display: none;\n",
              "      fill: #1967D2;\n",
              "      height: 32px;\n",
              "      padding: 0 0 0 0;\n",
              "      width: 32px;\n",
              "    }\n",
              "\n",
              "    .colab-df-convert:hover {\n",
              "      background-color: #E2EBFA;\n",
              "      box-shadow: 0px 1px 2px rgba(60, 64, 67, 0.3), 0px 1px 3px 1px rgba(60, 64, 67, 0.15);\n",
              "      fill: #174EA6;\n",
              "    }\n",
              "\n",
              "    [theme=dark] .colab-df-convert {\n",
              "      background-color: #3B4455;\n",
              "      fill: #D2E3FC;\n",
              "    }\n",
              "\n",
              "    [theme=dark] .colab-df-convert:hover {\n",
              "      background-color: #434B5C;\n",
              "      box-shadow: 0px 1px 3px 1px rgba(0, 0, 0, 0.15);\n",
              "      filter: drop-shadow(0px 1px 2px rgba(0, 0, 0, 0.3));\n",
              "      fill: #FFFFFF;\n",
              "    }\n",
              "  </style>\n",
              "\n",
              "      <script>\n",
              "        const buttonEl =\n",
              "          document.querySelector('#df-996d0d97-11af-4d3c-9e54-cf1130c0b073 button.colab-df-convert');\n",
              "        buttonEl.style.display =\n",
              "          google.colab.kernel.accessAllowed ? 'block' : 'none';\n",
              "\n",
              "        async function convertToInteractive(key) {\n",
              "          const element = document.querySelector('#df-996d0d97-11af-4d3c-9e54-cf1130c0b073');\n",
              "          const dataTable =\n",
              "            await google.colab.kernel.invokeFunction('convertToInteractive',\n",
              "                                                     [key], {});\n",
              "          if (!dataTable) return;\n",
              "\n",
              "          const docLinkHtml = 'Like what you see? Visit the ' +\n",
              "            '<a target=\"_blank\" href=https://colab.research.google.com/notebooks/data_table.ipynb>data table notebook</a>'\n",
              "            + ' to learn more about interactive tables.';\n",
              "          element.innerHTML = '';\n",
              "          dataTable['output_type'] = 'display_data';\n",
              "          await google.colab.output.renderOutput(dataTable, element);\n",
              "          const docLink = document.createElement('div');\n",
              "          docLink.innerHTML = docLinkHtml;\n",
              "          element.appendChild(docLink);\n",
              "        }\n",
              "      </script>\n",
              "    </div>\n",
              "  </div>\n",
              "  "
            ]
          },
          "metadata": {},
          "execution_count": 11
        }
      ],
      "source": [
        "train_df.describe()"
      ]
    },
    {
      "cell_type": "code",
      "execution_count": null,
      "id": "443fd64d",
      "metadata": {
        "execution": {
          "iopub.execute_input": "2023-06-22T19:13:06.476804Z",
          "iopub.status.busy": "2023-06-22T19:13:06.476117Z",
          "iopub.status.idle": "2023-06-22T19:13:06.486374Z",
          "shell.execute_reply": "2023-06-22T19:13:06.485570Z"
        },
        "papermill": {
          "duration": 0.030133,
          "end_time": "2023-06-22T19:13:06.489045",
          "exception": false,
          "start_time": "2023-06-22T19:13:06.458912",
          "status": "completed"
        },
        "tags": [],
        "colab": {
          "base_uri": "https://localhost:8080/"
        },
        "id": "443fd64d",
        "outputId": "23f0aa78-19f7-4c65-89ff-2a049a8759f2"
      },
      "outputs": [
        {
          "output_type": "execute_result",
          "data": {
            "text/plain": [
              "text_id        0\n",
              "full_text      0\n",
              "cohesion       0\n",
              "syntax         0\n",
              "vocabulary     0\n",
              "phraseology    0\n",
              "grammar        0\n",
              "conventions    0\n",
              "dtype: int64"
            ]
          },
          "metadata": {},
          "execution_count": 12
        }
      ],
      "source": [
        "train_df.isnull().sum().sort_values(ascending=False)"
      ]
    },
    {
      "cell_type": "code",
      "execution_count": null,
      "id": "e9aa9ab3",
      "metadata": {
        "execution": {
          "iopub.execute_input": "2023-06-22T19:13:06.572992Z",
          "iopub.status.busy": "2023-06-22T19:13:06.572571Z",
          "iopub.status.idle": "2023-06-22T19:13:07.976195Z",
          "shell.execute_reply": "2023-06-22T19:13:07.974243Z"
        },
        "papermill": {
          "duration": 1.420101,
          "end_time": "2023-06-22T19:13:07.979671",
          "exception": false,
          "start_time": "2023-06-22T19:13:06.559570",
          "status": "completed"
        },
        "tags": [],
        "id": "e9aa9ab3",
        "outputId": "b1191147-8aa3-4698-fd8c-b7e5063bf1c1",
        "colab": {
          "base_uri": "https://localhost:8080/"
        }
      },
      "outputs": [
        {
          "output_type": "stream",
          "name": "stdout",
          "text": [
            "unzip:  cannot find or open /usr/share/nltk_data/corpora/wordnet.zip, /usr/share/nltk_data/corpora/wordnet.zip.zip or /usr/share/nltk_data/corpora/wordnet.zip.ZIP.\n"
          ]
        }
      ],
      "source": [
        "# import nltk\n",
        "# print(nltk.find('corpora/wordnet.zip')) --> to check if wordnet is unzipped and available\n",
        "!unzip /usr/share/nltk_data/corpora/wordnet.zip -d /usr/share/nltk_data/corpora/"
      ]
    },
    {
      "cell_type": "code",
      "execution_count": null,
      "id": "8393d14e",
      "metadata": {
        "execution": {
          "iopub.execute_input": "2023-06-22T19:13:08.053606Z",
          "iopub.status.busy": "2023-06-22T19:13:08.053218Z",
          "iopub.status.idle": "2023-06-22T19:13:08.059549Z",
          "shell.execute_reply": "2023-06-22T19:13:08.058802Z"
        },
        "papermill": {
          "duration": 0.022009,
          "end_time": "2023-06-22T19:13:08.061995",
          "exception": false,
          "start_time": "2023-06-22T19:13:08.039986",
          "status": "completed"
        },
        "tags": [],
        "id": "8393d14e"
      },
      "outputs": [],
      "source": [
        "def check_num(x):\n",
        "    \"\"\"\n",
        "    Remove numbers from list\n",
        "    :param x:list of words\n",
        "    :return: list of words without any numbers\n",
        "\n",
        "    E.g: ETL.check_num(['five','four','day','sun']) will return ['day','sun']\n",
        "    \"\"\"\n",
        "    word_list = []\n",
        "    remove_list = []\n",
        "    for i in x:\n",
        "        try:\n",
        "            w2n.word_to_num(i)\n",
        "            remove_list.append(i)\n",
        "        except ValueError:\n",
        "            word_list.append(i)\n",
        "    return \"\".join(word_list)"
      ]
    },
    {
      "cell_type": "code",
      "execution_count": null,
      "id": "f7a97cb5",
      "metadata": {
        "execution": {
          "iopub.execute_input": "2023-06-22T19:13:08.087657Z",
          "iopub.status.busy": "2023-06-22T19:13:08.087241Z",
          "iopub.status.idle": "2023-06-22T19:13:08.094244Z",
          "shell.execute_reply": "2023-06-22T19:13:08.093298Z"
        },
        "papermill": {
          "duration": 0.022004,
          "end_time": "2023-06-22T19:13:08.096303",
          "exception": false,
          "start_time": "2023-06-22T19:13:08.074299",
          "status": "completed"
        },
        "tags": [],
        "id": "f7a97cb5"
      },
      "outputs": [],
      "source": [
        "## Clean the text\n",
        "def text_preprocess(sentence):\n",
        "    # convert text to lowercase\n",
        "    sentence=str(sentence)\n",
        "    sentence = sentence.lower()\n",
        "\n",
        "    # A tokenizer that splits a string using a regular expression,\n",
        "    # which matches either the tokens or the separators between tokens.\n",
        "    tokenizer = nltk.RegexpTokenizer(r'\\w+')\n",
        "    tokens = tokenizer.tokenize(sentence)\n",
        "\n",
        "    # Remove stopwords\n",
        "    filtered_words = [w for w in tokens if len(w) > 2 if not w in stopwords.words('english')]\n",
        "\n",
        "    # Stemming the words (eg. Studies => Studi)\n",
        "    stemmer = PorterStemmer()\n",
        "    stem_words=[stemmer.stem(w) for w in filtered_words]\n",
        "\n",
        "    # Lemmatize (eg. Studies => Study)\n",
        "    lemmatizer = WordNetLemmatizer()\n",
        "    lemma_words=[lemmatizer.lemmatize(w) for w in stem_words]\n",
        "\n",
        "    return \" \".join(filtered_words)"
      ]
    },
    {
      "cell_type": "code",
      "source": [
        "import nltk\n",
        "nltk.download('stopwords')\n",
        "nltk.download('wordnet')"
      ],
      "metadata": {
        "colab": {
          "base_uri": "https://localhost:8080/"
        },
        "id": "7fpdaJCSV82S",
        "outputId": "411cb9fc-1245-4945-ec7a-290b99404f6f"
      },
      "id": "7fpdaJCSV82S",
      "execution_count": null,
      "outputs": [
        {
          "output_type": "stream",
          "name": "stderr",
          "text": [
            "[nltk_data] Downloading package stopwords to /root/nltk_data...\n",
            "[nltk_data]   Package stopwords is already up-to-date!\n",
            "[nltk_data] Downloading package wordnet to /root/nltk_data...\n"
          ]
        },
        {
          "output_type": "execute_result",
          "data": {
            "text/plain": [
              "True"
            ]
          },
          "metadata": {},
          "execution_count": 19
        }
      ]
    },
    {
      "cell_type": "code",
      "execution_count": null,
      "id": "73f30622",
      "metadata": {
        "execution": {
          "iopub.execute_input": "2023-06-22T19:13:08.120267Z",
          "iopub.status.busy": "2023-06-22T19:13:08.119870Z",
          "iopub.status.idle": "2023-06-22T19:16:15.625044Z",
          "shell.execute_reply": "2023-06-22T19:16:15.623906Z"
        },
        "papermill": {
          "duration": 187.531079,
          "end_time": "2023-06-22T19:16:15.638581",
          "exception": false,
          "start_time": "2023-06-22T19:13:08.107502",
          "status": "completed"
        },
        "tags": [],
        "id": "73f30622",
        "outputId": "23095f09-2b73-47c3-d328-f82c6d09a26e",
        "colab": {
          "base_uri": "https://localhost:8080/",
          "height": 337
        }
      },
      "outputs": [
        {
          "output_type": "execute_result",
          "data": {
            "text/plain": [
              "        text_id                                          full_text  cohesion  \\\n",
              "0  0016926B079C  I think that students would benefit from learn...       3.5   \n",
              "1  0022683E9EA5  When a problem is a change you have to let it ...       2.5   \n",
              "2  00299B378633  Dear, Principal\\n\\nIf u change the school poli...       3.0   \n",
              "3  003885A45F42  The best time in life is when you become yours...       4.5   \n",
              "4  0049B1DF5CCC  Small act of kindness can impact in other peop...       2.5   \n",
              "\n",
              "   syntax  vocabulary  phraseology  grammar  conventions  \\\n",
              "0     3.5         3.0          3.0      4.0          3.0   \n",
              "1     2.5         3.0          2.0      2.0          2.5   \n",
              "2     3.5         3.0          3.0      3.0          2.5   \n",
              "3     4.5         4.5          4.5      4.0          5.0   \n",
              "4     3.0         3.0          3.0      2.5          2.5   \n",
              "\n",
              "                                          clean_text  \n",
              "0  think students would benefit learning home won...  \n",
              "1  problem change let best matter happening chang...  \n",
              "2  dear principal change school policy grade aver...  \n",
              "3  best time life become agree greatest accomplis...  \n",
              "4  small act kindness impact people change people...  "
            ],
            "text/html": [
              "\n",
              "  <div id=\"df-0c542dd4-2bc6-4239-bedc-6ee611f97cc3\">\n",
              "    <div class=\"colab-df-container\">\n",
              "      <div>\n",
              "<style scoped>\n",
              "    .dataframe tbody tr th:only-of-type {\n",
              "        vertical-align: middle;\n",
              "    }\n",
              "\n",
              "    .dataframe tbody tr th {\n",
              "        vertical-align: top;\n",
              "    }\n",
              "\n",
              "    .dataframe thead th {\n",
              "        text-align: right;\n",
              "    }\n",
              "</style>\n",
              "<table border=\"1\" class=\"dataframe\">\n",
              "  <thead>\n",
              "    <tr style=\"text-align: right;\">\n",
              "      <th></th>\n",
              "      <th>text_id</th>\n",
              "      <th>full_text</th>\n",
              "      <th>cohesion</th>\n",
              "      <th>syntax</th>\n",
              "      <th>vocabulary</th>\n",
              "      <th>phraseology</th>\n",
              "      <th>grammar</th>\n",
              "      <th>conventions</th>\n",
              "      <th>clean_text</th>\n",
              "    </tr>\n",
              "  </thead>\n",
              "  <tbody>\n",
              "    <tr>\n",
              "      <th>0</th>\n",
              "      <td>0016926B079C</td>\n",
              "      <td>I think that students would benefit from learn...</td>\n",
              "      <td>3.5</td>\n",
              "      <td>3.5</td>\n",
              "      <td>3.0</td>\n",
              "      <td>3.0</td>\n",
              "      <td>4.0</td>\n",
              "      <td>3.0</td>\n",
              "      <td>think students would benefit learning home won...</td>\n",
              "    </tr>\n",
              "    <tr>\n",
              "      <th>1</th>\n",
              "      <td>0022683E9EA5</td>\n",
              "      <td>When a problem is a change you have to let it ...</td>\n",
              "      <td>2.5</td>\n",
              "      <td>2.5</td>\n",
              "      <td>3.0</td>\n",
              "      <td>2.0</td>\n",
              "      <td>2.0</td>\n",
              "      <td>2.5</td>\n",
              "      <td>problem change let best matter happening chang...</td>\n",
              "    </tr>\n",
              "    <tr>\n",
              "      <th>2</th>\n",
              "      <td>00299B378633</td>\n",
              "      <td>Dear, Principal\\n\\nIf u change the school poli...</td>\n",
              "      <td>3.0</td>\n",
              "      <td>3.5</td>\n",
              "      <td>3.0</td>\n",
              "      <td>3.0</td>\n",
              "      <td>3.0</td>\n",
              "      <td>2.5</td>\n",
              "      <td>dear principal change school policy grade aver...</td>\n",
              "    </tr>\n",
              "    <tr>\n",
              "      <th>3</th>\n",
              "      <td>003885A45F42</td>\n",
              "      <td>The best time in life is when you become yours...</td>\n",
              "      <td>4.5</td>\n",
              "      <td>4.5</td>\n",
              "      <td>4.5</td>\n",
              "      <td>4.5</td>\n",
              "      <td>4.0</td>\n",
              "      <td>5.0</td>\n",
              "      <td>best time life become agree greatest accomplis...</td>\n",
              "    </tr>\n",
              "    <tr>\n",
              "      <th>4</th>\n",
              "      <td>0049B1DF5CCC</td>\n",
              "      <td>Small act of kindness can impact in other peop...</td>\n",
              "      <td>2.5</td>\n",
              "      <td>3.0</td>\n",
              "      <td>3.0</td>\n",
              "      <td>3.0</td>\n",
              "      <td>2.5</td>\n",
              "      <td>2.5</td>\n",
              "      <td>small act kindness impact people change people...</td>\n",
              "    </tr>\n",
              "  </tbody>\n",
              "</table>\n",
              "</div>\n",
              "      <button class=\"colab-df-convert\" onclick=\"convertToInteractive('df-0c542dd4-2bc6-4239-bedc-6ee611f97cc3')\"\n",
              "              title=\"Convert this dataframe to an interactive table.\"\n",
              "              style=\"display:none;\">\n",
              "        \n",
              "  <svg xmlns=\"http://www.w3.org/2000/svg\" height=\"24px\"viewBox=\"0 0 24 24\"\n",
              "       width=\"24px\">\n",
              "    <path d=\"M0 0h24v24H0V0z\" fill=\"none\"/>\n",
              "    <path d=\"M18.56 5.44l.94 2.06.94-2.06 2.06-.94-2.06-.94-.94-2.06-.94 2.06-2.06.94zm-11 1L8.5 8.5l.94-2.06 2.06-.94-2.06-.94L8.5 2.5l-.94 2.06-2.06.94zm10 10l.94 2.06.94-2.06 2.06-.94-2.06-.94-.94-2.06-.94 2.06-2.06.94z\"/><path d=\"M17.41 7.96l-1.37-1.37c-.4-.4-.92-.59-1.43-.59-.52 0-1.04.2-1.43.59L10.3 9.45l-7.72 7.72c-.78.78-.78 2.05 0 2.83L4 21.41c.39.39.9.59 1.41.59.51 0 1.02-.2 1.41-.59l7.78-7.78 2.81-2.81c.8-.78.8-2.07 0-2.86zM5.41 20L4 18.59l7.72-7.72 1.47 1.35L5.41 20z\"/>\n",
              "  </svg>\n",
              "      </button>\n",
              "      \n",
              "  <style>\n",
              "    .colab-df-container {\n",
              "      display:flex;\n",
              "      flex-wrap:wrap;\n",
              "      gap: 12px;\n",
              "    }\n",
              "\n",
              "    .colab-df-convert {\n",
              "      background-color: #E8F0FE;\n",
              "      border: none;\n",
              "      border-radius: 50%;\n",
              "      cursor: pointer;\n",
              "      display: none;\n",
              "      fill: #1967D2;\n",
              "      height: 32px;\n",
              "      padding: 0 0 0 0;\n",
              "      width: 32px;\n",
              "    }\n",
              "\n",
              "    .colab-df-convert:hover {\n",
              "      background-color: #E2EBFA;\n",
              "      box-shadow: 0px 1px 2px rgba(60, 64, 67, 0.3), 0px 1px 3px 1px rgba(60, 64, 67, 0.15);\n",
              "      fill: #174EA6;\n",
              "    }\n",
              "\n",
              "    [theme=dark] .colab-df-convert {\n",
              "      background-color: #3B4455;\n",
              "      fill: #D2E3FC;\n",
              "    }\n",
              "\n",
              "    [theme=dark] .colab-df-convert:hover {\n",
              "      background-color: #434B5C;\n",
              "      box-shadow: 0px 1px 3px 1px rgba(0, 0, 0, 0.15);\n",
              "      filter: drop-shadow(0px 1px 2px rgba(0, 0, 0, 0.3));\n",
              "      fill: #FFFFFF;\n",
              "    }\n",
              "  </style>\n",
              "\n",
              "      <script>\n",
              "        const buttonEl =\n",
              "          document.querySelector('#df-0c542dd4-2bc6-4239-bedc-6ee611f97cc3 button.colab-df-convert');\n",
              "        buttonEl.style.display =\n",
              "          google.colab.kernel.accessAllowed ? 'block' : 'none';\n",
              "\n",
              "        async function convertToInteractive(key) {\n",
              "          const element = document.querySelector('#df-0c542dd4-2bc6-4239-bedc-6ee611f97cc3');\n",
              "          const dataTable =\n",
              "            await google.colab.kernel.invokeFunction('convertToInteractive',\n",
              "                                                     [key], {});\n",
              "          if (!dataTable) return;\n",
              "\n",
              "          const docLinkHtml = 'Like what you see? Visit the ' +\n",
              "            '<a target=\"_blank\" href=https://colab.research.google.com/notebooks/data_table.ipynb>data table notebook</a>'\n",
              "            + ' to learn more about interactive tables.';\n",
              "          element.innerHTML = '';\n",
              "          dataTable['output_type'] = 'display_data';\n",
              "          await google.colab.output.renderOutput(dataTable, element);\n",
              "          const docLink = document.createElement('div');\n",
              "          docLink.innerHTML = docLinkHtml;\n",
              "          element.appendChild(docLink);\n",
              "        }\n",
              "      </script>\n",
              "    </div>\n",
              "  </div>\n",
              "  "
            ]
          },
          "metadata": {},
          "execution_count": 20
        }
      ],
      "source": [
        "# Clean text, check & remove numbers\n",
        "train_df['clean_text'] = train_df['full_text'].apply(text_preprocess)\n",
        "train_df['clean_text'] = train_df['clean_text'].map(lambda x: check_num(x))\n",
        "train_df['clean_text'] = train_df['clean_text'].str.replace('http','')\n",
        "train_df['clean_text'] = train_df['clean_text'].str.replace('https','')\n",
        "train_df.head()"
      ]
    },
    {
      "cell_type": "code",
      "execution_count": null,
      "id": "866cf30f",
      "metadata": {
        "execution": {
          "iopub.execute_input": "2023-06-22T19:16:15.664502Z",
          "iopub.status.busy": "2023-06-22T19:16:15.663341Z",
          "iopub.status.idle": "2023-06-22T19:16:15.670657Z",
          "shell.execute_reply": "2023-06-22T19:16:15.669362Z"
        },
        "papermill": {
          "duration": 0.023343,
          "end_time": "2023-06-22T19:16:15.673317",
          "exception": false,
          "start_time": "2023-06-22T19:16:15.649974",
          "status": "completed"
        },
        "tags": [],
        "id": "866cf30f"
      },
      "outputs": [],
      "source": [
        "## List the top 25 frequest keywords in full_text column\n",
        "def get_top_n_words(corpus, n=None):\n",
        "    vec = CountVectorizer().fit(corpus)\n",
        "    bag_of_words = vec.transform(corpus)\n",
        "    sum_words = bag_of_words.sum(axis=0)\n",
        "    words_freq = [(word, sum_words[0, idx]) for word, idx in vec.vocabulary_.items()]\n",
        "    words_freq =sorted(words_freq, key = lambda x: x[1], reverse=True)\n",
        "    return words_freq[:n]"
      ]
    },
    {
      "cell_type": "code",
      "execution_count": null,
      "id": "c1541cfd",
      "metadata": {
        "execution": {
          "iopub.execute_input": "2023-06-22T19:16:15.699609Z",
          "iopub.status.busy": "2023-06-22T19:16:15.699238Z",
          "iopub.status.idle": "2023-06-22T19:16:16.925713Z",
          "shell.execute_reply": "2023-06-22T19:16:16.924992Z"
        },
        "papermill": {
          "duration": 1.242162,
          "end_time": "2023-06-22T19:16:16.927670",
          "exception": false,
          "start_time": "2023-06-22T19:16:15.685508",
          "status": "completed"
        },
        "tags": [],
        "id": "c1541cfd",
        "outputId": "845a8e22-63d4-4dfe-d0cd-cf094c0fb1fa",
        "colab": {
          "base_uri": "https://localhost:8080/",
          "height": 206
        }
      },
      "outputs": [
        {
          "output_type": "execute_result",
          "data": {
            "text/plain": [
              "      words   freq\n",
              "0    people  15322\n",
              "1  students  13130\n",
              "2    school  12969\n",
              "3      time   8574\n",
              "4      good   8436"
            ],
            "text/html": [
              "\n",
              "  <div id=\"df-6d690cdf-c655-478f-b2db-bbb4e81513c3\">\n",
              "    <div class=\"colab-df-container\">\n",
              "      <div>\n",
              "<style scoped>\n",
              "    .dataframe tbody tr th:only-of-type {\n",
              "        vertical-align: middle;\n",
              "    }\n",
              "\n",
              "    .dataframe tbody tr th {\n",
              "        vertical-align: top;\n",
              "    }\n",
              "\n",
              "    .dataframe thead th {\n",
              "        text-align: right;\n",
              "    }\n",
              "</style>\n",
              "<table border=\"1\" class=\"dataframe\">\n",
              "  <thead>\n",
              "    <tr style=\"text-align: right;\">\n",
              "      <th></th>\n",
              "      <th>words</th>\n",
              "      <th>freq</th>\n",
              "    </tr>\n",
              "  </thead>\n",
              "  <tbody>\n",
              "    <tr>\n",
              "      <th>0</th>\n",
              "      <td>people</td>\n",
              "      <td>15322</td>\n",
              "    </tr>\n",
              "    <tr>\n",
              "      <th>1</th>\n",
              "      <td>students</td>\n",
              "      <td>13130</td>\n",
              "    </tr>\n",
              "    <tr>\n",
              "      <th>2</th>\n",
              "      <td>school</td>\n",
              "      <td>12969</td>\n",
              "    </tr>\n",
              "    <tr>\n",
              "      <th>3</th>\n",
              "      <td>time</td>\n",
              "      <td>8574</td>\n",
              "    </tr>\n",
              "    <tr>\n",
              "      <th>4</th>\n",
              "      <td>good</td>\n",
              "      <td>8436</td>\n",
              "    </tr>\n",
              "  </tbody>\n",
              "</table>\n",
              "</div>\n",
              "      <button class=\"colab-df-convert\" onclick=\"convertToInteractive('df-6d690cdf-c655-478f-b2db-bbb4e81513c3')\"\n",
              "              title=\"Convert this dataframe to an interactive table.\"\n",
              "              style=\"display:none;\">\n",
              "        \n",
              "  <svg xmlns=\"http://www.w3.org/2000/svg\" height=\"24px\"viewBox=\"0 0 24 24\"\n",
              "       width=\"24px\">\n",
              "    <path d=\"M0 0h24v24H0V0z\" fill=\"none\"/>\n",
              "    <path d=\"M18.56 5.44l.94 2.06.94-2.06 2.06-.94-2.06-.94-.94-2.06-.94 2.06-2.06.94zm-11 1L8.5 8.5l.94-2.06 2.06-.94-2.06-.94L8.5 2.5l-.94 2.06-2.06.94zm10 10l.94 2.06.94-2.06 2.06-.94-2.06-.94-.94-2.06-.94 2.06-2.06.94z\"/><path d=\"M17.41 7.96l-1.37-1.37c-.4-.4-.92-.59-1.43-.59-.52 0-1.04.2-1.43.59L10.3 9.45l-7.72 7.72c-.78.78-.78 2.05 0 2.83L4 21.41c.39.39.9.59 1.41.59.51 0 1.02-.2 1.41-.59l7.78-7.78 2.81-2.81c.8-.78.8-2.07 0-2.86zM5.41 20L4 18.59l7.72-7.72 1.47 1.35L5.41 20z\"/>\n",
              "  </svg>\n",
              "      </button>\n",
              "      \n",
              "  <style>\n",
              "    .colab-df-container {\n",
              "      display:flex;\n",
              "      flex-wrap:wrap;\n",
              "      gap: 12px;\n",
              "    }\n",
              "\n",
              "    .colab-df-convert {\n",
              "      background-color: #E8F0FE;\n",
              "      border: none;\n",
              "      border-radius: 50%;\n",
              "      cursor: pointer;\n",
              "      display: none;\n",
              "      fill: #1967D2;\n",
              "      height: 32px;\n",
              "      padding: 0 0 0 0;\n",
              "      width: 32px;\n",
              "    }\n",
              "\n",
              "    .colab-df-convert:hover {\n",
              "      background-color: #E2EBFA;\n",
              "      box-shadow: 0px 1px 2px rgba(60, 64, 67, 0.3), 0px 1px 3px 1px rgba(60, 64, 67, 0.15);\n",
              "      fill: #174EA6;\n",
              "    }\n",
              "\n",
              "    [theme=dark] .colab-df-convert {\n",
              "      background-color: #3B4455;\n",
              "      fill: #D2E3FC;\n",
              "    }\n",
              "\n",
              "    [theme=dark] .colab-df-convert:hover {\n",
              "      background-color: #434B5C;\n",
              "      box-shadow: 0px 1px 3px 1px rgba(0, 0, 0, 0.15);\n",
              "      filter: drop-shadow(0px 1px 2px rgba(0, 0, 0, 0.3));\n",
              "      fill: #FFFFFF;\n",
              "    }\n",
              "  </style>\n",
              "\n",
              "      <script>\n",
              "        const buttonEl =\n",
              "          document.querySelector('#df-6d690cdf-c655-478f-b2db-bbb4e81513c3 button.colab-df-convert');\n",
              "        buttonEl.style.display =\n",
              "          google.colab.kernel.accessAllowed ? 'block' : 'none';\n",
              "\n",
              "        async function convertToInteractive(key) {\n",
              "          const element = document.querySelector('#df-6d690cdf-c655-478f-b2db-bbb4e81513c3');\n",
              "          const dataTable =\n",
              "            await google.colab.kernel.invokeFunction('convertToInteractive',\n",
              "                                                     [key], {});\n",
              "          if (!dataTable) return;\n",
              "\n",
              "          const docLinkHtml = 'Like what you see? Visit the ' +\n",
              "            '<a target=\"_blank\" href=https://colab.research.google.com/notebooks/data_table.ipynb>data table notebook</a>'\n",
              "            + ' to learn more about interactive tables.';\n",
              "          element.innerHTML = '';\n",
              "          dataTable['output_type'] = 'display_data';\n",
              "          await google.colab.output.renderOutput(dataTable, element);\n",
              "          const docLink = document.createElement('div');\n",
              "          docLink.innerHTML = docLinkHtml;\n",
              "          element.appendChild(docLink);\n",
              "        }\n",
              "      </script>\n",
              "    </div>\n",
              "  </div>\n",
              "  "
            ]
          },
          "metadata": {},
          "execution_count": 22
        }
      ],
      "source": [
        "## Get top 25 Frequent keywords\n",
        "wordcount_list = train_df['clean_text'].tolist()\n",
        "freq_keywords = get_top_n_words(wordcount_list,25)\n",
        "\n",
        "df_wordcounts = pd.DataFrame(freq_keywords, columns=['words','freq'])\n",
        "df_wordcounts.head(5)"
      ]
    },
    {
      "cell_type": "code",
      "execution_count": null,
      "id": "4e8050c1",
      "metadata": {
        "execution": {
          "iopub.execute_input": "2023-06-22T19:16:16.952900Z",
          "iopub.status.busy": "2023-06-22T19:16:16.952494Z",
          "iopub.status.idle": "2023-06-22T19:16:17.457138Z",
          "shell.execute_reply": "2023-06-22T19:16:17.455907Z"
        },
        "papermill": {
          "duration": 0.520179,
          "end_time": "2023-06-22T19:16:17.459549",
          "exception": false,
          "start_time": "2023-06-22T19:16:16.939370",
          "status": "completed"
        },
        "tags": [],
        "id": "4e8050c1",
        "outputId": "622139c7-c7a4-4173-a8f4-0a0469698b47",
        "colab": {
          "base_uri": "https://localhost:8080/",
          "height": 745
        }
      },
      "outputs": [
        {
          "output_type": "display_data",
          "data": {
            "text/plain": [
              "<Figure size 1400x800 with 1 Axes>"
            ],
            "image/png": "[encoded data removed]"
          },
          "metadata": {}
        }
      ],
      "source": [
        "import matplotlib.pyplot as plt\n",
        "# create bar plot of top 20 words\n",
        "fig, ax = plt.subplots(figsize = (14,8))\n",
        "_ = sns.barplot(data = df_wordcounts, x = 'words', y = 'freq', ax = ax)\n",
        "labels = [item.get_text() for item in ax.get_xticklabels()]\n",
        "ax.set_xticklabels(labels, rotation = 45)\n",
        "ax.set_title(\"25 Most Frequent words\")\n",
        "ax.set_xlabel(\"\")\n",
        "ax.set_ylabel(\"\")\n",
        "plt.show(fig)"
      ]
    },
    {
      "cell_type": "code",
      "execution_count": null,
      "id": "b0022aa2",
      "metadata": {
        "execution": {
          "iopub.execute_input": "2023-06-22T19:16:17.487319Z",
          "iopub.status.busy": "2023-06-22T19:16:17.486917Z",
          "iopub.status.idle": "2023-06-22T19:16:17.688074Z",
          "shell.execute_reply": "2023-06-22T19:16:17.686825Z"
        },
        "papermill": {
          "duration": 0.220554,
          "end_time": "2023-06-22T19:16:17.692955",
          "exception": false,
          "start_time": "2023-06-22T19:16:17.472401",
          "status": "completed"
        },
        "tags": [],
        "id": "b0022aa2",
        "outputId": "0edbf59d-d7be-4cbc-b189-8d497c524e7f",
        "colab": {
          "base_uri": "https://localhost:8080/",
          "height": 436
        }
      },
      "outputs": [
        {
          "output_type": "display_data",
          "data": {
            "text/plain": [
              "<Figure size 600x400 with 1 Axes>"
            ],
            "image/png": "[encoded data removed]"
          },
          "metadata": {}
        }
      ],
      "source": [
        "# Wordcloud\n",
        "wordcloud = WordCloud(width = 300,\n",
        "                      height = 300,\n",
        "                      background_color='white',\n",
        "                      max_font_size=50, max_words=150)\n",
        "\n",
        "wordcloud = wordcloud.generate_from_frequencies(df_wordcounts.set_index('words').freq)\n",
        "\n",
        "# plot words\n",
        "plt.figure(figsize=(6,4),facecolor = 'white', edgecolor='blue')\n",
        "plt.imshow(wordcloud, interpolation=\"bilinear\")\n",
        "plt.axis(\"off\")\n",
        "plt.tight_layout(pad=0)\n",
        "plt.show()"
      ]
    },
    {
      "cell_type": "code",
      "execution_count": null,
      "id": "4c9f0ac1",
      "metadata": {
        "execution": {
          "iopub.execute_input": "2023-06-22T19:16:17.767646Z",
          "iopub.status.busy": "2023-06-22T19:16:17.767232Z",
          "iopub.status.idle": "2023-06-22T19:16:17.772182Z",
          "shell.execute_reply": "2023-06-22T19:16:17.771240Z"
        },
        "papermill": {
          "duration": 0.023348,
          "end_time": "2023-06-22T19:16:17.774076",
          "exception": false,
          "start_time": "2023-06-22T19:16:17.750728",
          "status": "completed"
        },
        "tags": [],
        "id": "4c9f0ac1"
      },
      "outputs": [],
      "source": [
        "def get_tfhub_embeddings(hub_model, input_values):\n",
        "    \"\"\"\n",
        "    :param hub_model: loaded TF HUB model to be used for embedding lookups\n",
        "    :param input: sentences to look up embeddings\n",
        "    Return tfHub model embeedings\n",
        "    \"\"\"\n",
        "    return hub_model(input_values)"
      ]
    },
    {
      "cell_type": "code",
      "execution_count": null,
      "id": "baaf2b1e",
      "metadata": {
        "execution": {
          "iopub.execute_input": "2023-06-22T19:16:17.805381Z",
          "iopub.status.busy": "2023-06-22T19:16:17.804245Z",
          "iopub.status.idle": "2023-06-22T19:16:47.553775Z",
          "shell.execute_reply": "2023-06-22T19:16:47.552922Z"
        },
        "papermill": {
          "duration": 29.767556,
          "end_time": "2023-06-22T19:16:47.556219",
          "exception": false,
          "start_time": "2023-06-22T19:16:17.788663",
          "status": "completed"
        },
        "tags": [],
        "id": "baaf2b1e",
        "outputId": "396d952f-d5e6-461c-8a13-d7dcdefaa083",
        "colab": {
          "base_uri": "https://localhost:8080/"
        }
      },
      "outputs": [
        {
          "output_type": "stream",
          "name": "stdout",
          "text": [
            "module https://tfhub.dev/google/universal-sentence-encoder/4 loaded\n"
          ]
        }
      ],
      "source": [
        "# Building our embedding layer with TF Hub\n",
        "def embed(input):\n",
        "  return model(input)\n",
        "\n",
        "module_url = \"https://tfhub.dev/google/universal-sentence-encoder/4\" #@param [\"https://tfhub.dev/google/universal-sentence-encoder/4\", \"https://tfhub.dev/google/universal-sentence-encoder-large/5\"]\n",
        "tf_model = hub.load(module_url)\n",
        "print (\"module %s loaded\" % module_url)\n"
      ]
    },
    {
      "cell_type": "code",
      "execution_count": null,
      "id": "c85ea0bf",
      "metadata": {
        "execution": {
          "iopub.execute_input": "2023-06-22T19:16:47.588101Z",
          "iopub.status.busy": "2023-06-22T19:16:47.586993Z",
          "iopub.status.idle": "2023-06-22T19:16:47.596739Z",
          "shell.execute_reply": "2023-06-22T19:16:47.595945Z"
        },
        "papermill": {
          "duration": 0.028045,
          "end_time": "2023-06-22T19:16:47.599102",
          "exception": false,
          "start_time": "2023-06-22T19:16:47.571057",
          "status": "completed"
        },
        "tags": [],
        "id": "c85ea0bf"
      },
      "outputs": [],
      "source": [
        "# Split the dataset\n",
        "X_train, X_val, y_train, y_val = train_test_split(train_df['clean_text'],\n",
        "                                                  train_df[['cohesion', 'syntax', 'vocabulary',\n",
        "                                                              'phraseology', 'grammar', 'conventions']],\n",
        "                                                  test_size=0.2,\n",
        "                                                  random_state=42)"
      ]
    },
    {
      "cell_type": "code",
      "execution_count": null,
      "id": "c477f112",
      "metadata": {
        "execution": {
          "iopub.execute_input": "2023-06-22T19:16:47.630464Z",
          "iopub.status.busy": "2023-06-22T19:16:47.629548Z",
          "iopub.status.idle": "2023-06-22T19:16:47.636372Z",
          "shell.execute_reply": "2023-06-22T19:16:47.635285Z"
        },
        "papermill": {
          "duration": 0.024806,
          "end_time": "2023-06-22T19:16:47.638531",
          "exception": false,
          "start_time": "2023-06-22T19:16:47.613725",
          "status": "completed"
        },
        "tags": [],
        "id": "c477f112",
        "outputId": "23561cac-71c0-4cf0-ff12-5f2061871518",
        "colab": {
          "base_uri": "https://localhost:8080/"
        }
      },
      "outputs": [
        {
          "output_type": "execute_result",
          "data": {
            "text/plain": [
              "(3128,)"
            ]
          },
          "metadata": {},
          "execution_count": 28
        }
      ],
      "source": [
        "X_train.shape"
      ]
    },
    {
      "cell_type": "code",
      "execution_count": null,
      "id": "db31f6c5",
      "metadata": {
        "execution": {
          "iopub.execute_input": "2023-06-22T19:16:47.670222Z",
          "iopub.status.busy": "2023-06-22T19:16:47.669824Z",
          "iopub.status.idle": "2023-06-22T19:16:47.676460Z",
          "shell.execute_reply": "2023-06-22T19:16:47.675295Z"
        },
        "papermill": {
          "duration": 0.025024,
          "end_time": "2023-06-22T19:16:47.678498",
          "exception": false,
          "start_time": "2023-06-22T19:16:47.653474",
          "status": "completed"
        },
        "tags": [],
        "id": "db31f6c5",
        "outputId": "2f919785-cef5-464a-b2a2-b910016c79fd",
        "colab": {
          "base_uri": "https://localhost:8080/"
        }
      },
      "outputs": [
        {
          "output_type": "execute_result",
          "data": {
            "text/plain": [
              "(783,)"
            ]
          },
          "metadata": {},
          "execution_count": 29
        }
      ],
      "source": [
        "X_val.shape"
      ]
    },
    {
      "cell_type": "code",
      "execution_count": null,
      "id": "b4058175",
      "metadata": {
        "execution": {
          "iopub.execute_input": "2023-06-22T19:16:47.709965Z",
          "iopub.status.busy": "2023-06-22T19:16:47.709567Z",
          "iopub.status.idle": "2023-06-22T19:16:47.715980Z",
          "shell.execute_reply": "2023-06-22T19:16:47.714901Z"
        },
        "papermill": {
          "duration": 0.024518,
          "end_time": "2023-06-22T19:16:47.718105",
          "exception": false,
          "start_time": "2023-06-22T19:16:47.693587",
          "status": "completed"
        },
        "tags": [],
        "id": "b4058175",
        "outputId": "52d5e48e-407e-4e9e-cb9f-fe2f401d3928",
        "colab": {
          "base_uri": "https://localhost:8080/"
        }
      },
      "outputs": [
        {
          "output_type": "execute_result",
          "data": {
            "text/plain": [
              "(3128, 6)"
            ]
          },
          "metadata": {},
          "execution_count": 30
        }
      ],
      "source": [
        "y_train.shape"
      ]
    },
    {
      "cell_type": "code",
      "execution_count": null,
      "id": "125d998d",
      "metadata": {
        "execution": {
          "iopub.execute_input": "2023-06-22T19:16:47.750934Z",
          "iopub.status.busy": "2023-06-22T19:16:47.750540Z",
          "iopub.status.idle": "2023-06-22T19:16:47.756818Z",
          "shell.execute_reply": "2023-06-22T19:16:47.755804Z"
        },
        "papermill": {
          "duration": 0.025224,
          "end_time": "2023-06-22T19:16:47.759042",
          "exception": false,
          "start_time": "2023-06-22T19:16:47.733818",
          "status": "completed"
        },
        "tags": [],
        "id": "125d998d",
        "outputId": "dad4e846-7ed3-401a-9154-cac5c6a1d4c9",
        "colab": {
          "base_uri": "https://localhost:8080/"
        }
      },
      "outputs": [
        {
          "output_type": "execute_result",
          "data": {
            "text/plain": [
              "(783, 6)"
            ]
          },
          "metadata": {},
          "execution_count": 31
        }
      ],
      "source": [
        "y_val.shape"
      ]
    },
    {
      "cell_type": "code",
      "execution_count": null,
      "id": "b47c2209",
      "metadata": {
        "execution": {
          "iopub.execute_input": "2023-06-22T19:16:47.823029Z",
          "iopub.status.busy": "2023-06-22T19:16:47.822615Z",
          "iopub.status.idle": "2023-06-22T19:16:51.658097Z",
          "shell.execute_reply": "2023-06-22T19:16:51.657059Z"
        },
        "papermill": {
          "duration": 3.85496,
          "end_time": "2023-06-22T19:16:51.660825",
          "exception": false,
          "start_time": "2023-06-22T19:16:47.805865",
          "status": "completed"
        },
        "tags": [],
        "id": "b47c2209"
      },
      "outputs": [],
      "source": [
        "# Train embeddings\n",
        "train_embeddings = get_tfhub_embeddings(tf_model, X_train)"
      ]
    },
    {
      "cell_type": "code",
      "execution_count": null,
      "id": "8bb04375",
      "metadata": {
        "execution": {
          "iopub.execute_input": "2023-06-22T19:16:51.699332Z",
          "iopub.status.busy": "2023-06-22T19:16:51.698947Z",
          "iopub.status.idle": "2023-06-22T19:16:51.707392Z",
          "shell.execute_reply": "2023-06-22T19:16:51.706525Z"
        },
        "papermill": {
          "duration": 0.027908,
          "end_time": "2023-06-22T19:16:51.709609",
          "exception": false,
          "start_time": "2023-06-22T19:16:51.681701",
          "status": "completed"
        },
        "tags": [],
        "id": "8bb04375",
        "outputId": "a94129e4-800a-49d6-ebbb-69e507ba15cb",
        "colab": {
          "base_uri": "https://localhost:8080/"
        }
      },
      "outputs": [
        {
          "output_type": "execute_result",
          "data": {
            "text/plain": [
              "<tf.Tensor: shape=(3128, 512), dtype=float32, numpy=\n",
              "array([[-0.02030706, -0.06276024,  0.05850618, ..., -0.05989736,\n",
              "        -0.05763413,  0.04488133],\n",
              "       [ 0.04243866, -0.04895128, -0.04879124, ...,  0.04888656,\n",
              "        -0.04892056,  0.04045769],\n",
              "       [-0.01545733, -0.06186138,  0.00869186, ..., -0.02695067,\n",
              "        -0.02145453,  0.02933881],\n",
              "       ...,\n",
              "       [ 0.03809927, -0.05193041,  0.05162708, ...,  0.04609749,\n",
              "        -0.04408437, -0.04456358],\n",
              "       [ 0.04691554, -0.04691561, -0.04690049, ...,  0.04690446,\n",
              "        -0.04691566, -0.04691566],\n",
              "       [ 0.02195081, -0.06159687,  0.0456199 , ..., -0.01428163,\n",
              "        -0.01393795, -0.04625296]], dtype=float32)>"
            ]
          },
          "metadata": {},
          "execution_count": 33
        }
      ],
      "source": [
        "train_embeddings"
      ]
    },
    {
      "cell_type": "code",
      "execution_count": null,
      "id": "e6ae23fa",
      "metadata": {
        "execution": {
          "iopub.execute_input": "2023-06-22T19:16:51.748007Z",
          "iopub.status.busy": "2023-06-22T19:16:51.747238Z",
          "iopub.status.idle": "2023-06-22T19:16:51.754495Z",
          "shell.execute_reply": "2023-06-22T19:16:51.753462Z"
        },
        "papermill": {
          "duration": 0.027763,
          "end_time": "2023-06-22T19:16:51.757806",
          "exception": false,
          "start_time": "2023-06-22T19:16:51.730043",
          "status": "completed"
        },
        "tags": [],
        "id": "e6ae23fa",
        "outputId": "4b9a3cf6-f6cb-45b8-bc4a-9f96b7718fa5",
        "colab": {
          "base_uri": "https://localhost:8080/"
        }
      },
      "outputs": [
        {
          "output_type": "execute_result",
          "data": {
            "text/plain": [
              "TensorShape([3128, 512])"
            ]
          },
          "metadata": {},
          "execution_count": 34
        }
      ],
      "source": [
        "train_embeddings.shape"
      ]
    },
    {
      "cell_type": "code",
      "execution_count": null,
      "id": "9965ab7a",
      "metadata": {
        "execution": {
          "iopub.execute_input": "2023-06-22T19:16:51.792974Z",
          "iopub.status.busy": "2023-06-22T19:16:51.792533Z",
          "iopub.status.idle": "2023-06-22T19:16:52.596132Z",
          "shell.execute_reply": "2023-06-22T19:16:52.594855Z"
        },
        "papermill": {
          "duration": 0.823493,
          "end_time": "2023-06-22T19:16:52.598886",
          "exception": false,
          "start_time": "2023-06-22T19:16:51.775393",
          "status": "completed"
        },
        "tags": [],
        "id": "9965ab7a"
      },
      "outputs": [],
      "source": [
        "# Val embeddings\n",
        "val_embeddings = get_tfhub_embeddings(tf_model, X_val)"
      ]
    },
    {
      "cell_type": "code",
      "execution_count": null,
      "id": "4a2decd1",
      "metadata": {
        "execution": {
          "iopub.execute_input": "2023-06-22T19:16:52.634785Z",
          "iopub.status.busy": "2023-06-22T19:16:52.634134Z",
          "iopub.status.idle": "2023-06-22T19:16:52.641826Z",
          "shell.execute_reply": "2023-06-22T19:16:52.641040Z"
        },
        "papermill": {
          "duration": 0.027319,
          "end_time": "2023-06-22T19:16:52.643893",
          "exception": false,
          "start_time": "2023-06-22T19:16:52.616574",
          "status": "completed"
        },
        "tags": [],
        "id": "4a2decd1",
        "outputId": "68e122b7-0f17-40d8-c320-fc35ff148a71",
        "colab": {
          "base_uri": "https://localhost:8080/"
        }
      },
      "outputs": [
        {
          "output_type": "execute_result",
          "data": {
            "text/plain": [
              "<tf.Tensor: shape=(783, 512), dtype=float32, numpy=\n",
              "array([[-0.04551474, -0.05303006,  0.05301534, ..., -0.05180794,\n",
              "        -0.05301658,  0.04689324],\n",
              "       [ 0.06358184, -0.06963202,  0.03173317, ...,  0.02603714,\n",
              "        -0.07032435,  0.01562743],\n",
              "       [ 0.01247489, -0.05968821, -0.00218256, ..., -0.01090817,\n",
              "        -0.05846686, -0.04300472],\n",
              "       ...,\n",
              "       [ 0.03636789, -0.05447835,  0.02963859, ...,  0.05266872,\n",
              "        -0.00765883, -0.01270793],\n",
              "       [ 0.05934792, -0.06195728,  0.03348529, ...,  0.01394424,\n",
              "        -0.06054487, -0.0482785 ],\n",
              "       [-0.04915535, -0.05633991, -0.01206606, ..., -0.05646549,\n",
              "        -0.05516211, -0.01542348]], dtype=float32)>"
            ]
          },
          "metadata": {},
          "execution_count": 36
        }
      ],
      "source": [
        "val_embeddings"
      ]
    },
    {
      "cell_type": "code",
      "execution_count": null,
      "id": "f57ae9a8",
      "metadata": {
        "execution": {
          "iopub.execute_input": "2023-06-22T19:16:52.683716Z",
          "iopub.status.busy": "2023-06-22T19:16:52.682917Z",
          "iopub.status.idle": "2023-06-22T19:16:52.688743Z",
          "shell.execute_reply": "2023-06-22T19:16:52.687937Z"
        },
        "papermill": {
          "duration": 0.029618,
          "end_time": "2023-06-22T19:16:52.690871",
          "exception": false,
          "start_time": "2023-06-22T19:16:52.661253",
          "status": "completed"
        },
        "tags": [],
        "id": "f57ae9a8",
        "outputId": "83c99ef6-6aaf-401d-ab79-2b3915c3d283",
        "colab": {
          "base_uri": "https://localhost:8080/"
        }
      },
      "outputs": [
        {
          "output_type": "execute_result",
          "data": {
            "text/plain": [
              "TensorShape([783, 512])"
            ]
          },
          "metadata": {},
          "execution_count": 37
        }
      ],
      "source": [
        "val_embeddings.shape"
      ]
    },
    {
      "cell_type": "code",
      "execution_count": null,
      "id": "9616a9bf",
      "metadata": {
        "execution": {
          "iopub.execute_input": "2023-06-22T19:16:52.794837Z",
          "iopub.status.busy": "2023-06-22T19:16:52.794161Z",
          "iopub.status.idle": "2023-06-22T19:16:53.078936Z",
          "shell.execute_reply": "2023-06-22T19:16:53.077706Z"
        },
        "papermill": {
          "duration": 0.308937,
          "end_time": "2023-06-22T19:16:53.084405",
          "exception": false,
          "start_time": "2023-06-22T19:16:52.775468",
          "status": "completed"
        },
        "tags": [],
        "id": "9616a9bf",
        "outputId": "c682f4b7-20f3-47aa-a010-af5723736f85",
        "colab": {
          "base_uri": "https://localhost:8080/"
        }
      },
      "outputs": [
        {
          "output_type": "stream",
          "name": "stdout",
          "text": [
            "Model: \"sequential\"\n",
            "_________________________________________________________________\n",
            " Layer (type)                Output Shape              Param #   \n",
            "=================================================================\n",
            " embedding (Embedding)       (None, None, 8)           400       \n",
            "                                                                 \n",
            " lstm (LSTM)                 (None, 128)               70144     \n",
            "                                                                 \n",
            " dense (Dense)               (None, 6)                 774       \n",
            "                                                                 \n",
            "=================================================================\n",
            "Total params: 71,318\n",
            "Trainable params: 71,318\n",
            "Non-trainable params: 0\n",
            "_________________________________________________________________\n",
            "None\n"
          ]
        }
      ],
      "source": [
        "input_dim = len(train_embeddings[0])\n",
        "inputs = Input(shape=(input_dim,))\n",
        "\n",
        "model=Sequential()\n",
        "model.add(Embedding(input_dim=50,output_dim=8))\n",
        "model.add(LSTM(128,dropout=0.4,recurrent_dropout=0.4))\n",
        "\n",
        "model.add(Dense(6,activation='relu'))\n",
        "model.compile(loss='mse',optimizer='adam', metrics=['accuracy'])\n",
        "print(model.summary())"
      ]
    },
    {
      "cell_type": "code",
      "execution_count": null,
      "id": "1fe83a40",
      "metadata": {
        "execution": {
          "iopub.execute_input": "2023-06-22T19:16:53.154970Z",
          "iopub.status.busy": "2023-06-22T19:16:53.154539Z",
          "iopub.status.idle": "2023-06-22T19:17:31.839994Z",
          "shell.execute_reply": "2023-06-22T19:17:31.838830Z"
        },
        "papermill": {
          "duration": 38.706953,
          "end_time": "2023-06-22T19:17:31.842494",
          "exception": false,
          "start_time": "2023-06-22T19:16:53.135541",
          "status": "completed"
        },
        "tags": [],
        "id": "1fe83a40",
        "outputId": "c5d4942e-59b1-4957-c629-cb183798ceb8",
        "colab": {
          "base_uri": "https://localhost:8080/"
        }
      },
      "outputs": [
        {
          "output_type": "stream",
          "name": "stdout",
          "text": [
            "25/25 [==============================] - 88s 3s/step - loss: 5.3001 - accuracy: 0.2778\n"
          ]
        },
        {
          "output_type": "execute_result",
          "data": {
            "text/plain": [
              "<keras.callbacks.History at 0x7efcbd9aa8f0>"
            ]
          },
          "metadata": {},
          "execution_count": 39
        }
      ],
      "source": [
        "batch_size=128\n",
        "model.fit(train_embeddings, y_train, epochs=1, batch_size=batch_size, verbose=1)"
      ]
    },
    {
      "cell_type": "code",
      "execution_count": null,
      "id": "b08674de",
      "metadata": {
        "execution": {
          "iopub.execute_input": "2023-06-22T19:17:31.882516Z",
          "iopub.status.busy": "2023-06-22T19:17:31.882131Z",
          "iopub.status.idle": "2023-06-22T19:17:31.886929Z",
          "shell.execute_reply": "2023-06-22T19:17:31.885780Z"
        },
        "papermill": {
          "duration": 0.027066,
          "end_time": "2023-06-22T19:17:31.889175",
          "exception": false,
          "start_time": "2023-06-22T19:17:31.862109",
          "status": "completed"
        },
        "tags": [],
        "id": "b08674de"
      },
      "outputs": [],
      "source": [
        "# # Fit the model\n",
        "# batch_size=128\n",
        "# model.fit(train_embeddings, y_train, epochs=10, batch_size=batch_size, verbose=1,\n",
        "#          validation_data=(np.array(val_embeddings), np.array(y_val))\n",
        "#          )"
      ]
    },
    {
      "cell_type": "code",
      "execution_count": null,
      "id": "92d47fc4",
      "metadata": {
        "execution": {
          "iopub.execute_input": "2023-06-22T19:17:31.965274Z",
          "iopub.status.busy": "2023-06-22T19:17:31.964895Z",
          "iopub.status.idle": "2023-06-22T19:17:31.975310Z",
          "shell.execute_reply": "2023-06-22T19:17:31.974199Z"
        },
        "papermill": {
          "duration": 0.032422,
          "end_time": "2023-06-22T19:17:31.977452",
          "exception": false,
          "start_time": "2023-06-22T19:17:31.945030",
          "status": "completed"
        },
        "tags": [],
        "id": "92d47fc4",
        "outputId": "1cdda755-ad1e-4f95-8f02-9d084a19337d",
        "colab": {
          "base_uri": "https://localhost:8080/",
          "height": 143
        }
      },
      "outputs": [
        {
          "output_type": "execute_result",
          "data": {
            "text/plain": [
              "        text_id                                          full_text\n",
              "0  0000C359D63E  when a person has no experience on a job their...\n",
              "1  000BAD50D026  Do you think students would benefit from being...\n",
              "2  00367BB2546B  Thomas Jefferson once states that \"it is wonde..."
            ],
            "text/html": [
              "\n",
              "  <div id=\"df-a7edd928-7a04-4308-a826-74a6959f86b3\">\n",
              "    <div class=\"colab-df-container\">\n",
              "      <div>\n",
              "<style scoped>\n",
              "    .dataframe tbody tr th:only-of-type {\n",
              "        vertical-align: middle;\n",
              "    }\n",
              "\n",
              "    .dataframe tbody tr th {\n",
              "        vertical-align: top;\n",
              "    }\n",
              "\n",
              "    .dataframe thead th {\n",
              "        text-align: right;\n",
              "    }\n",
              "</style>\n",
              "<table border=\"1\" class=\"dataframe\">\n",
              "  <thead>\n",
              "    <tr style=\"text-align: right;\">\n",
              "      <th></th>\n",
              "      <th>text_id</th>\n",
              "      <th>full_text</th>\n",
              "    </tr>\n",
              "  </thead>\n",
              "  <tbody>\n",
              "    <tr>\n",
              "      <th>0</th>\n",
              "      <td>0000C359D63E</td>\n",
              "      <td>when a person has no experience on a job their...</td>\n",
              "    </tr>\n",
              "    <tr>\n",
              "      <th>1</th>\n",
              "      <td>000BAD50D026</td>\n",
              "      <td>Do you think students would benefit from being...</td>\n",
              "    </tr>\n",
              "    <tr>\n",
              "      <th>2</th>\n",
              "      <td>00367BB2546B</td>\n",
              "      <td>Thomas Jefferson once states that \"it is wonde...</td>\n",
              "    </tr>\n",
              "  </tbody>\n",
              "</table>\n",
              "</div>\n",
              "      <button class=\"colab-df-convert\" onclick=\"convertToInteractive('df-a7edd928-7a04-4308-a826-74a6959f86b3')\"\n",
              "              title=\"Convert this dataframe to an interactive table.\"\n",
              "              style=\"display:none;\">\n",
              "        \n",
              "  <svg xmlns=\"http://www.w3.org/2000/svg\" height=\"24px\"viewBox=\"0 0 24 24\"\n",
              "       width=\"24px\">\n",
              "    <path d=\"M0 0h24v24H0V0z\" fill=\"none\"/>\n",
              "    <path d=\"M18.56 5.44l.94 2.06.94-2.06 2.06-.94-2.06-.94-.94-2.06-.94 2.06-2.06.94zm-11 1L8.5 8.5l.94-2.06 2.06-.94-2.06-.94L8.5 2.5l-.94 2.06-2.06.94zm10 10l.94 2.06.94-2.06 2.06-.94-2.06-.94-.94-2.06-.94 2.06-2.06.94z\"/><path d=\"M17.41 7.96l-1.37-1.37c-.4-.4-.92-.59-1.43-.59-.52 0-1.04.2-1.43.59L10.3 9.45l-7.72 7.72c-.78.78-.78 2.05 0 2.83L4 21.41c.39.39.9.59 1.41.59.51 0 1.02-.2 1.41-.59l7.78-7.78 2.81-2.81c.8-.78.8-2.07 0-2.86zM5.41 20L4 18.59l7.72-7.72 1.47 1.35L5.41 20z\"/>\n",
              "  </svg>\n",
              "      </button>\n",
              "      \n",
              "  <style>\n",
              "    .colab-df-container {\n",
              "      display:flex;\n",
              "      flex-wrap:wrap;\n",
              "      gap: 12px;\n",
              "    }\n",
              "\n",
              "    .colab-df-convert {\n",
              "      background-color: #E8F0FE;\n",
              "      border: none;\n",
              "      border-radius: 50%;\n",
              "      cursor: pointer;\n",
              "      display: none;\n",
              "      fill: #1967D2;\n",
              "      height: 32px;\n",
              "      padding: 0 0 0 0;\n",
              "      width: 32px;\n",
              "    }\n",
              "\n",
              "    .colab-df-convert:hover {\n",
              "      background-color: #E2EBFA;\n",
              "      box-shadow: 0px 1px 2px rgba(60, 64, 67, 0.3), 0px 1px 3px 1px rgba(60, 64, 67, 0.15);\n",
              "      fill: #174EA6;\n",
              "    }\n",
              "\n",
              "    [theme=dark] .colab-df-convert {\n",
              "      background-color: #3B4455;\n",
              "      fill: #D2E3FC;\n",
              "    }\n",
              "\n",
              "    [theme=dark] .colab-df-convert:hover {\n",
              "      background-color: #434B5C;\n",
              "      box-shadow: 0px 1px 3px 1px rgba(0, 0, 0, 0.15);\n",
              "      filter: drop-shadow(0px 1px 2px rgba(0, 0, 0, 0.3));\n",
              "      fill: #FFFFFF;\n",
              "    }\n",
              "  </style>\n",
              "\n",
              "      <script>\n",
              "        const buttonEl =\n",
              "          document.querySelector('#df-a7edd928-7a04-4308-a826-74a6959f86b3 button.colab-df-convert');\n",
              "        buttonEl.style.display =\n",
              "          google.colab.kernel.accessAllowed ? 'block' : 'none';\n",
              "\n",
              "        async function convertToInteractive(key) {\n",
              "          const element = document.querySelector('#df-a7edd928-7a04-4308-a826-74a6959f86b3');\n",
              "          const dataTable =\n",
              "            await google.colab.kernel.invokeFunction('convertToInteractive',\n",
              "                                                     [key], {});\n",
              "          if (!dataTable) return;\n",
              "\n",
              "          const docLinkHtml = 'Like what you see? Visit the ' +\n",
              "            '<a target=\"_blank\" href=https://colab.research.google.com/notebooks/data_table.ipynb>data table notebook</a>'\n",
              "            + ' to learn more about interactive tables.';\n",
              "          element.innerHTML = '';\n",
              "          dataTable['output_type'] = 'display_data';\n",
              "          await google.colab.output.renderOutput(dataTable, element);\n",
              "          const docLink = document.createElement('div');\n",
              "          docLink.innerHTML = docLinkHtml;\n",
              "          element.appendChild(docLink);\n",
              "        }\n",
              "      </script>\n",
              "    </div>\n",
              "  </div>\n",
              "  "
            ]
          },
          "metadata": {},
          "execution_count": 40
        }
      ],
      "source": [
        "test_df.head()"
      ]
    },
    {
      "cell_type": "code",
      "execution_count": null,
      "id": "359fc716",
      "metadata": {
        "execution": {
          "iopub.execute_input": "2023-06-22T19:17:32.017439Z",
          "iopub.status.busy": "2023-06-22T19:17:32.017052Z",
          "iopub.status.idle": "2023-06-22T19:17:32.222117Z",
          "shell.execute_reply": "2023-06-22T19:17:32.220925Z"
        },
        "papermill": {
          "duration": 0.227838,
          "end_time": "2023-06-22T19:17:32.224384",
          "exception": false,
          "start_time": "2023-06-22T19:17:31.996546",
          "status": "completed"
        },
        "tags": [],
        "id": "359fc716",
        "outputId": "ebcd9978-2766-4f48-edfb-4638a4de81f6",
        "colab": {
          "base_uri": "https://localhost:8080/",
          "height": 143
        }
      },
      "outputs": [
        {
          "output_type": "execute_result",
          "data": {
            "text/plain": [
              "        text_id                                          full_text  \\\n",
              "0  0000C359D63E  when a person has no experience on a job their...   \n",
              "1  000BAD50D026  Do you think students would benefit from being...   \n",
              "2  00367BB2546B  Thomas Jefferson once states that \"it is wonde...   \n",
              "\n",
              "                                          clean_text  \n",
              "0  person experience job always going good people...  \n",
              "1  think students would benefit able attend class...  \n",
              "2  thomas jefferson states wonderful much get don...  "
            ],
            "text/html": [
              "\n",
              "  <div id=\"df-d8449f7c-dacb-40ce-ada9-cd2141fb66ad\">\n",
              "    <div class=\"colab-df-container\">\n",
              "      <div>\n",
              "<style scoped>\n",
              "    .dataframe tbody tr th:only-of-type {\n",
              "        vertical-align: middle;\n",
              "    }\n",
              "\n",
              "    .dataframe tbody tr th {\n",
              "        vertical-align: top;\n",
              "    }\n",
              "\n",
              "    .dataframe thead th {\n",
              "        text-align: right;\n",
              "    }\n",
              "</style>\n",
              "<table border=\"1\" class=\"dataframe\">\n",
              "  <thead>\n",
              "    <tr style=\"text-align: right;\">\n",
              "      <th></th>\n",
              "      <th>text_id</th>\n",
              "      <th>full_text</th>\n",
              "      <th>clean_text</th>\n",
              "    </tr>\n",
              "  </thead>\n",
              "  <tbody>\n",
              "    <tr>\n",
              "      <th>0</th>\n",
              "      <td>0000C359D63E</td>\n",
              "      <td>when a person has no experience on a job their...</td>\n",
              "      <td>person experience job always going good people...</td>\n",
              "    </tr>\n",
              "    <tr>\n",
              "      <th>1</th>\n",
              "      <td>000BAD50D026</td>\n",
              "      <td>Do you think students would benefit from being...</td>\n",
              "      <td>think students would benefit able attend class...</td>\n",
              "    </tr>\n",
              "    <tr>\n",
              "      <th>2</th>\n",
              "      <td>00367BB2546B</td>\n",
              "      <td>Thomas Jefferson once states that \"it is wonde...</td>\n",
              "      <td>thomas jefferson states wonderful much get don...</td>\n",
              "    </tr>\n",
              "  </tbody>\n",
              "</table>\n",
              "</div>\n",
              "      <button class=\"colab-df-convert\" onclick=\"convertToInteractive('df-d8449f7c-dacb-40ce-ada9-cd2141fb66ad')\"\n",
              "              title=\"Convert this dataframe to an interactive table.\"\n",
              "              style=\"display:none;\">\n",
              "        \n",
              "  <svg xmlns=\"http://www.w3.org/2000/svg\" height=\"24px\"viewBox=\"0 0 24 24\"\n",
              "       width=\"24px\">\n",
              "    <path d=\"M0 0h24v24H0V0z\" fill=\"none\"/>\n",
              "    <path d=\"M18.56 5.44l.94 2.06.94-2.06 2.06-.94-2.06-.94-.94-2.06-.94 2.06-2.06.94zm-11 1L8.5 8.5l.94-2.06 2.06-.94-2.06-.94L8.5 2.5l-.94 2.06-2.06.94zm10 10l.94 2.06.94-2.06 2.06-.94-2.06-.94-.94-2.06-.94 2.06-2.06.94z\"/><path d=\"M17.41 7.96l-1.37-1.37c-.4-.4-.92-.59-1.43-.59-.52 0-1.04.2-1.43.59L10.3 9.45l-7.72 7.72c-.78.78-.78 2.05 0 2.83L4 21.41c.39.39.9.59 1.41.59.51 0 1.02-.2 1.41-.59l7.78-7.78 2.81-2.81c.8-.78.8-2.07 0-2.86zM5.41 20L4 18.59l7.72-7.72 1.47 1.35L5.41 20z\"/>\n",
              "  </svg>\n",
              "      </button>\n",
              "      \n",
              "  <style>\n",
              "    .colab-df-container {\n",
              "      display:flex;\n",
              "      flex-wrap:wrap;\n",
              "      gap: 12px;\n",
              "    }\n",
              "\n",
              "    .colab-df-convert {\n",
              "      background-color: #E8F0FE;\n",
              "      border: none;\n",
              "      border-radius: 50%;\n",
              "      cursor: pointer;\n",
              "      display: none;\n",
              "      fill: #1967D2;\n",
              "      height: 32px;\n",
              "      padding: 0 0 0 0;\n",
              "      width: 32px;\n",
              "    }\n",
              "\n",
              "    .colab-df-convert:hover {\n",
              "      background-color: #E2EBFA;\n",
              "      box-shadow: 0px 1px 2px rgba(60, 64, 67, 0.3), 0px 1px 3px 1px rgba(60, 64, 67, 0.15);\n",
              "      fill: #174EA6;\n",
              "    }\n",
              "\n",
              "    [theme=dark] .colab-df-convert {\n",
              "      background-color: #3B4455;\n",
              "      fill: #D2E3FC;\n",
              "    }\n",
              "\n",
              "    [theme=dark] .colab-df-convert:hover {\n",
              "      background-color: #434B5C;\n",
              "      box-shadow: 0px 1px 3px 1px rgba(0, 0, 0, 0.15);\n",
              "      filter: drop-shadow(0px 1px 2px rgba(0, 0, 0, 0.3));\n",
              "      fill: #FFFFFF;\n",
              "    }\n",
              "  </style>\n",
              "\n",
              "      <script>\n",
              "        const buttonEl =\n",
              "          document.querySelector('#df-d8449f7c-dacb-40ce-ada9-cd2141fb66ad button.colab-df-convert');\n",
              "        buttonEl.style.display =\n",
              "          google.colab.kernel.accessAllowed ? 'block' : 'none';\n",
              "\n",
              "        async function convertToInteractive(key) {\n",
              "          const element = document.querySelector('#df-d8449f7c-dacb-40ce-ada9-cd2141fb66ad');\n",
              "          const dataTable =\n",
              "            await google.colab.kernel.invokeFunction('convertToInteractive',\n",
              "                                                     [key], {});\n",
              "          if (!dataTable) return;\n",
              "\n",
              "          const docLinkHtml = 'Like what you see? Visit the ' +\n",
              "            '<a target=\"_blank\" href=https://colab.research.google.com/notebooks/data_table.ipynb>data table notebook</a>'\n",
              "            + ' to learn more about interactive tables.';\n",
              "          element.innerHTML = '';\n",
              "          dataTable['output_type'] = 'display_data';\n",
              "          await google.colab.output.renderOutput(dataTable, element);\n",
              "          const docLink = document.createElement('div');\n",
              "          docLink.innerHTML = docLinkHtml;\n",
              "          element.appendChild(docLink);\n",
              "        }\n",
              "      </script>\n",
              "    </div>\n",
              "  </div>\n",
              "  "
            ]
          },
          "metadata": {},
          "execution_count": 41
        }
      ],
      "source": [
        "# Clean text, check & remove numbers\n",
        "test_df['clean_text'] = test_df['full_text'].apply(text_preprocess)\n",
        "test_df['clean_text'] = test_df['clean_text'].map(lambda x: check_num(x))\n",
        "test_df['clean_text'] = test_df['clean_text'].str.replace('http','')\n",
        "test_df['clean_text'] = test_df['clean_text'].str.replace('https','')\n",
        "test_df.head()"
      ]
    },
    {
      "cell_type": "code",
      "execution_count": null,
      "id": "5a308f33",
      "metadata": {
        "execution": {
          "iopub.execute_input": "2023-06-22T19:17:32.266015Z",
          "iopub.status.busy": "2023-06-22T19:17:32.265603Z",
          "iopub.status.idle": "2023-06-22T19:17:32.273311Z",
          "shell.execute_reply": "2023-06-22T19:17:32.272213Z"
        },
        "papermill": {
          "duration": 0.031776,
          "end_time": "2023-06-22T19:17:32.275466",
          "exception": false,
          "start_time": "2023-06-22T19:17:32.243690",
          "status": "completed"
        },
        "tags": [],
        "id": "5a308f33",
        "outputId": "63a447d7-cc7b-4fdc-8f51-d98de9607883",
        "colab": {
          "base_uri": "https://localhost:8080/"
        }
      },
      "outputs": [
        {
          "output_type": "execute_result",
          "data": {
            "text/plain": [
              "0    person experience job always going good people...\n",
              "1    think students would benefit able attend class...\n",
              "2    thomas jefferson states wonderful much get don...\n",
              "Name: clean_text, dtype: object"
            ]
          },
          "metadata": {},
          "execution_count": 42
        }
      ],
      "source": [
        "test_df['clean_text']"
      ]
    },
    {
      "cell_type": "code",
      "execution_count": null,
      "id": "3bb3054d",
      "metadata": {
        "execution": {
          "iopub.execute_input": "2023-06-22T19:17:32.318013Z",
          "iopub.status.busy": "2023-06-22T19:17:32.317162Z",
          "iopub.status.idle": "2023-06-22T19:17:32.330969Z",
          "shell.execute_reply": "2023-06-22T19:17:32.329674Z"
        },
        "papermill": {
          "duration": 0.038296,
          "end_time": "2023-06-22T19:17:32.333403",
          "exception": false,
          "start_time": "2023-06-22T19:17:32.295107",
          "status": "completed"
        },
        "tags": [],
        "id": "3bb3054d"
      },
      "outputs": [],
      "source": [
        "# Train embeddings\n",
        "test_embeddings = get_tfhub_embeddings(tf_model, test_df[\"clean_text\"])"
      ]
    },
    {
      "cell_type": "code",
      "execution_count": null,
      "id": "d6607021",
      "metadata": {
        "execution": {
          "iopub.execute_input": "2023-06-22T19:17:32.374093Z",
          "iopub.status.busy": "2023-06-22T19:17:32.373530Z",
          "iopub.status.idle": "2023-06-22T19:17:32.816639Z",
          "shell.execute_reply": "2023-06-22T19:17:32.815714Z"
        },
        "papermill": {
          "duration": 0.465995,
          "end_time": "2023-06-22T19:17:32.818775",
          "exception": false,
          "start_time": "2023-06-22T19:17:32.352780",
          "status": "completed"
        },
        "tags": [],
        "id": "d6607021",
        "outputId": "d41b72eb-3671-473a-dc96-00807cb786a8",
        "colab": {
          "base_uri": "https://localhost:8080/"
        }
      },
      "outputs": [
        {
          "output_type": "stream",
          "name": "stdout",
          "text": [
            "1/1 [==============================] - 0s 431ms/step\n"
          ]
        }
      ],
      "source": [
        "preds = model.predict(test_embeddings)"
      ]
    },
    {
      "cell_type": "code",
      "execution_count": null,
      "id": "ee0ceae3",
      "metadata": {
        "execution": {
          "iopub.execute_input": "2023-06-22T19:17:32.862432Z",
          "iopub.status.busy": "2023-06-22T19:17:32.861782Z",
          "iopub.status.idle": "2023-06-22T19:17:32.870579Z",
          "shell.execute_reply": "2023-06-22T19:17:32.869510Z"
        },
        "papermill": {
          "duration": 0.033907,
          "end_time": "2023-06-22T19:17:32.872702",
          "exception": false,
          "start_time": "2023-06-22T19:17:32.838795",
          "status": "completed"
        },
        "tags": [],
        "id": "ee0ceae3",
        "outputId": "1448c886-4e2f-41fe-bac3-55961b3231e0",
        "colab": {
          "base_uri": "https://localhost:8080/"
        }
      },
      "outputs": [
        {
          "output_type": "execute_result",
          "data": {
            "text/plain": [
              "array([[3.1268702, 0.       , 3.55022  , 2.937745 , 2.9168682, 3.0678525],\n",
              "       [3.1268702, 0.       , 3.55022  , 2.937745 , 2.9168682, 3.0678525],\n",
              "       [3.1268702, 0.       , 3.55022  , 2.937745 , 2.9168682, 3.0678525]],\n",
              "      dtype=float32)"
            ]
          },
          "metadata": {},
          "execution_count": 45
        }
      ],
      "source": [
        "preds"
      ]
    },
    {
      "cell_type": "code",
      "execution_count": null,
      "id": "bcef6c66",
      "metadata": {
        "execution": {
          "iopub.execute_input": "2023-06-22T19:17:32.915832Z",
          "iopub.status.busy": "2023-06-22T19:17:32.914752Z",
          "iopub.status.idle": "2023-06-22T19:17:32.920657Z",
          "shell.execute_reply": "2023-06-22T19:17:32.919904Z"
        },
        "papermill": {
          "duration": 0.029464,
          "end_time": "2023-06-22T19:17:32.922709",
          "exception": false,
          "start_time": "2023-06-22T19:17:32.893245",
          "status": "completed"
        },
        "tags": [],
        "id": "bcef6c66"
      },
      "outputs": [],
      "source": [
        "# Create a submission file\n",
        "submission_df = pd.DataFrame(preds, columns=['cohesion', 'syntax', 'vocabulary', 'phraseology', 'grammar', 'conventions'])"
      ]
    },
    {
      "cell_type": "code",
      "execution_count": null,
      "id": "c10d6bd4",
      "metadata": {
        "execution": {
          "iopub.execute_input": "2023-06-22T19:17:32.965584Z",
          "iopub.status.busy": "2023-06-22T19:17:32.964792Z",
          "iopub.status.idle": "2023-06-22T19:17:32.971200Z",
          "shell.execute_reply": "2023-06-22T19:17:32.970190Z"
        },
        "papermill": {
          "duration": 0.029961,
          "end_time": "2023-06-22T19:17:32.973329",
          "exception": false,
          "start_time": "2023-06-22T19:17:32.943368",
          "status": "completed"
        },
        "tags": [],
        "id": "c10d6bd4"
      },
      "outputs": [],
      "source": [
        "submission_df.insert(0, 'text_id', test_df['text_id'])"
      ]
    },
    {
      "cell_type": "code",
      "execution_count": null,
      "id": "c84f5042",
      "metadata": {
        "execution": {
          "iopub.execute_input": "2023-06-22T19:17:33.015824Z",
          "iopub.status.busy": "2023-06-22T19:17:33.015429Z",
          "iopub.status.idle": "2023-06-22T19:17:33.029029Z",
          "shell.execute_reply": "2023-06-22T19:17:33.027905Z"
        },
        "papermill": {
          "duration": 0.037498,
          "end_time": "2023-06-22T19:17:33.031097",
          "exception": false,
          "start_time": "2023-06-22T19:17:32.993599",
          "status": "completed"
        },
        "tags": [],
        "id": "c84f5042",
        "outputId": "7899aa77-7e27-4fae-f01c-bb04a7cf654f",
        "colab": {
          "base_uri": "https://localhost:8080/",
          "height": 143
        }
      },
      "outputs": [
        {
          "output_type": "execute_result",
          "data": {
            "text/plain": [
              "        text_id  cohesion  syntax  vocabulary  phraseology   grammar  \\\n",
              "0  0000C359D63E   3.12687     0.0     3.55022     2.937745  2.916868   \n",
              "1  000BAD50D026   3.12687     0.0     3.55022     2.937745  2.916868   \n",
              "2  00367BB2546B   3.12687     0.0     3.55022     2.937745  2.916868   \n",
              "\n",
              "   conventions  \n",
              "0     3.067852  \n",
              "1     3.067852  \n",
              "2     3.067852  "
            ],
            "text/html": [
              "\n",
              "  <div id=\"df-e76af3ac-8046-4058-9830-3663e070a012\">\n",
              "    <div class=\"colab-df-container\">\n",
              "      <div>\n",
              "<style scoped>\n",
              "    .dataframe tbody tr th:only-of-type {\n",
              "        vertical-align: middle;\n",
              "    }\n",
              "\n",
              "    .dataframe tbody tr th {\n",
              "        vertical-align: top;\n",
              "    }\n",
              "\n",
              "    .dataframe thead th {\n",
              "        text-align: right;\n",
              "    }\n",
              "</style>\n",
              "<table border=\"1\" class=\"dataframe\">\n",
              "  <thead>\n",
              "    <tr style=\"text-align: right;\">\n",
              "      <th></th>\n",
              "      <th>text_id</th>\n",
              "      <th>cohesion</th>\n",
              "      <th>syntax</th>\n",
              "      <th>vocabulary</th>\n",
              "      <th>phraseology</th>\n",
              "      <th>grammar</th>\n",
              "      <th>conventions</th>\n",
              "    </tr>\n",
              "  </thead>\n",
              "  <tbody>\n",
              "    <tr>\n",
              "      <th>0</th>\n",
              "      <td>0000C359D63E</td>\n",
              "      <td>3.12687</td>\n",
              "      <td>0.0</td>\n",
              "      <td>3.55022</td>\n",
              "      <td>2.937745</td>\n",
              "      <td>2.916868</td>\n",
              "      <td>3.067852</td>\n",
              "    </tr>\n",
              "    <tr>\n",
              "      <th>1</th>\n",
              "      <td>000BAD50D026</td>\n",
              "      <td>3.12687</td>\n",
              "      <td>0.0</td>\n",
              "      <td>3.55022</td>\n",
              "      <td>2.937745</td>\n",
              "      <td>2.916868</td>\n",
              "      <td>3.067852</td>\n",
              "    </tr>\n",
              "    <tr>\n",
              "      <th>2</th>\n",
              "      <td>00367BB2546B</td>\n",
              "      <td>3.12687</td>\n",
              "      <td>0.0</td>\n",
              "      <td>3.55022</td>\n",
              "      <td>2.937745</td>\n",
              "      <td>2.916868</td>\n",
              "      <td>3.067852</td>\n",
              "    </tr>\n",
              "  </tbody>\n",
              "</table>\n",
              "</div>\n",
              "      <button class=\"colab-df-convert\" onclick=\"convertToInteractive('df-e76af3ac-8046-4058-9830-3663e070a012')\"\n",
              "              title=\"Convert this dataframe to an interactive table.\"\n",
              "              style=\"display:none;\">\n",
              "        \n",
              "  <svg xmlns=\"http://www.w3.org/2000/svg\" height=\"24px\"viewBox=\"0 0 24 24\"\n",
              "       width=\"24px\">\n",
              "    <path d=\"M0 0h24v24H0V0z\" fill=\"none\"/>\n",
              "    <path d=\"M18.56 5.44l.94 2.06.94-2.06 2.06-.94-2.06-.94-.94-2.06-.94 2.06-2.06.94zm-11 1L8.5 8.5l.94-2.06 2.06-.94-2.06-.94L8.5 2.5l-.94 2.06-2.06.94zm10 10l.94 2.06.94-2.06 2.06-.94-2.06-.94-.94-2.06-.94 2.06-2.06.94z\"/><path d=\"M17.41 7.96l-1.37-1.37c-.4-.4-.92-.59-1.43-.59-.52 0-1.04.2-1.43.59L10.3 9.45l-7.72 7.72c-.78.78-.78 2.05 0 2.83L4 21.41c.39.39.9.59 1.41.59.51 0 1.02-.2 1.41-.59l7.78-7.78 2.81-2.81c.8-.78.8-2.07 0-2.86zM5.41 20L4 18.59l7.72-7.72 1.47 1.35L5.41 20z\"/>\n",
              "  </svg>\n",
              "      </button>\n",
              "      \n",
              "  <style>\n",
              "    .colab-df-container {\n",
              "      display:flex;\n",
              "      flex-wrap:wrap;\n",
              "      gap: 12px;\n",
              "    }\n",
              "\n",
              "    .colab-df-convert {\n",
              "      background-color: #E8F0FE;\n",
              "      border: none;\n",
              "      border-radius: 50%;\n",
              "      cursor: pointer;\n",
              "      display: none;\n",
              "      fill: #1967D2;\n",
              "      height: 32px;\n",
              "      padding: 0 0 0 0;\n",
              "      width: 32px;\n",
              "    }\n",
              "\n",
              "    .colab-df-convert:hover {\n",
              "      background-color: #E2EBFA;\n",
              "      box-shadow: 0px 1px 2px rgba(60, 64, 67, 0.3), 0px 1px 3px 1px rgba(60, 64, 67, 0.15);\n",
              "      fill: #174EA6;\n",
              "    }\n",
              "\n",
              "    [theme=dark] .colab-df-convert {\n",
              "      background-color: #3B4455;\n",
              "      fill: #D2E3FC;\n",
              "    }\n",
              "\n",
              "    [theme=dark] .colab-df-convert:hover {\n",
              "      background-color: #434B5C;\n",
              "      box-shadow: 0px 1px 3px 1px rgba(0, 0, 0, 0.15);\n",
              "      filter: drop-shadow(0px 1px 2px rgba(0, 0, 0, 0.3));\n",
              "      fill: #FFFFFF;\n",
              "    }\n",
              "  </style>\n",
              "\n",
              "      <script>\n",
              "        const buttonEl =\n",
              "          document.querySelector('#df-e76af3ac-8046-4058-9830-3663e070a012 button.colab-df-convert');\n",
              "        buttonEl.style.display =\n",
              "          google.colab.kernel.accessAllowed ? 'block' : 'none';\n",
              "\n",
              "        async function convertToInteractive(key) {\n",
              "          const element = document.querySelector('#df-e76af3ac-8046-4058-9830-3663e070a012');\n",
              "          const dataTable =\n",
              "            await google.colab.kernel.invokeFunction('convertToInteractive',\n",
              "                                                     [key], {});\n",
              "          if (!dataTable) return;\n",
              "\n",
              "          const docLinkHtml = 'Like what you see? Visit the ' +\n",
              "            '<a target=\"_blank\" href=https://colab.research.google.com/notebooks/data_table.ipynb>data table notebook</a>'\n",
              "            + ' to learn more about interactive tables.';\n",
              "          element.innerHTML = '';\n",
              "          dataTable['output_type'] = 'display_data';\n",
              "          await google.colab.output.renderOutput(dataTable, element);\n",
              "          const docLink = document.createElement('div');\n",
              "          docLink.innerHTML = docLinkHtml;\n",
              "          element.appendChild(docLink);\n",
              "        }\n",
              "      </script>\n",
              "    </div>\n",
              "  </div>\n",
              "  "
            ]
          },
          "metadata": {},
          "execution_count": 48
        }
      ],
      "source": [
        "submission_df"
      ]
    },
    {
      "cell_type": "code",
      "source": [],
      "metadata": {
        "id": "BXp2624nXFR1"
      },
      "id": "BXp2624nXFR1",
      "execution_count": null,
      "outputs": []
    }
  ],
  "metadata": {
    "kernelspec": {
      "display_name": "Python 3",
      "language": "python",
      "name": "python3"
    },
    "language_info": {
      "codemirror_mode": {
        "name": "ipython",
        "version": 3
      },
      "file_extension": ".py",
      "mimetype": "text/x-python",
      "name": "python",
      "nbconvert_exporter": "python",
      "pygments_lexer": "ipython3",
      "version": "3.10.10"
    },
    "papermill": {
      "default_parameters": {},
      "duration": 318.842379,
      "end_time": "2023-06-22T19:17:36.534020",
      "environment_variables": {},
      "exception": null,
      "input_path": "__notebook__.ipynb",
      "output_path": "__notebook__.ipynb",
      "parameters": {},
      "start_time": "2023-06-22T19:12:17.691641",
      "version": "2.4.0"
    },
    "colab": {
      "provenance": []
    }
  },
  "nbformat": 4,
  "nbformat_minor": 5
}